{
 "cells": [
  {
   "cell_type": "markdown",
   "metadata": {},
   "source": [
    "# Customer Retention"
   ]
  },
  {
   "cell_type": "markdown",
   "metadata": {},
   "source": [
    "## E-retail factors for customer activation and retention: A case study from Indian e-commerce customers\n"
   ]
  },
  {
   "cell_type": "markdown",
   "metadata": {},
   "source": [
    "Customer satisfaction has emerged as one of the most important factors that guarantee the success of online store, It has been posited as a key stimulant of purchase, repurchase intentions and customer loyalty. \n",
    "\n",
    "A comprehensive review of the literature, theories and models have been carried out to propose the models for customer activation and customer retention. \n",
    "\n",
    "Five major factors that contributed to the success of an e-commerce store have been identified as: \n",
    "    1. Service quality\n",
    "    2. System quality\n",
    "    3. Information quality\n",
    "    4. Trust and \n",
    "    5. Net benefit. \n",
    "    \n",
    "The research further more investigated the factors that influence the online customers repeat purchase intention. The combination of both utilitarian value and hedonistic values are needed to affect the repeat purchase intention positively. "
   ]
  },
  {
   "cell_type": "markdown",
   "metadata": {},
   "source": [
    "Importing the required libraries\n",
    "\n",
    "Data Analysing\n",
    "\n",
    "Exploratory data analysis(EDA)\n",
    "\n",
    "Data Preprocessing"
   ]
  },
  {
   "cell_type": "markdown",
   "metadata": {},
   "source": [
    "# Importing the required libraries"
   ]
  },
  {
   "cell_type": "code",
   "execution_count": 1,
   "metadata": {},
   "outputs": [],
   "source": [
    "import pandas as pd\n",
    "import numpy as np\n",
    "import matplotlib.pyplot as plt\n",
    "import seaborn as sb\n",
    "from scipy import stats\n",
    "from sklearn.preprocessing import LabelEncoder\n",
    "import warnings\n",
    "warnings.filterwarnings('ignore')\n",
    "pd.set_option('display.max_rows', 500)\n",
    "pd.set_option('display.max_columns', 500)\n",
    "pd.set_option('display.width', 1000)"
   ]
  },
  {
   "cell_type": "markdown",
   "metadata": {},
   "source": [
    "The data is collected from the Indian online shoppers. Results indicate the e-retail success factors"
   ]
  },
  {
   "cell_type": "code",
   "execution_count": 2,
   "metadata": {
    "scrolled": false
   },
   "outputs": [
    {
     "data": {
      "text/html": [
       "<div>\n",
       "<style scoped>\n",
       "    .dataframe tbody tr th:only-of-type {\n",
       "        vertical-align: middle;\n",
       "    }\n",
       "\n",
       "    .dataframe tbody tr th {\n",
       "        vertical-align: top;\n",
       "    }\n",
       "\n",
       "    .dataframe thead th {\n",
       "        text-align: right;\n",
       "    }\n",
       "</style>\n",
       "<table border=\"1\" class=\"dataframe\">\n",
       "  <thead>\n",
       "    <tr style=\"text-align: right;\">\n",
       "      <th></th>\n",
       "      <th>1Gender of respondent</th>\n",
       "      <th>2 How old are you?</th>\n",
       "      <th>3 Which city do you shop online from?</th>\n",
       "      <th>4 What is the Pin Code of where you shop online from?</th>\n",
       "      <th>5 Since How Long You are Shopping Online ?</th>\n",
       "      <th>6 How many times you have made an online purchase in the past 1 year?</th>\n",
       "      <th>7 How do you access the internet while shopping on-line?</th>\n",
       "      <th>8 Which device do you use to access the online shopping?</th>\n",
       "      <th>9 What is the screen size of your mobile device?\\t\\t\\t\\t\\t\\t</th>\n",
       "      <th>10 What is the operating system (OS) of your device?\\t\\t\\t\\t</th>\n",
       "      <th>11 What browser do you run on your device to access the website?\\t\\t\\t</th>\n",
       "      <th>12 Which channel did you follow to arrive at your favorite online store for the first time?</th>\n",
       "      <th>13 After first visit, how do you reach the online retail store?\\t\\t\\t\\t</th>\n",
       "      <th>14 How much time do you explore the e- retail store before making a purchase decision?</th>\n",
       "      <th>15 What is your preferred payment Option?\\t\\t\\t\\t\\t</th>\n",
       "      <th>16 How frequently do you abandon (selecting an items and leaving without making payment) your shopping cart?\\t\\t\\t\\t\\t\\t\\t</th>\n",
       "      <th>17 Why did you abandon the “Bag”, “Shopping Cart”?\\t\\t\\t\\t\\t</th>\n",
       "      <th>18 The content on the website must be easy to read and understand</th>\n",
       "      <th>19 Information on similar product to the one highlighted  is important for product comparison</th>\n",
       "      <th>20 Complete information on listed seller and product being offered is important for purchase decision.</th>\n",
       "      <th>21 All relevant information on listed products must be stated clearly</th>\n",
       "      <th>22 Ease of navigation in website</th>\n",
       "      <th>23 Loading and processing speed</th>\n",
       "      <th>24 User friendly Interface of the website</th>\n",
       "      <th>25 Convenient Payment methods</th>\n",
       "      <th>26 Trust that the online retail store will fulfill its part of the transaction at the stipulated time</th>\n",
       "      <th>27 Empathy (readiness to assist with queries) towards the customers</th>\n",
       "      <th>28 Being able to guarantee the privacy of the customer</th>\n",
       "      <th>29 Responsiveness, availability of several communication channels (email, online rep, twitter, phone etc.)</th>\n",
       "      <th>30 Online shopping gives monetary benefit and discounts</th>\n",
       "      <th>31 Enjoyment is derived from shopping online</th>\n",
       "      <th>32 Shopping online is convenient and flexible</th>\n",
       "      <th>33 Return and replacement policy of the e-tailer is important for purchase decision</th>\n",
       "      <th>34 Gaining access to loyalty programs is a benefit of shopping online</th>\n",
       "      <th>35 Displaying quality Information on the website improves satisfaction of customers</th>\n",
       "      <th>36 User derive satisfaction while shopping on a good quality website or application</th>\n",
       "      <th>37 Net Benefit derived from shopping online can lead to users satisfaction</th>\n",
       "      <th>38 User satisfaction cannot exist without trust</th>\n",
       "      <th>39 Offering a wide variety of listed product in several category</th>\n",
       "      <th>40 Provision of complete and relevant product information</th>\n",
       "      <th>41 Monetary savings</th>\n",
       "      <th>42 The Convenience of patronizing the online retailer</th>\n",
       "      <th>43 Shopping on the website gives you the sense of adventure</th>\n",
       "      <th>44 Shopping on your preferred e-tailer enhances your social status</th>\n",
       "      <th>45 You feel gratification shopping on your favorite e-tailer</th>\n",
       "      <th>46 Shopping on the website helps you fulfill certain roles</th>\n",
       "      <th>47 Getting value for money spent</th>\n",
       "      <th>From the following, tick any (or all) of the online retailers you have shopped from;</th>\n",
       "      <th>Easy to use website or application</th>\n",
       "      <th>Visual appealing web-page layout</th>\n",
       "      <th>Wild variety of product on offer</th>\n",
       "      <th>Complete, relevant description information of products</th>\n",
       "      <th>Fast loading website speed of website and application</th>\n",
       "      <th>Reliability of the website or application</th>\n",
       "      <th>Quickness to complete purchase</th>\n",
       "      <th>Availability of several payment options</th>\n",
       "      <th>Speedy order delivery</th>\n",
       "      <th>Privacy of customers’ information</th>\n",
       "      <th>Security of customer financial information</th>\n",
       "      <th>Perceived Trustworthiness</th>\n",
       "      <th>Presence of online assistance through multi-channel</th>\n",
       "      <th>Longer time to get logged in (promotion, sales period)</th>\n",
       "      <th>Longer time in displaying graphics and photos (promotion, sales period)</th>\n",
       "      <th>Late declaration of price (promotion, sales period)</th>\n",
       "      <th>Longer page loading time (promotion, sales period)</th>\n",
       "      <th>Limited mode of payment on most products (promotion, sales period)</th>\n",
       "      <th>Longer delivery period</th>\n",
       "      <th>Change in website/Application design</th>\n",
       "      <th>Frequent disruption when moving from one page to another</th>\n",
       "      <th>Website is as efficient as before</th>\n",
       "      <th>Which of the Indian online retailer would you recommend to a friend?</th>\n",
       "    </tr>\n",
       "  </thead>\n",
       "  <tbody>\n",
       "    <tr>\n",
       "      <th>0</th>\n",
       "      <td>Male</td>\n",
       "      <td>31-40 years</td>\n",
       "      <td>Delhi</td>\n",
       "      <td>110009</td>\n",
       "      <td>Above 4 years</td>\n",
       "      <td>31-40 times</td>\n",
       "      <td>Dial-up</td>\n",
       "      <td>Desktop</td>\n",
       "      <td>Others</td>\n",
       "      <td>Window/windows Mobile</td>\n",
       "      <td>Google chrome</td>\n",
       "      <td>Search Engine</td>\n",
       "      <td>Search Engine</td>\n",
       "      <td>6-10 mins</td>\n",
       "      <td>E-wallets (Paytm, Freecharge etc.)</td>\n",
       "      <td>Sometimes</td>\n",
       "      <td>Lack of trust</td>\n",
       "      <td>Agree (4)</td>\n",
       "      <td>Indifferent (3)</td>\n",
       "      <td>Indifferent (3)</td>\n",
       "      <td>Agree (4)</td>\n",
       "      <td>Agree (4)</td>\n",
       "      <td>Strongly disagree (1)</td>\n",
       "      <td>Dis-agree (2)</td>\n",
       "      <td>Dis-agree (2)</td>\n",
       "      <td>Disagree (2)</td>\n",
       "      <td>Strongly agree (5)</td>\n",
       "      <td>Agree (4)</td>\n",
       "      <td>Agree (4)</td>\n",
       "      <td>indifferent (3)</td>\n",
       "      <td>Strongly disagree (1)</td>\n",
       "      <td>Dis-agree (2)</td>\n",
       "      <td>Dis-agree (2)</td>\n",
       "      <td>Agree (4)</td>\n",
       "      <td>indifferent (3)</td>\n",
       "      <td>Strongly agree (5)</td>\n",
       "      <td>Agree (4)</td>\n",
       "      <td>Strongly agree (5)</td>\n",
       "      <td>indifferent (3)</td>\n",
       "      <td>indifferent (3)</td>\n",
       "      <td>Disagree (2)</td>\n",
       "      <td>indifferent (3)</td>\n",
       "      <td>Agree (4)</td>\n",
       "      <td>Agree (4)</td>\n",
       "      <td>Strongly agree (5)</td>\n",
       "      <td>Agree (4)</td>\n",
       "      <td>Strongly agree (5)</td>\n",
       "      <td>Amazon.in, Paytm.com</td>\n",
       "      <td>Paytm.com</td>\n",
       "      <td>Flipkart.com</td>\n",
       "      <td>Flipkart.com</td>\n",
       "      <td>Snapdeal.com</td>\n",
       "      <td>Snapdeal.com</td>\n",
       "      <td>Paytm.com</td>\n",
       "      <td>Paytm.com</td>\n",
       "      <td>Patym.com</td>\n",
       "      <td>Amazon.in</td>\n",
       "      <td>Amazon.in</td>\n",
       "      <td>Amazon.in</td>\n",
       "      <td>Flipkart.com</td>\n",
       "      <td>Paytm.com</td>\n",
       "      <td>Amazon.in</td>\n",
       "      <td>Amazon.in</td>\n",
       "      <td>Flipkart.com</td>\n",
       "      <td>Flipkart.com</td>\n",
       "      <td>Amazon.in</td>\n",
       "      <td>Paytm.com</td>\n",
       "      <td>Flipkart.com</td>\n",
       "      <td>Amazon.in</td>\n",
       "      <td>Amazon.in</td>\n",
       "      <td>Flipkart.com</td>\n",
       "    </tr>\n",
       "    <tr>\n",
       "      <th>1</th>\n",
       "      <td>Female</td>\n",
       "      <td>21-30 years</td>\n",
       "      <td>Delhi</td>\n",
       "      <td>110030</td>\n",
       "      <td>Above 4 years</td>\n",
       "      <td>41 times and above</td>\n",
       "      <td>Wi-Fi</td>\n",
       "      <td>Smartphone</td>\n",
       "      <td>4.7 inches</td>\n",
       "      <td>IOS/Mac</td>\n",
       "      <td>Google chrome</td>\n",
       "      <td>Search Engine</td>\n",
       "      <td>Via application</td>\n",
       "      <td>more than 15 mins</td>\n",
       "      <td>Credit/Debit cards</td>\n",
       "      <td>Very frequently</td>\n",
       "      <td>Promo code not applicable</td>\n",
       "      <td>Strongly agree (5)</td>\n",
       "      <td>Strongly agree (5)</td>\n",
       "      <td>Strongly agree (5)</td>\n",
       "      <td>Strongly agree (5)</td>\n",
       "      <td>Strongly agree (5)</td>\n",
       "      <td>Strongly agree (5)</td>\n",
       "      <td>Strongly agree (5)</td>\n",
       "      <td>Strongly agree (5)</td>\n",
       "      <td>Strongly agree (5)</td>\n",
       "      <td>Strongly agree (5)</td>\n",
       "      <td>Strongly agree (5)</td>\n",
       "      <td>Strongly agree (5)</td>\n",
       "      <td>Strongly agree (5)</td>\n",
       "      <td>Strongly agree (5)</td>\n",
       "      <td>Strongly agree (5)</td>\n",
       "      <td>Strongly agree (5)</td>\n",
       "      <td>Strongly agree (5)</td>\n",
       "      <td>Strongly agree (5)</td>\n",
       "      <td>Strongly agree (5)</td>\n",
       "      <td>Strongly agree (5)</td>\n",
       "      <td>Strongly agree (5)</td>\n",
       "      <td>Strongly agree (5)</td>\n",
       "      <td>Strongly agree (5)</td>\n",
       "      <td>Strongly agree (5)</td>\n",
       "      <td>indifferent (3)</td>\n",
       "      <td>indifferent (3)</td>\n",
       "      <td>indifferent (3)</td>\n",
       "      <td>Strongly agree (5)</td>\n",
       "      <td>Strongly agree (5)</td>\n",
       "      <td>Strongly agree (5)</td>\n",
       "      <td>Amazon.in, Flipkart.com, Myntra.com, Snapdeal.com</td>\n",
       "      <td>Amazon.in, Flipkart.com, Myntra.com, Snapdeal.com</td>\n",
       "      <td>Amazon.in, Myntra.com</td>\n",
       "      <td>Flipkart.com, Myntra.com</td>\n",
       "      <td>Amazon.in, Flipkart.com, Myntra.com</td>\n",
       "      <td>Amazon.in, Flipkart.com, Myntra.com</td>\n",
       "      <td>Myntra.com</td>\n",
       "      <td>Amazon.com, Flipkart.com, Myntra.com</td>\n",
       "      <td>Amazon.in, Flipkart.com, Myntra.com</td>\n",
       "      <td>Amazon.in, Flipkart.com</td>\n",
       "      <td>Myntra.com</td>\n",
       "      <td>Myntra.com</td>\n",
       "      <td>Myntra.com</td>\n",
       "      <td>Amazon.in, Flipkart.com, Myntra.com</td>\n",
       "      <td>Amazon.in, Flipkart.com</td>\n",
       "      <td>Myntra.com</td>\n",
       "      <td>snapdeal.com</td>\n",
       "      <td>Snapdeal.com</td>\n",
       "      <td>Snapdeal.com</td>\n",
       "      <td>Snapdeal.com</td>\n",
       "      <td>Amazon.in</td>\n",
       "      <td>Myntra.com</td>\n",
       "      <td>Amazon.in, Flipkart.com</td>\n",
       "      <td>Amazon.in, Myntra.com</td>\n",
       "    </tr>\n",
       "    <tr>\n",
       "      <th>2</th>\n",
       "      <td>Female</td>\n",
       "      <td>21-30 years</td>\n",
       "      <td>Greater Noida</td>\n",
       "      <td>201308</td>\n",
       "      <td>3-4 years</td>\n",
       "      <td>41 times and above</td>\n",
       "      <td>Mobile Internet</td>\n",
       "      <td>Smartphone</td>\n",
       "      <td>5.5 inches</td>\n",
       "      <td>Android</td>\n",
       "      <td>Google chrome</td>\n",
       "      <td>Search Engine</td>\n",
       "      <td>Via application</td>\n",
       "      <td>11-15 mins</td>\n",
       "      <td>E-wallets (Paytm, Freecharge etc.)</td>\n",
       "      <td>Sometimes</td>\n",
       "      <td>Promo code not applicable</td>\n",
       "      <td>Strongly agree (5)</td>\n",
       "      <td>Agree (4)</td>\n",
       "      <td>Agree (4)</td>\n",
       "      <td>Agree (4)</td>\n",
       "      <td>Agree (4)</td>\n",
       "      <td>Agree (4)</td>\n",
       "      <td>Strongly agree (5)</td>\n",
       "      <td>Strongly agree (5)</td>\n",
       "      <td>Strongly agree (5)</td>\n",
       "      <td>Strongly agree (5)</td>\n",
       "      <td>Strongly agree (5)</td>\n",
       "      <td>Strongly agree (5)</td>\n",
       "      <td>Strongly agree (5)</td>\n",
       "      <td>Strongly agree (5)</td>\n",
       "      <td>Strongly agree (5)</td>\n",
       "      <td>Strongly agree (5)</td>\n",
       "      <td>Strongly agree (5)</td>\n",
       "      <td>Strongly agree (5)</td>\n",
       "      <td>Strongly agree (5)</td>\n",
       "      <td>Strongly agree (5)</td>\n",
       "      <td>Agree (4)</td>\n",
       "      <td>Strongly agree (5)</td>\n",
       "      <td>Strongly agree (5)</td>\n",
       "      <td>Strongly agree (5)</td>\n",
       "      <td>Agree (4)</td>\n",
       "      <td>Agree (4)</td>\n",
       "      <td>Agree (4)</td>\n",
       "      <td>indifferent (3)</td>\n",
       "      <td>indifferent (3)</td>\n",
       "      <td>Agree (4)</td>\n",
       "      <td>Amazon.in, Paytm.com, Myntra.com</td>\n",
       "      <td>Amazon.in, Paytm.com, Myntra.com</td>\n",
       "      <td>Amazon.in, Paytm.com, Myntra.com</td>\n",
       "      <td>Amazon.in, Myntra.com</td>\n",
       "      <td>Amazon.in, Paytm.com, Myntra.com</td>\n",
       "      <td>Amazon.in, Paytm.com</td>\n",
       "      <td>Amazon.in, Paytm.com, Myntra.com</td>\n",
       "      <td>Amazon.com, Paytm.com, Myntra.com</td>\n",
       "      <td>Patym.com, Myntra.com</td>\n",
       "      <td>Amazon.in</td>\n",
       "      <td>Amazon.in</td>\n",
       "      <td>Amazon.in, Paytm.com, Myntra.com</td>\n",
       "      <td>Amazon.in, Myntra.com</td>\n",
       "      <td>Myntra.com</td>\n",
       "      <td>Myntra.com</td>\n",
       "      <td>Myntra.com</td>\n",
       "      <td>Myntra.com</td>\n",
       "      <td>Myntra.com</td>\n",
       "      <td>Amazon.in</td>\n",
       "      <td>Paytm.com</td>\n",
       "      <td>Paytm.com</td>\n",
       "      <td>Paytm.com</td>\n",
       "      <td>Amazon.in</td>\n",
       "      <td>Amazon.in, Paytm.com, Myntra.com</td>\n",
       "    </tr>\n",
       "    <tr>\n",
       "      <th>3</th>\n",
       "      <td>Male</td>\n",
       "      <td>21-30 years</td>\n",
       "      <td>Karnal</td>\n",
       "      <td>132001</td>\n",
       "      <td>3-4 years</td>\n",
       "      <td>Less than 10 times</td>\n",
       "      <td>Mobile Internet</td>\n",
       "      <td>Smartphone</td>\n",
       "      <td>5.5 inches</td>\n",
       "      <td>IOS/Mac</td>\n",
       "      <td>Safari</td>\n",
       "      <td>Search Engine</td>\n",
       "      <td>Search Engine</td>\n",
       "      <td>6-10 mins</td>\n",
       "      <td>Credit/Debit cards</td>\n",
       "      <td>Never</td>\n",
       "      <td>Better alternative offer</td>\n",
       "      <td>Agree (4)</td>\n",
       "      <td>Agree (4)</td>\n",
       "      <td>Indifferent (3)</td>\n",
       "      <td>Agree (4)</td>\n",
       "      <td>Strongly agree (5)</td>\n",
       "      <td>Agree (4)</td>\n",
       "      <td>Strongly agree (5)</td>\n",
       "      <td>Strongly agree (5)</td>\n",
       "      <td>Agree (4)</td>\n",
       "      <td>Strongly agree (5)</td>\n",
       "      <td>Strongly agree (5)</td>\n",
       "      <td>Agree (4)</td>\n",
       "      <td>Agree (4)</td>\n",
       "      <td>indifferent (3)</td>\n",
       "      <td>indifferent (3)</td>\n",
       "      <td>Agree (4)</td>\n",
       "      <td>indifferent (3)</td>\n",
       "      <td>indifferent (3)</td>\n",
       "      <td>Agree (4)</td>\n",
       "      <td>indifferent (3)</td>\n",
       "      <td>Agree (4)</td>\n",
       "      <td>Agree (4)</td>\n",
       "      <td>Agree (4)</td>\n",
       "      <td>Strongly agree (5)</td>\n",
       "      <td>Agree (4)</td>\n",
       "      <td>Agree (4)</td>\n",
       "      <td>Strongly agree (5)</td>\n",
       "      <td>Agree (4)</td>\n",
       "      <td>indifferent (3)</td>\n",
       "      <td>Agree (4)</td>\n",
       "      <td>Amazon.in, Flipkart.com, Paytm.com, Myntra.com...</td>\n",
       "      <td>Amazon.in, Flipkart.com, Paytm.com, Myntra.com...</td>\n",
       "      <td>Amazon.in, Flipkart.com, Paytm.com, Myntra.com...</td>\n",
       "      <td>Amazon.in, Flipkart.com</td>\n",
       "      <td>Amazon.in, Flipkart.com</td>\n",
       "      <td>Amazon.in, Flipkart.com, Snapdeal.com</td>\n",
       "      <td>Amazon.in, Flipkart.com, Paytm.com</td>\n",
       "      <td>Amazon.com, Flipkart.com, Paytm.com</td>\n",
       "      <td>Amazon.in, Flipkart.com, Myntra.com</td>\n",
       "      <td>Amazon.in, Flipkart.com, Snapdeal.com</td>\n",
       "      <td>Amazon.in, Flipkart.com, Myntra.com</td>\n",
       "      <td>Amazon.in, Flipkart.com, Snapdeal.com</td>\n",
       "      <td>Amazon.in, Flipkart.com, Snapdeal.com</td>\n",
       "      <td>Amazon.in, Flipkart.com, Myntra.com, Snapdeal</td>\n",
       "      <td>Snapdeal.com</td>\n",
       "      <td>Myntra.com, Snapdeal.com</td>\n",
       "      <td>Myntra.com</td>\n",
       "      <td>Paytm.com</td>\n",
       "      <td>Paytm.com</td>\n",
       "      <td>Paytm.com</td>\n",
       "      <td>Amazon.in, Flipkart.com</td>\n",
       "      <td>Amazon.in, Flipkart.com</td>\n",
       "      <td>Amazon.in, Flipkart.com, Paytm.com</td>\n",
       "      <td>Amazon.in, Flipkart.com</td>\n",
       "    </tr>\n",
       "    <tr>\n",
       "      <th>4</th>\n",
       "      <td>Female</td>\n",
       "      <td>21-30 years</td>\n",
       "      <td>Bangalore</td>\n",
       "      <td>530068</td>\n",
       "      <td>2-3 years</td>\n",
       "      <td>11-20 times</td>\n",
       "      <td>Wi-Fi</td>\n",
       "      <td>Smartphone</td>\n",
       "      <td>4.7 inches</td>\n",
       "      <td>IOS/Mac</td>\n",
       "      <td>Safari</td>\n",
       "      <td>Content Marketing</td>\n",
       "      <td>Via application</td>\n",
       "      <td>more than 15 mins</td>\n",
       "      <td>Credit/Debit cards</td>\n",
       "      <td>Frequently</td>\n",
       "      <td>Better alternative offer</td>\n",
       "      <td>Strongly agree (5)</td>\n",
       "      <td>Indifferent (3)</td>\n",
       "      <td>Indifferent (3)</td>\n",
       "      <td>Agree (4)</td>\n",
       "      <td>Agree (4)</td>\n",
       "      <td>Strongly agree (5)</td>\n",
       "      <td>Strongly agree (5)</td>\n",
       "      <td>Strongly agree (5)</td>\n",
       "      <td>Agree (4)</td>\n",
       "      <td>Strongly agree (5)</td>\n",
       "      <td>Agree (4)</td>\n",
       "      <td>Strongly agree (5)</td>\n",
       "      <td>Strongly agree (5)</td>\n",
       "      <td>Strongly agree (5)</td>\n",
       "      <td>Strongly agree (5)</td>\n",
       "      <td>Strongly agree (5)</td>\n",
       "      <td>Dis-agree (2)</td>\n",
       "      <td>Agree (4)</td>\n",
       "      <td>Strongly agree (5)</td>\n",
       "      <td>Strongly agree (5)</td>\n",
       "      <td>Strongly agree (5)</td>\n",
       "      <td>Agree (4)</td>\n",
       "      <td>Agree (4)</td>\n",
       "      <td>Strongly agree (5)</td>\n",
       "      <td>Agree (4)</td>\n",
       "      <td>indifferent (3)</td>\n",
       "      <td>Strongly disagree (1)</td>\n",
       "      <td>Strongly agree (5)</td>\n",
       "      <td>Strongly disagree (1)</td>\n",
       "      <td>Strongly agree (5)</td>\n",
       "      <td>Amazon.in, Flipkart.com, Paytm.com, Myntra.com...</td>\n",
       "      <td>Amazon.in, Flipkart.com, Paytm.com, Myntra.com...</td>\n",
       "      <td>Myntra.com</td>\n",
       "      <td>Myntra.com</td>\n",
       "      <td>Amazon.in, Flipkart.com, Paytm.com, Myntra.com...</td>\n",
       "      <td>Amazon.in</td>\n",
       "      <td>Amazon.in, Paytm.com, Myntra.com</td>\n",
       "      <td>Amazon.com, Flipkart.com, Paytm.com, Myntra.co...</td>\n",
       "      <td>Amazon.in, Flipkart.com, Patym.com, Myntra.com...</td>\n",
       "      <td>Amazon.in</td>\n",
       "      <td>Amazon.in, Paytm.com</td>\n",
       "      <td>Paytm.com</td>\n",
       "      <td>Amazon.in, Myntra.com</td>\n",
       "      <td>Amazon.in, Myntra.com</td>\n",
       "      <td>Flipkart.com, Paytm.com</td>\n",
       "      <td>Paytm.com</td>\n",
       "      <td>Paytm.com</td>\n",
       "      <td>Paytm.com</td>\n",
       "      <td>Snapdeal.com</td>\n",
       "      <td>Paytm.com</td>\n",
       "      <td>Amazon.in</td>\n",
       "      <td>Snapdeal.com</td>\n",
       "      <td>Paytm.com</td>\n",
       "      <td>Amazon.in, Myntra.com</td>\n",
       "    </tr>\n",
       "  </tbody>\n",
       "</table>\n",
       "</div>"
      ],
      "text/plain": [
       "  1Gender of respondent 2 How old are you?  3 Which city do you shop online from?  4 What is the Pin Code of where you shop online from? 5 Since How Long You are Shopping Online ? 6 How many times you have made an online purchase in the past 1 year? 7 How do you access the internet while shopping on-line? 8 Which device do you use to access the online shopping? 9 What is the screen size of your mobile device?\\t\\t\\t\\t\\t\\t                                         10 What is the operating system (OS) of your device?\\t\\t\\t\\t                                           11 What browser do you run on your device to access the website?\\t\\t\\t                                                           12 Which channel did you follow to arrive at your favorite online store for the first time?                                                                    13 After first visit, how do you reach the online retail store?\\t\\t\\t\\t                                                     \\\n",
       "0                  Male         31-40 years                                 Delhi                                             110009                                  Above 4 years                                        31-40 times                                                               Dial-up                                                  Desktop                                                   Others                                                                                Window/windows Mobile                                                                                          Google chrome                                                                                                                    Search Engine                                                                                                                                                  Search Engine                                                                           \n",
       "1                Female         21-30 years                                 Delhi                                             110030                                  Above 4 years                                 41 times and above                                                                 Wi-Fi                                               Smartphone                                               4.7 inches                                                                                              IOS/Mac                                                                                          Google chrome                                                                                                                    Search Engine                                                                                                                                                Via application                                                                           \n",
       "2                Female         21-30 years                         Greater Noida                                             201308                                      3-4 years                                 41 times and above                                                       Mobile Internet                                               Smartphone                                               5.5 inches                                                                                              Android                                                                                          Google chrome                                                                                                                    Search Engine                                                                                                                                                Via application                                                                           \n",
       "3                  Male         21-30 years                               Karnal                                              132001                                      3-4 years                                 Less than 10 times                                                       Mobile Internet                                               Smartphone                                               5.5 inches                                                                                              IOS/Mac                                                                                                 Safari                                                                                                                    Search Engine                                                                                                                                                  Search Engine                                                                           \n",
       "4                Female         21-30 years                            Bangalore                                              530068                                      2-3 years                                        11-20 times                                                                 Wi-Fi                                               Smartphone                                               4.7 inches                                                                                              IOS/Mac                                                                                                 Safari                                                                                                                Content Marketing                                                                                                                                                Via application                                                                           \n",
       "\n",
       "  14 How much time do you explore the e- retail store before making a purchase decision?                                                                    15 What is your preferred payment Option?\\t\\t\\t\\t\\t                                                                                                                                16 How frequently do you abandon (selecting an items and leaving without making payment) your shopping cart?\\t\\t\\t\\t\\t\\t\\t                                                    17 Why did you abandon the “Bag”, “Shopping Cart”?\\t\\t\\t\\t\\t                                                                                                                                                        18 The content on the website must be easy to read and understand 19 Information on similar product to the one highlighted  is important for product comparison 20 Complete information on listed seller and product being offered is important for purchase decision.  \\\n",
       "0                                          6-10 mins                                                                                                                        E-wallets (Paytm, Freecharge etc.)                                                                                                                                                                          Sometimes                                                                                                                                                                 Lack of trust                                                                                                                                                                                                           Agree (4)                                                   Indifferent (3)                                                                               Indifferent (3)                                                       \n",
       "1                                  more than 15 mins                                                                                                                                        Credit/Debit cards                                                                                                                                                                    Very frequently                                                                                                                                                     Promo code not applicable                                                                                                                                                                                                  Strongly agree (5)                                                Strongly agree (5)                                                                            Strongly agree (5)                                                       \n",
       "2                                         11-15 mins                                                                                                                        E-wallets (Paytm, Freecharge etc.)                                                                                                                                                                          Sometimes                                                                                                                                                     Promo code not applicable                                                                                                                                                                                                  Strongly agree (5)                                                         Agree (4)                                                                                     Agree (4)                                                       \n",
       "3                                          6-10 mins                                                                                                                                        Credit/Debit cards                                                                                                                                                                              Never                                                                                                                                                      Better alternative offer                                                                                                                                                                                                           Agree (4)                                                         Agree (4)                                                                               Indifferent (3)                                                       \n",
       "4                                  more than 15 mins                                                                                                                                        Credit/Debit cards                                                                                                                                                                         Frequently                                                                                                                                                      Better alternative offer                                                                                                                                                                                                  Strongly agree (5)                                                   Indifferent (3)                                                                               Indifferent (3)                                                       \n",
       "\n",
       "  21 All relevant information on listed products must be stated clearly 22 Ease of navigation in website 23 Loading and processing speed 24 User friendly Interface of the website 25 Convenient Payment methods 26 Trust that the online retail store will fulfill its part of the transaction at the stipulated time 27 Empathy (readiness to assist with queries) towards the customers 28 Being able to guarantee the privacy of the customer 29 Responsiveness, availability of several communication channels (email, online rep, twitter, phone etc.) 30 Online shopping gives monetary benefit and discounts 31 Enjoyment is derived from shopping online 32 Shopping online is convenient and flexible 33 Return and replacement policy of the e-tailer is important for purchase decision 34 Gaining access to loyalty programs is a benefit of shopping online 35 Displaying quality Information on the website improves satisfaction of customers  \\\n",
       "0                                          Agree (4)                                           Agree (4)           Strongly disagree (1)                             Dis-agree (2)                 Dis-agree (2)                                       Disagree (2)                                                                                    Strongly agree (5)                                                           Agree (4)                                              Agree (4)                                                                                            indifferent (3)                             Strongly disagree (1)                                 Dis-agree (2)                                      Dis-agree (2)                                                                           Agree (4)                                                       indifferent (3)                                    \n",
       "1                                 Strongly agree (5)                                  Strongly agree (5)              Strongly agree (5)                        Strongly agree (5)            Strongly agree (5)                                 Strongly agree (5)                                                                                    Strongly agree (5)                                                  Strongly agree (5)                                     Strongly agree (5)                                                                                         Strongly agree (5)                                Strongly agree (5)                            Strongly agree (5)                                 Strongly agree (5)                                                                  Strongly agree (5)                                                    Strongly agree (5)                                    \n",
       "2                                          Agree (4)                                           Agree (4)                       Agree (4)                        Strongly agree (5)            Strongly agree (5)                                 Strongly agree (5)                                                                                    Strongly agree (5)                                                  Strongly agree (5)                                     Strongly agree (5)                                                                                         Strongly agree (5)                                Strongly agree (5)                            Strongly agree (5)                                 Strongly agree (5)                                                                  Strongly agree (5)                                                    Strongly agree (5)                                    \n",
       "3                                          Agree (4)                                  Strongly agree (5)                       Agree (4)                        Strongly agree (5)            Strongly agree (5)                                          Agree (4)                                                                                    Strongly agree (5)                                                  Strongly agree (5)                                              Agree (4)                                                                                                  Agree (4)                                   indifferent (3)                               indifferent (3)                                          Agree (4)                                                                     indifferent (3)                                                       indifferent (3)                                    \n",
       "4                                          Agree (4)                                           Agree (4)              Strongly agree (5)                        Strongly agree (5)            Strongly agree (5)                                          Agree (4)                                                                                    Strongly agree (5)                                                           Agree (4)                                     Strongly agree (5)                                                                                         Strongly agree (5)                                Strongly agree (5)                            Strongly agree (5)                                 Strongly agree (5)                                                                       Dis-agree (2)                                                             Agree (4)                                    \n",
       "\n",
       "  36 User derive satisfaction while shopping on a good quality website or application 37 Net Benefit derived from shopping online can lead to users satisfaction 38 User satisfaction cannot exist without trust 39 Offering a wide variety of listed product in several category 40 Provision of complete and relevant product information 41 Monetary savings 42 The Convenience of patronizing the online retailer 43 Shopping on the website gives you the sense of adventure 44 Shopping on your preferred e-tailer enhances your social status 45 You feel gratification shopping on your favorite e-tailer 46 Shopping on the website helps you fulfill certain roles 47 Getting value for money spent From the following, tick any (or all) of the online retailers you have shopped from;                                                                                            Easy to use website or application                   Visual appealing web-page layout Wild variety of product on offer  \\\n",
       "0                                 Strongly agree (5)                                                                           Agree (4)                                                      Strongly agree (5)                                    indifferent (3)                                                  indifferent (3)               Disagree (2)                                    indifferent (3)                                             Agree (4)                                                   Agree (4)                                                 Strongly agree (5)                                                    Agree (4)                       Strongly agree (5)                               Amazon.in, Paytm.com                                                                                                                                                       Paytm.com                                       Flipkart.com                     Flipkart.com   \n",
       "1                                 Strongly agree (5)                                                                  Strongly agree (5)                                                      Strongly agree (5)                                 Strongly agree (5)                                               Strongly agree (5)         Strongly agree (5)                                    indifferent (3)                                       indifferent (3)                                             indifferent (3)                                                 Strongly agree (5)                                           Strongly agree (5)                       Strongly agree (5)  Amazon.in, Flipkart.com, Myntra.com, Snapdeal.com                                                                                                               Amazon.in, Flipkart.com, Myntra.com, Snapdeal.com                              Amazon.in, Myntra.com         Flipkart.com, Myntra.com   \n",
       "2                                 Strongly agree (5)                                                                  Strongly agree (5)                                                               Agree (4)                                 Strongly agree (5)                                               Strongly agree (5)         Strongly agree (5)                                          Agree (4)                                             Agree (4)                                                   Agree (4)                                                    indifferent (3)                                              indifferent (3)                                Agree (4)                   Amazon.in, Paytm.com, Myntra.com                                                                                                                                Amazon.in, Paytm.com, Myntra.com                   Amazon.in, Paytm.com, Myntra.com            Amazon.in, Myntra.com   \n",
       "3                                          Agree (4)                                                                     indifferent (3)                                                               Agree (4)                                          Agree (4)                                                        Agree (4)         Strongly agree (5)                                          Agree (4)                                             Agree (4)                                          Strongly agree (5)                                                          Agree (4)                                              indifferent (3)                                Agree (4)  Amazon.in, Flipkart.com, Paytm.com, Myntra.com...                                                                                                               Amazon.in, Flipkart.com, Paytm.com, Myntra.com...  Amazon.in, Flipkart.com, Paytm.com, Myntra.com...          Amazon.in, Flipkart.com   \n",
       "4                                 Strongly agree (5)                                                                  Strongly agree (5)                                                      Strongly agree (5)                                          Agree (4)                                                        Agree (4)         Strongly agree (5)                                          Agree (4)                                       indifferent (3)                                       Strongly disagree (1)                                                 Strongly agree (5)                                        Strongly disagree (1)                       Strongly agree (5)  Amazon.in, Flipkart.com, Paytm.com, Myntra.com...                                                                                                               Amazon.in, Flipkart.com, Paytm.com, Myntra.com...                                         Myntra.com                       Myntra.com   \n",
       "\n",
       "  Complete, relevant description information of products Fast loading website speed of website and application Reliability of the website or application                     Quickness to complete purchase            Availability of several payment options                 Speedy order delivery     Privacy of customers’ information Security of customer financial information              Perceived Trustworthiness Presence of online assistance through multi-channel Longer time to get logged in (promotion, sales period) Longer time in displaying graphics and photos (promotion, sales period) Late declaration of price (promotion, sales period) Longer page loading time (promotion, sales period) Limited mode of payment on most products (promotion, sales period) Longer delivery period Change in website/Application design Frequent disruption when moving from one page to another   Website is as efficient as before Which of the Indian online retailer would you recommend to a friend?  \n",
       "0                                       Snapdeal.com                                           Snapdeal.com                                    Paytm.com                                          Paytm.com                                          Patym.com                              Amazon.in                            Amazon.in                                  Amazon.in                           Flipkart.com                                          Paytm.com                                           Amazon.in                                              Amazon.in                                                            Flipkart.com                                        Flipkart.com                                          Amazon.in                              Paytm.com                         Flipkart.com                                          Amazon.in                                 Amazon.in                                       Flipkart.com                    \n",
       "1                Amazon.in, Flipkart.com, Myntra.com                    Amazon.in, Flipkart.com, Myntra.com                                   Myntra.com               Amazon.com, Flipkart.com, Myntra.com                Amazon.in, Flipkart.com, Myntra.com                Amazon.in, Flipkart.com                           Myntra.com                                 Myntra.com                             Myntra.com                Amazon.in, Flipkart.com, Myntra.com                             Amazon.in, Flipkart.com                                             Myntra.com                                                            snapdeal.com                                        Snapdeal.com                                       Snapdeal.com                           Snapdeal.com                            Amazon.in                                         Myntra.com                   Amazon.in, Flipkart.com                              Amazon.in, Myntra.com                    \n",
       "2                   Amazon.in, Paytm.com, Myntra.com                                   Amazon.in, Paytm.com             Amazon.in, Paytm.com, Myntra.com                  Amazon.com, Paytm.com, Myntra.com                              Patym.com, Myntra.com                              Amazon.in                            Amazon.in           Amazon.in, Paytm.com, Myntra.com                  Amazon.in, Myntra.com                                         Myntra.com                                          Myntra.com                                             Myntra.com                                                              Myntra.com                                          Myntra.com                                          Amazon.in                              Paytm.com                            Paytm.com                                          Paytm.com                                 Amazon.in                   Amazon.in, Paytm.com, Myntra.com                    \n",
       "3                            Amazon.in, Flipkart.com                  Amazon.in, Flipkart.com, Snapdeal.com           Amazon.in, Flipkart.com, Paytm.com                Amazon.com, Flipkart.com, Paytm.com                Amazon.in, Flipkart.com, Myntra.com  Amazon.in, Flipkart.com, Snapdeal.com  Amazon.in, Flipkart.com, Myntra.com      Amazon.in, Flipkart.com, Snapdeal.com  Amazon.in, Flipkart.com, Snapdeal.com      Amazon.in, Flipkart.com, Myntra.com, Snapdeal                                        Snapdeal.com                               Myntra.com, Snapdeal.com                                                              Myntra.com                                           Paytm.com                                          Paytm.com                              Paytm.com              Amazon.in, Flipkart.com                            Amazon.in, Flipkart.com        Amazon.in, Flipkart.com, Paytm.com                            Amazon.in, Flipkart.com                    \n",
       "4  Amazon.in, Flipkart.com, Paytm.com, Myntra.com...                                              Amazon.in             Amazon.in, Paytm.com, Myntra.com  Amazon.com, Flipkart.com, Paytm.com, Myntra.co...  Amazon.in, Flipkart.com, Patym.com, Myntra.com...                              Amazon.in                 Amazon.in, Paytm.com                                  Paytm.com                  Amazon.in, Myntra.com                              Amazon.in, Myntra.com                             Flipkart.com, Paytm.com                                              Paytm.com                                                               Paytm.com                                           Paytm.com                                       Snapdeal.com                              Paytm.com                            Amazon.in                                       Snapdeal.com                                 Paytm.com                              Amazon.in, Myntra.com                    "
      ]
     },
     "execution_count": 2,
     "metadata": {},
     "output_type": "execute_result"
    }
   ],
   "source": [
    "# getting excel formate data\n",
    "\n",
    "data=pd.read_excel('customer_retention_dataset.xlsx')\n",
    "data.head()"
   ]
  },
  {
   "cell_type": "code",
   "execution_count": 3,
   "metadata": {},
   "outputs": [
    {
     "data": {
      "text/plain": [
       "Index(['1Gender of respondent', '2 How old are you? ', '3 Which city do you shop online from?', '4 What is the Pin Code of where you shop online from?', '5 Since How Long You are Shopping Online ?', '6 How many times you have made an online purchase in the past 1 year?', '7 How do you access the internet while shopping on-line?', '8 Which device do you use to access the online shopping?', '9 What is the screen size of your mobile device?\\t\\t\\t\\t\\t\\t                                        ', '10 What is the operating system (OS) of your device?\\t\\t\\t\\t                                          ', '11 What browser do you run on your device to access the website?\\t\\t\\t                                                          ', '12 Which channel did you follow to arrive at your favorite online store for the first time?                                                                   ',\n",
       "       '13 After first visit, how do you reach the online retail store?\\t\\t\\t\\t                                                   ', '14 How much time do you explore the e- retail store before making a purchase decision?                                                                   ', '15 What is your preferred payment Option?\\t\\t\\t\\t\\t                                                                                                                               ', '16 How frequently do you abandon (selecting an items and leaving without making payment) your shopping cart?\\t\\t\\t\\t\\t\\t\\t                                                   ', '17 Why did you abandon the “Bag”, “Shopping Cart”?\\t\\t\\t\\t\\t                                                                                                                                                       ', '18 The content on the website must be easy to read and understand',\n",
       "       '19 Information on similar product to the one highlighted  is important for product comparison', '20 Complete information on listed seller and product being offered is important for purchase decision.', '21 All relevant information on listed products must be stated clearly', '22 Ease of navigation in website', '23 Loading and processing speed', '24 User friendly Interface of the website', '25 Convenient Payment methods', '26 Trust that the online retail store will fulfill its part of the transaction at the stipulated time', '27 Empathy (readiness to assist with queries) towards the customers', '28 Being able to guarantee the privacy of the customer', '29 Responsiveness, availability of several communication channels (email, online rep, twitter, phone etc.)', '30 Online shopping gives monetary benefit and discounts', '31 Enjoyment is derived from shopping online', '32 Shopping online is convenient and flexible',\n",
       "       '33 Return and replacement policy of the e-tailer is important for purchase decision', '34 Gaining access to loyalty programs is a benefit of shopping online', '35 Displaying quality Information on the website improves satisfaction of customers', '36 User derive satisfaction while shopping on a good quality website or application', '37 Net Benefit derived from shopping online can lead to users satisfaction', '38 User satisfaction cannot exist without trust', '39 Offering a wide variety of listed product in several category', '40 Provision of complete and relevant product information', '41 Monetary savings', '42 The Convenience of patronizing the online retailer', '43 Shopping on the website gives you the sense of adventure', '44 Shopping on your preferred e-tailer enhances your social status', '45 You feel gratification shopping on your favorite e-tailer', '46 Shopping on the website helps you fulfill certain roles', '47 Getting value for money spent',\n",
       "       'From the following, tick any (or all) of the online retailers you have shopped from;                                                                           ', 'Easy to use website or application', 'Visual appealing web-page layout', 'Wild variety of product on offer', 'Complete, relevant description information of products', 'Fast loading website speed of website and application', 'Reliability of the website or application', 'Quickness to complete purchase', 'Availability of several payment options', 'Speedy order delivery ', 'Privacy of customers’ information', 'Security of customer financial information', 'Perceived Trustworthiness', 'Presence of online assistance through multi-channel', 'Longer time to get logged in (promotion, sales period)', 'Longer time in displaying graphics and photos (promotion, sales period)', 'Late declaration of price (promotion, sales period)', 'Longer page loading time (promotion, sales period)',\n",
       "       'Limited mode of payment on most products (promotion, sales period)', 'Longer delivery period', 'Change in website/Application design', 'Frequent disruption when moving from one page to another', 'Website is as efficient as before', 'Which of the Indian online retailer would you recommend to a friend?'],\n",
       "      dtype='object')"
      ]
     },
     "execution_count": 3,
     "metadata": {},
     "output_type": "execute_result"
    }
   ],
   "source": [
    "#to display all the columns\n",
    "\n",
    "data.columns"
   ]
  },
  {
   "cell_type": "code",
   "execution_count": 4,
   "metadata": {},
   "outputs": [],
   "source": [
    "#renaming columns into a right form for better understanding\n",
    "\n",
    "data.columns=['Gender', 'How old are you', 'city', 'Pin Code', 'How Long You are Shopping Online', 'How many times in the past 1 year', \n",
    "              'How do you access the internet', 'device', 'screen size', 'operating system', 'browser', \n",
    "              'channel', 'After first visit', 'How much times', 'payment Option', 'How frequently do you abandon', \n",
    "              'Why did you abandon', 'content on the website', 'similar product', 'Complete information', \n",
    "              'relevant information', 'Ease of navigation', 'Loading and processing speed', 'User friendly', \n",
    "              'Convenient Payment methods', 'Trust that the online retail store', 'Empathy towards the customers', \n",
    "              'privacy of the customer', 'Responsiveness and availability', 'monetary benefit and discounts', \n",
    "              'Enjoyment is derived from shopping online', 'Shopping online is convenient and flexible', \n",
    "              'Return and replacement policy', 'Gaining access to loyalty', 'quality Information on the website', \n",
    "              'User derive satisfaction', 'Net Benefit', 'User satisfaction cannot exist without trust',\n",
    "              'Offering a wide variety', 'Provision of complete and relevant product information', \n",
    "              'Monetary savings', 'The Convenience of patronizing the online retailer', 'sense of adventure', \n",
    "              'enhances your social status', 'gratification shopping on your favorite e-tailer', \n",
    "              'Shopping on the website helps you fulfill certain roles', 'Getting value for money spent',\n",
    "              'you have shopped from', 'Easy to use website or application', 'Visual appealing web-page layout',\n",
    "              'Wild variety of product on offer', 'Complete description information of products', \n",
    "              'Fast loading website speed of website and application', 'Reliability of the website or application', \n",
    "              'Quickness to complete purchase', 'Availability of several payment options', 'Speedy order delivery ', \n",
    "              'Privacy of customers’ information', 'Security of customer financial information', 'Perceived Trustworthiness', \n",
    "              'Presence of online assistance through multi-channel', 'Longer time to get logged in', \n",
    "              'Longer time in displaying graphics and photos', 'Late declaration of price', 'Longer page loading time',\n",
    "              'Limited mode of payment on most products', 'Longer delivery period', 'Change in website/Application design', \n",
    "              'Frequent disruption when moving from one page to another', 'Website is as efficient as before', \n",
    "              'Which of the Indian online retailer would you recommend to a friend']"
   ]
  },
  {
   "cell_type": "code",
   "execution_count": 5,
   "metadata": {},
   "outputs": [
    {
     "data": {
      "text/plain": [
       "(269, 71)"
      ]
     },
     "execution_count": 5,
     "metadata": {},
     "output_type": "execute_result"
    }
   ],
   "source": [
    "#shape of the data which tells about no.of rows and columns\n",
    "\n",
    "data.shape"
   ]
  },
  {
   "cell_type": "code",
   "execution_count": 6,
   "metadata": {},
   "outputs": [
    {
     "data": {
      "text/html": [
       "<div>\n",
       "<style scoped>\n",
       "    .dataframe tbody tr th:only-of-type {\n",
       "        vertical-align: middle;\n",
       "    }\n",
       "\n",
       "    .dataframe tbody tr th {\n",
       "        vertical-align: top;\n",
       "    }\n",
       "\n",
       "    .dataframe thead th {\n",
       "        text-align: right;\n",
       "    }\n",
       "</style>\n",
       "<table border=\"1\" class=\"dataframe\">\n",
       "  <thead>\n",
       "    <tr style=\"text-align: right;\">\n",
       "      <th></th>\n",
       "      <th>Gender</th>\n",
       "      <th>How old are you</th>\n",
       "      <th>city</th>\n",
       "      <th>Pin Code</th>\n",
       "      <th>How Long You are Shopping Online</th>\n",
       "      <th>How many times in the past 1 year</th>\n",
       "      <th>How do you access the internet</th>\n",
       "      <th>device</th>\n",
       "      <th>screen size</th>\n",
       "      <th>operating system</th>\n",
       "      <th>browser</th>\n",
       "      <th>channel</th>\n",
       "      <th>After first visit</th>\n",
       "      <th>How much times</th>\n",
       "      <th>payment Option</th>\n",
       "      <th>How frequently do you abandon</th>\n",
       "      <th>Why did you abandon</th>\n",
       "      <th>content on the website</th>\n",
       "      <th>similar product</th>\n",
       "      <th>Complete information</th>\n",
       "      <th>relevant information</th>\n",
       "      <th>Ease of navigation</th>\n",
       "      <th>Loading and processing speed</th>\n",
       "      <th>User friendly</th>\n",
       "      <th>Convenient Payment methods</th>\n",
       "      <th>Trust that the online retail store</th>\n",
       "      <th>Empathy towards the customers</th>\n",
       "      <th>privacy of the customer</th>\n",
       "      <th>Responsiveness and availability</th>\n",
       "      <th>monetary benefit and discounts</th>\n",
       "      <th>Enjoyment is derived from shopping online</th>\n",
       "      <th>Shopping online is convenient and flexible</th>\n",
       "      <th>Return and replacement policy</th>\n",
       "      <th>Gaining access to loyalty</th>\n",
       "      <th>quality Information on the website</th>\n",
       "      <th>User derive satisfaction</th>\n",
       "      <th>Net Benefit</th>\n",
       "      <th>User satisfaction cannot exist without trust</th>\n",
       "      <th>Offering a wide variety</th>\n",
       "      <th>Provision of complete and relevant product information</th>\n",
       "      <th>Monetary savings</th>\n",
       "      <th>The Convenience of patronizing the online retailer</th>\n",
       "      <th>sense of adventure</th>\n",
       "      <th>enhances your social status</th>\n",
       "      <th>gratification shopping on your favorite e-tailer</th>\n",
       "      <th>Shopping on the website helps you fulfill certain roles</th>\n",
       "      <th>Getting value for money spent</th>\n",
       "      <th>you have shopped from</th>\n",
       "      <th>Easy to use website or application</th>\n",
       "      <th>Visual appealing web-page layout</th>\n",
       "      <th>Wild variety of product on offer</th>\n",
       "      <th>Complete description information of products</th>\n",
       "      <th>Fast loading website speed of website and application</th>\n",
       "      <th>Reliability of the website or application</th>\n",
       "      <th>Quickness to complete purchase</th>\n",
       "      <th>Availability of several payment options</th>\n",
       "      <th>Speedy order delivery</th>\n",
       "      <th>Privacy of customers’ information</th>\n",
       "      <th>Security of customer financial information</th>\n",
       "      <th>Perceived Trustworthiness</th>\n",
       "      <th>Presence of online assistance through multi-channel</th>\n",
       "      <th>Longer time to get logged in</th>\n",
       "      <th>Longer time in displaying graphics and photos</th>\n",
       "      <th>Late declaration of price</th>\n",
       "      <th>Longer page loading time</th>\n",
       "      <th>Limited mode of payment on most products</th>\n",
       "      <th>Longer delivery period</th>\n",
       "      <th>Change in website/Application design</th>\n",
       "      <th>Frequent disruption when moving from one page to another</th>\n",
       "      <th>Website is as efficient as before</th>\n",
       "      <th>Which of the Indian online retailer would you recommend to a friend</th>\n",
       "    </tr>\n",
       "  </thead>\n",
       "  <tbody>\n",
       "    <tr>\n",
       "      <th>0</th>\n",
       "      <td>Male</td>\n",
       "      <td>31-40 years</td>\n",
       "      <td>Delhi</td>\n",
       "      <td>110009</td>\n",
       "      <td>Above 4 years</td>\n",
       "      <td>31-40 times</td>\n",
       "      <td>Dial-up</td>\n",
       "      <td>Desktop</td>\n",
       "      <td>Others</td>\n",
       "      <td>Window/windows Mobile</td>\n",
       "      <td>Google chrome</td>\n",
       "      <td>Search Engine</td>\n",
       "      <td>Search Engine</td>\n",
       "      <td>6-10 mins</td>\n",
       "      <td>E-wallets (Paytm, Freecharge etc.)</td>\n",
       "      <td>Sometimes</td>\n",
       "      <td>Lack of trust</td>\n",
       "      <td>Agree (4)</td>\n",
       "      <td>Indifferent (3)</td>\n",
       "      <td>Indifferent (3)</td>\n",
       "      <td>Agree (4)</td>\n",
       "      <td>Agree (4)</td>\n",
       "      <td>Strongly disagree (1)</td>\n",
       "      <td>Dis-agree (2)</td>\n",
       "      <td>Dis-agree (2)</td>\n",
       "      <td>Disagree (2)</td>\n",
       "      <td>Strongly agree (5)</td>\n",
       "      <td>Agree (4)</td>\n",
       "      <td>Agree (4)</td>\n",
       "      <td>indifferent (3)</td>\n",
       "      <td>Strongly disagree (1)</td>\n",
       "      <td>Dis-agree (2)</td>\n",
       "      <td>Dis-agree (2)</td>\n",
       "      <td>Agree (4)</td>\n",
       "      <td>indifferent (3)</td>\n",
       "      <td>Strongly agree (5)</td>\n",
       "      <td>Agree (4)</td>\n",
       "      <td>Strongly agree (5)</td>\n",
       "      <td>indifferent (3)</td>\n",
       "      <td>indifferent (3)</td>\n",
       "      <td>Disagree (2)</td>\n",
       "      <td>indifferent (3)</td>\n",
       "      <td>Agree (4)</td>\n",
       "      <td>Agree (4)</td>\n",
       "      <td>Strongly agree (5)</td>\n",
       "      <td>Agree (4)</td>\n",
       "      <td>Strongly agree (5)</td>\n",
       "      <td>Amazon.in, Paytm.com</td>\n",
       "      <td>Paytm.com</td>\n",
       "      <td>Flipkart.com</td>\n",
       "      <td>Flipkart.com</td>\n",
       "      <td>Snapdeal.com</td>\n",
       "      <td>Snapdeal.com</td>\n",
       "      <td>Paytm.com</td>\n",
       "      <td>Paytm.com</td>\n",
       "      <td>Patym.com</td>\n",
       "      <td>Amazon.in</td>\n",
       "      <td>Amazon.in</td>\n",
       "      <td>Amazon.in</td>\n",
       "      <td>Flipkart.com</td>\n",
       "      <td>Paytm.com</td>\n",
       "      <td>Amazon.in</td>\n",
       "      <td>Amazon.in</td>\n",
       "      <td>Flipkart.com</td>\n",
       "      <td>Flipkart.com</td>\n",
       "      <td>Amazon.in</td>\n",
       "      <td>Paytm.com</td>\n",
       "      <td>Flipkart.com</td>\n",
       "      <td>Amazon.in</td>\n",
       "      <td>Amazon.in</td>\n",
       "      <td>Flipkart.com</td>\n",
       "    </tr>\n",
       "    <tr>\n",
       "      <th>1</th>\n",
       "      <td>Female</td>\n",
       "      <td>21-30 years</td>\n",
       "      <td>Delhi</td>\n",
       "      <td>110030</td>\n",
       "      <td>Above 4 years</td>\n",
       "      <td>41 times and above</td>\n",
       "      <td>Wi-Fi</td>\n",
       "      <td>Smartphone</td>\n",
       "      <td>4.7 inches</td>\n",
       "      <td>IOS/Mac</td>\n",
       "      <td>Google chrome</td>\n",
       "      <td>Search Engine</td>\n",
       "      <td>Via application</td>\n",
       "      <td>more than 15 mins</td>\n",
       "      <td>Credit/Debit cards</td>\n",
       "      <td>Very frequently</td>\n",
       "      <td>Promo code not applicable</td>\n",
       "      <td>Strongly agree (5)</td>\n",
       "      <td>Strongly agree (5)</td>\n",
       "      <td>Strongly agree (5)</td>\n",
       "      <td>Strongly agree (5)</td>\n",
       "      <td>Strongly agree (5)</td>\n",
       "      <td>Strongly agree (5)</td>\n",
       "      <td>Strongly agree (5)</td>\n",
       "      <td>Strongly agree (5)</td>\n",
       "      <td>Strongly agree (5)</td>\n",
       "      <td>Strongly agree (5)</td>\n",
       "      <td>Strongly agree (5)</td>\n",
       "      <td>Strongly agree (5)</td>\n",
       "      <td>Strongly agree (5)</td>\n",
       "      <td>Strongly agree (5)</td>\n",
       "      <td>Strongly agree (5)</td>\n",
       "      <td>Strongly agree (5)</td>\n",
       "      <td>Strongly agree (5)</td>\n",
       "      <td>Strongly agree (5)</td>\n",
       "      <td>Strongly agree (5)</td>\n",
       "      <td>Strongly agree (5)</td>\n",
       "      <td>Strongly agree (5)</td>\n",
       "      <td>Strongly agree (5)</td>\n",
       "      <td>Strongly agree (5)</td>\n",
       "      <td>Strongly agree (5)</td>\n",
       "      <td>indifferent (3)</td>\n",
       "      <td>indifferent (3)</td>\n",
       "      <td>indifferent (3)</td>\n",
       "      <td>Strongly agree (5)</td>\n",
       "      <td>Strongly agree (5)</td>\n",
       "      <td>Strongly agree (5)</td>\n",
       "      <td>Amazon.in, Flipkart.com, Myntra.com, Snapdeal.com</td>\n",
       "      <td>Amazon.in, Flipkart.com, Myntra.com, Snapdeal.com</td>\n",
       "      <td>Amazon.in, Myntra.com</td>\n",
       "      <td>Flipkart.com, Myntra.com</td>\n",
       "      <td>Amazon.in, Flipkart.com, Myntra.com</td>\n",
       "      <td>Amazon.in, Flipkart.com, Myntra.com</td>\n",
       "      <td>Myntra.com</td>\n",
       "      <td>Amazon.com, Flipkart.com, Myntra.com</td>\n",
       "      <td>Amazon.in, Flipkart.com, Myntra.com</td>\n",
       "      <td>Amazon.in, Flipkart.com</td>\n",
       "      <td>Myntra.com</td>\n",
       "      <td>Myntra.com</td>\n",
       "      <td>Myntra.com</td>\n",
       "      <td>Amazon.in, Flipkart.com, Myntra.com</td>\n",
       "      <td>Amazon.in, Flipkart.com</td>\n",
       "      <td>Myntra.com</td>\n",
       "      <td>snapdeal.com</td>\n",
       "      <td>Snapdeal.com</td>\n",
       "      <td>Snapdeal.com</td>\n",
       "      <td>Snapdeal.com</td>\n",
       "      <td>Amazon.in</td>\n",
       "      <td>Myntra.com</td>\n",
       "      <td>Amazon.in, Flipkart.com</td>\n",
       "      <td>Amazon.in, Myntra.com</td>\n",
       "    </tr>\n",
       "    <tr>\n",
       "      <th>2</th>\n",
       "      <td>Female</td>\n",
       "      <td>21-30 years</td>\n",
       "      <td>Greater Noida</td>\n",
       "      <td>201308</td>\n",
       "      <td>3-4 years</td>\n",
       "      <td>41 times and above</td>\n",
       "      <td>Mobile Internet</td>\n",
       "      <td>Smartphone</td>\n",
       "      <td>5.5 inches</td>\n",
       "      <td>Android</td>\n",
       "      <td>Google chrome</td>\n",
       "      <td>Search Engine</td>\n",
       "      <td>Via application</td>\n",
       "      <td>11-15 mins</td>\n",
       "      <td>E-wallets (Paytm, Freecharge etc.)</td>\n",
       "      <td>Sometimes</td>\n",
       "      <td>Promo code not applicable</td>\n",
       "      <td>Strongly agree (5)</td>\n",
       "      <td>Agree (4)</td>\n",
       "      <td>Agree (4)</td>\n",
       "      <td>Agree (4)</td>\n",
       "      <td>Agree (4)</td>\n",
       "      <td>Agree (4)</td>\n",
       "      <td>Strongly agree (5)</td>\n",
       "      <td>Strongly agree (5)</td>\n",
       "      <td>Strongly agree (5)</td>\n",
       "      <td>Strongly agree (5)</td>\n",
       "      <td>Strongly agree (5)</td>\n",
       "      <td>Strongly agree (5)</td>\n",
       "      <td>Strongly agree (5)</td>\n",
       "      <td>Strongly agree (5)</td>\n",
       "      <td>Strongly agree (5)</td>\n",
       "      <td>Strongly agree (5)</td>\n",
       "      <td>Strongly agree (5)</td>\n",
       "      <td>Strongly agree (5)</td>\n",
       "      <td>Strongly agree (5)</td>\n",
       "      <td>Strongly agree (5)</td>\n",
       "      <td>Agree (4)</td>\n",
       "      <td>Strongly agree (5)</td>\n",
       "      <td>Strongly agree (5)</td>\n",
       "      <td>Strongly agree (5)</td>\n",
       "      <td>Agree (4)</td>\n",
       "      <td>Agree (4)</td>\n",
       "      <td>Agree (4)</td>\n",
       "      <td>indifferent (3)</td>\n",
       "      <td>indifferent (3)</td>\n",
       "      <td>Agree (4)</td>\n",
       "      <td>Amazon.in, Paytm.com, Myntra.com</td>\n",
       "      <td>Amazon.in, Paytm.com, Myntra.com</td>\n",
       "      <td>Amazon.in, Paytm.com, Myntra.com</td>\n",
       "      <td>Amazon.in, Myntra.com</td>\n",
       "      <td>Amazon.in, Paytm.com, Myntra.com</td>\n",
       "      <td>Amazon.in, Paytm.com</td>\n",
       "      <td>Amazon.in, Paytm.com, Myntra.com</td>\n",
       "      <td>Amazon.com, Paytm.com, Myntra.com</td>\n",
       "      <td>Patym.com, Myntra.com</td>\n",
       "      <td>Amazon.in</td>\n",
       "      <td>Amazon.in</td>\n",
       "      <td>Amazon.in, Paytm.com, Myntra.com</td>\n",
       "      <td>Amazon.in, Myntra.com</td>\n",
       "      <td>Myntra.com</td>\n",
       "      <td>Myntra.com</td>\n",
       "      <td>Myntra.com</td>\n",
       "      <td>Myntra.com</td>\n",
       "      <td>Myntra.com</td>\n",
       "      <td>Amazon.in</td>\n",
       "      <td>Paytm.com</td>\n",
       "      <td>Paytm.com</td>\n",
       "      <td>Paytm.com</td>\n",
       "      <td>Amazon.in</td>\n",
       "      <td>Amazon.in, Paytm.com, Myntra.com</td>\n",
       "    </tr>\n",
       "    <tr>\n",
       "      <th>3</th>\n",
       "      <td>Male</td>\n",
       "      <td>21-30 years</td>\n",
       "      <td>Karnal</td>\n",
       "      <td>132001</td>\n",
       "      <td>3-4 years</td>\n",
       "      <td>Less than 10 times</td>\n",
       "      <td>Mobile Internet</td>\n",
       "      <td>Smartphone</td>\n",
       "      <td>5.5 inches</td>\n",
       "      <td>IOS/Mac</td>\n",
       "      <td>Safari</td>\n",
       "      <td>Search Engine</td>\n",
       "      <td>Search Engine</td>\n",
       "      <td>6-10 mins</td>\n",
       "      <td>Credit/Debit cards</td>\n",
       "      <td>Never</td>\n",
       "      <td>Better alternative offer</td>\n",
       "      <td>Agree (4)</td>\n",
       "      <td>Agree (4)</td>\n",
       "      <td>Indifferent (3)</td>\n",
       "      <td>Agree (4)</td>\n",
       "      <td>Strongly agree (5)</td>\n",
       "      <td>Agree (4)</td>\n",
       "      <td>Strongly agree (5)</td>\n",
       "      <td>Strongly agree (5)</td>\n",
       "      <td>Agree (4)</td>\n",
       "      <td>Strongly agree (5)</td>\n",
       "      <td>Strongly agree (5)</td>\n",
       "      <td>Agree (4)</td>\n",
       "      <td>Agree (4)</td>\n",
       "      <td>indifferent (3)</td>\n",
       "      <td>indifferent (3)</td>\n",
       "      <td>Agree (4)</td>\n",
       "      <td>indifferent (3)</td>\n",
       "      <td>indifferent (3)</td>\n",
       "      <td>Agree (4)</td>\n",
       "      <td>indifferent (3)</td>\n",
       "      <td>Agree (4)</td>\n",
       "      <td>Agree (4)</td>\n",
       "      <td>Agree (4)</td>\n",
       "      <td>Strongly agree (5)</td>\n",
       "      <td>Agree (4)</td>\n",
       "      <td>Agree (4)</td>\n",
       "      <td>Strongly agree (5)</td>\n",
       "      <td>Agree (4)</td>\n",
       "      <td>indifferent (3)</td>\n",
       "      <td>Agree (4)</td>\n",
       "      <td>Amazon.in, Flipkart.com, Paytm.com, Myntra.com...</td>\n",
       "      <td>Amazon.in, Flipkart.com, Paytm.com, Myntra.com...</td>\n",
       "      <td>Amazon.in, Flipkart.com, Paytm.com, Myntra.com...</td>\n",
       "      <td>Amazon.in, Flipkart.com</td>\n",
       "      <td>Amazon.in, Flipkart.com</td>\n",
       "      <td>Amazon.in, Flipkart.com, Snapdeal.com</td>\n",
       "      <td>Amazon.in, Flipkart.com, Paytm.com</td>\n",
       "      <td>Amazon.com, Flipkart.com, Paytm.com</td>\n",
       "      <td>Amazon.in, Flipkart.com, Myntra.com</td>\n",
       "      <td>Amazon.in, Flipkart.com, Snapdeal.com</td>\n",
       "      <td>Amazon.in, Flipkart.com, Myntra.com</td>\n",
       "      <td>Amazon.in, Flipkart.com, Snapdeal.com</td>\n",
       "      <td>Amazon.in, Flipkart.com, Snapdeal.com</td>\n",
       "      <td>Amazon.in, Flipkart.com, Myntra.com, Snapdeal</td>\n",
       "      <td>Snapdeal.com</td>\n",
       "      <td>Myntra.com, Snapdeal.com</td>\n",
       "      <td>Myntra.com</td>\n",
       "      <td>Paytm.com</td>\n",
       "      <td>Paytm.com</td>\n",
       "      <td>Paytm.com</td>\n",
       "      <td>Amazon.in, Flipkart.com</td>\n",
       "      <td>Amazon.in, Flipkart.com</td>\n",
       "      <td>Amazon.in, Flipkart.com, Paytm.com</td>\n",
       "      <td>Amazon.in, Flipkart.com</td>\n",
       "    </tr>\n",
       "    <tr>\n",
       "      <th>4</th>\n",
       "      <td>Female</td>\n",
       "      <td>21-30 years</td>\n",
       "      <td>Bangalore</td>\n",
       "      <td>530068</td>\n",
       "      <td>2-3 years</td>\n",
       "      <td>11-20 times</td>\n",
       "      <td>Wi-Fi</td>\n",
       "      <td>Smartphone</td>\n",
       "      <td>4.7 inches</td>\n",
       "      <td>IOS/Mac</td>\n",
       "      <td>Safari</td>\n",
       "      <td>Content Marketing</td>\n",
       "      <td>Via application</td>\n",
       "      <td>more than 15 mins</td>\n",
       "      <td>Credit/Debit cards</td>\n",
       "      <td>Frequently</td>\n",
       "      <td>Better alternative offer</td>\n",
       "      <td>Strongly agree (5)</td>\n",
       "      <td>Indifferent (3)</td>\n",
       "      <td>Indifferent (3)</td>\n",
       "      <td>Agree (4)</td>\n",
       "      <td>Agree (4)</td>\n",
       "      <td>Strongly agree (5)</td>\n",
       "      <td>Strongly agree (5)</td>\n",
       "      <td>Strongly agree (5)</td>\n",
       "      <td>Agree (4)</td>\n",
       "      <td>Strongly agree (5)</td>\n",
       "      <td>Agree (4)</td>\n",
       "      <td>Strongly agree (5)</td>\n",
       "      <td>Strongly agree (5)</td>\n",
       "      <td>Strongly agree (5)</td>\n",
       "      <td>Strongly agree (5)</td>\n",
       "      <td>Strongly agree (5)</td>\n",
       "      <td>Dis-agree (2)</td>\n",
       "      <td>Agree (4)</td>\n",
       "      <td>Strongly agree (5)</td>\n",
       "      <td>Strongly agree (5)</td>\n",
       "      <td>Strongly agree (5)</td>\n",
       "      <td>Agree (4)</td>\n",
       "      <td>Agree (4)</td>\n",
       "      <td>Strongly agree (5)</td>\n",
       "      <td>Agree (4)</td>\n",
       "      <td>indifferent (3)</td>\n",
       "      <td>Strongly disagree (1)</td>\n",
       "      <td>Strongly agree (5)</td>\n",
       "      <td>Strongly disagree (1)</td>\n",
       "      <td>Strongly agree (5)</td>\n",
       "      <td>Amazon.in, Flipkart.com, Paytm.com, Myntra.com...</td>\n",
       "      <td>Amazon.in, Flipkart.com, Paytm.com, Myntra.com...</td>\n",
       "      <td>Myntra.com</td>\n",
       "      <td>Myntra.com</td>\n",
       "      <td>Amazon.in, Flipkart.com, Paytm.com, Myntra.com...</td>\n",
       "      <td>Amazon.in</td>\n",
       "      <td>Amazon.in, Paytm.com, Myntra.com</td>\n",
       "      <td>Amazon.com, Flipkart.com, Paytm.com, Myntra.co...</td>\n",
       "      <td>Amazon.in, Flipkart.com, Patym.com, Myntra.com...</td>\n",
       "      <td>Amazon.in</td>\n",
       "      <td>Amazon.in, Paytm.com</td>\n",
       "      <td>Paytm.com</td>\n",
       "      <td>Amazon.in, Myntra.com</td>\n",
       "      <td>Amazon.in, Myntra.com</td>\n",
       "      <td>Flipkart.com, Paytm.com</td>\n",
       "      <td>Paytm.com</td>\n",
       "      <td>Paytm.com</td>\n",
       "      <td>Paytm.com</td>\n",
       "      <td>Snapdeal.com</td>\n",
       "      <td>Paytm.com</td>\n",
       "      <td>Amazon.in</td>\n",
       "      <td>Snapdeal.com</td>\n",
       "      <td>Paytm.com</td>\n",
       "      <td>Amazon.in, Myntra.com</td>\n",
       "    </tr>\n",
       "  </tbody>\n",
       "</table>\n",
       "</div>"
      ],
      "text/plain": [
       "   Gender How old are you           city  Pin Code How Long You are Shopping Online How many times in the past 1 year How do you access the internet      device screen size       operating system        browser            channel After first visit     How much times                      payment Option How frequently do you abandon        Why did you abandon content on the website     similar product Complete information relevant information  Ease of navigation Loading and processing speed       User friendly Convenient Payment methods Trust that the online retail store Empathy towards the customers privacy of the customer Responsiveness and availability monetary benefit and discounts Enjoyment is derived from shopping online Shopping online is convenient and flexible Return and replacement policy Gaining access to loyalty quality Information on the website User derive satisfaction         Net Benefit User satisfaction cannot exist without trust Offering a wide variety  \\\n",
       "0    Male     31-40 years          Delhi    110009                    Above 4 years                       31-40 times                        Dial-up     Desktop      Others  Window/windows Mobile  Google chrome      Search Engine     Search Engine          6-10 mins  E-wallets (Paytm, Freecharge etc.)                     Sometimes              Lack of trust              Agree (4)     Indifferent (3)      Indifferent (3)            Agree (4)           Agree (4)        Strongly disagree (1)       Dis-agree (2)              Dis-agree (2)                       Disagree (2)            Strongly agree (5)               Agree (4)                       Agree (4)                indifferent (3)                     Strongly disagree (1)                              Dis-agree (2)                 Dis-agree (2)                 Agree (4)                    indifferent (3)       Strongly agree (5)           Agree (4)                           Strongly agree (5)         indifferent (3)   \n",
       "1  Female     21-30 years          Delhi    110030                    Above 4 years                41 times and above                          Wi-Fi  Smartphone  4.7 inches                IOS/Mac  Google chrome      Search Engine   Via application  more than 15 mins                  Credit/Debit cards               Very frequently  Promo code not applicable     Strongly agree (5)  Strongly agree (5)   Strongly agree (5)   Strongly agree (5)  Strongly agree (5)           Strongly agree (5)  Strongly agree (5)         Strongly agree (5)                 Strongly agree (5)            Strongly agree (5)      Strongly agree (5)              Strongly agree (5)             Strongly agree (5)                        Strongly agree (5)                         Strongly agree (5)            Strongly agree (5)        Strongly agree (5)                 Strongly agree (5)       Strongly agree (5)  Strongly agree (5)                           Strongly agree (5)      Strongly agree (5)   \n",
       "2  Female     21-30 years  Greater Noida    201308                        3-4 years                41 times and above                Mobile Internet  Smartphone  5.5 inches                Android  Google chrome      Search Engine   Via application         11-15 mins  E-wallets (Paytm, Freecharge etc.)                     Sometimes  Promo code not applicable     Strongly agree (5)           Agree (4)            Agree (4)            Agree (4)           Agree (4)                    Agree (4)  Strongly agree (5)         Strongly agree (5)                 Strongly agree (5)            Strongly agree (5)      Strongly agree (5)              Strongly agree (5)             Strongly agree (5)                        Strongly agree (5)                         Strongly agree (5)            Strongly agree (5)        Strongly agree (5)                 Strongly agree (5)       Strongly agree (5)  Strongly agree (5)                                    Agree (4)      Strongly agree (5)   \n",
       "3    Male     21-30 years        Karnal     132001                        3-4 years                Less than 10 times                Mobile Internet  Smartphone  5.5 inches                IOS/Mac         Safari      Search Engine     Search Engine          6-10 mins                  Credit/Debit cards                         Never   Better alternative offer              Agree (4)           Agree (4)      Indifferent (3)            Agree (4)  Strongly agree (5)                    Agree (4)  Strongly agree (5)         Strongly agree (5)                          Agree (4)            Strongly agree (5)      Strongly agree (5)                       Agree (4)                      Agree (4)                           indifferent (3)                            indifferent (3)                     Agree (4)           indifferent (3)                    indifferent (3)                Agree (4)     indifferent (3)                                    Agree (4)               Agree (4)   \n",
       "4  Female     21-30 years     Bangalore     530068                        2-3 years                       11-20 times                          Wi-Fi  Smartphone  4.7 inches                IOS/Mac         Safari  Content Marketing   Via application  more than 15 mins                  Credit/Debit cards                    Frequently   Better alternative offer     Strongly agree (5)     Indifferent (3)      Indifferent (3)            Agree (4)           Agree (4)           Strongly agree (5)  Strongly agree (5)         Strongly agree (5)                          Agree (4)            Strongly agree (5)               Agree (4)              Strongly agree (5)             Strongly agree (5)                        Strongly agree (5)                         Strongly agree (5)            Strongly agree (5)             Dis-agree (2)                          Agree (4)       Strongly agree (5)  Strongly agree (5)                           Strongly agree (5)               Agree (4)   \n",
       "\n",
       "  Provision of complete and relevant product information    Monetary savings The Convenience of patronizing the online retailer sense of adventure enhances your social status gratification shopping on your favorite e-tailer Shopping on the website helps you fulfill certain roles Getting value for money spent                              you have shopped from                 Easy to use website or application                   Visual appealing web-page layout Wild variety of product on offer       Complete description information of products Fast loading website speed of website and application Reliability of the website or application                     Quickness to complete purchase            Availability of several payment options                 Speedy order delivery     Privacy of customers’ information Security of customer financial information              Perceived Trustworthiness Presence of online assistance through multi-channel Longer time to get logged in  \\\n",
       "0                                    indifferent (3)            Disagree (2)                                    indifferent (3)          Agree (4)                   Agree (4)                               Strongly agree (5)                                          Agree (4)                 Strongly agree (5)                               Amazon.in, Paytm.com                                          Paytm.com                                       Flipkart.com                     Flipkart.com                                       Snapdeal.com                                       Snapdeal.com                                    Paytm.com                                          Paytm.com                                          Patym.com                              Amazon.in                            Amazon.in                                  Amazon.in                           Flipkart.com                                          Paytm.com                     Amazon.in   \n",
       "1                                 Strongly agree (5)      Strongly agree (5)                                    indifferent (3)    indifferent (3)             indifferent (3)                               Strongly agree (5)                                 Strongly agree (5)                 Strongly agree (5)  Amazon.in, Flipkart.com, Myntra.com, Snapdeal.com  Amazon.in, Flipkart.com, Myntra.com, Snapdeal.com                              Amazon.in, Myntra.com         Flipkart.com, Myntra.com                Amazon.in, Flipkart.com, Myntra.com                Amazon.in, Flipkart.com, Myntra.com                                   Myntra.com               Amazon.com, Flipkart.com, Myntra.com                Amazon.in, Flipkart.com, Myntra.com                Amazon.in, Flipkart.com                           Myntra.com                                 Myntra.com                             Myntra.com                Amazon.in, Flipkart.com, Myntra.com       Amazon.in, Flipkart.com   \n",
       "2                                 Strongly agree (5)      Strongly agree (5)                                          Agree (4)          Agree (4)                   Agree (4)                                  indifferent (3)                                    indifferent (3)                          Agree (4)                   Amazon.in, Paytm.com, Myntra.com                   Amazon.in, Paytm.com, Myntra.com                   Amazon.in, Paytm.com, Myntra.com            Amazon.in, Myntra.com                   Amazon.in, Paytm.com, Myntra.com                               Amazon.in, Paytm.com             Amazon.in, Paytm.com, Myntra.com                  Amazon.com, Paytm.com, Myntra.com                              Patym.com, Myntra.com                              Amazon.in                            Amazon.in           Amazon.in, Paytm.com, Myntra.com                  Amazon.in, Myntra.com                                         Myntra.com                    Myntra.com   \n",
       "3                                          Agree (4)      Strongly agree (5)                                          Agree (4)          Agree (4)          Strongly agree (5)                                        Agree (4)                                    indifferent (3)                          Agree (4)  Amazon.in, Flipkart.com, Paytm.com, Myntra.com...  Amazon.in, Flipkart.com, Paytm.com, Myntra.com...  Amazon.in, Flipkart.com, Paytm.com, Myntra.com...          Amazon.in, Flipkart.com                            Amazon.in, Flipkart.com              Amazon.in, Flipkart.com, Snapdeal.com           Amazon.in, Flipkart.com, Paytm.com                Amazon.com, Flipkart.com, Paytm.com                Amazon.in, Flipkart.com, Myntra.com  Amazon.in, Flipkart.com, Snapdeal.com  Amazon.in, Flipkart.com, Myntra.com      Amazon.in, Flipkart.com, Snapdeal.com  Amazon.in, Flipkart.com, Snapdeal.com      Amazon.in, Flipkart.com, Myntra.com, Snapdeal                  Snapdeal.com   \n",
       "4                                          Agree (4)      Strongly agree (5)                                          Agree (4)    indifferent (3)       Strongly disagree (1)                               Strongly agree (5)                              Strongly disagree (1)                 Strongly agree (5)  Amazon.in, Flipkart.com, Paytm.com, Myntra.com...  Amazon.in, Flipkart.com, Paytm.com, Myntra.com...                                         Myntra.com                       Myntra.com  Amazon.in, Flipkart.com, Paytm.com, Myntra.com...                                          Amazon.in             Amazon.in, Paytm.com, Myntra.com  Amazon.com, Flipkart.com, Paytm.com, Myntra.co...  Amazon.in, Flipkart.com, Patym.com, Myntra.com...                              Amazon.in                 Amazon.in, Paytm.com                                  Paytm.com                  Amazon.in, Myntra.com                              Amazon.in, Myntra.com       Flipkart.com, Paytm.com   \n",
       "\n",
       "  Longer time in displaying graphics and photos Late declaration of price Longer page loading time Limited mode of payment on most products Longer delivery period Change in website/Application design Frequent disruption when moving from one page to another   Website is as efficient as before Which of the Indian online retailer would you recommend to a friend  \n",
       "0                                     Amazon.in              Flipkart.com             Flipkart.com                                Amazon.in              Paytm.com                         Flipkart.com                                          Amazon.in                                 Amazon.in                                       Flipkart.com                   \n",
       "1                                    Myntra.com              snapdeal.com             Snapdeal.com                             Snapdeal.com           Snapdeal.com                            Amazon.in                                         Myntra.com                   Amazon.in, Flipkart.com                              Amazon.in, Myntra.com                   \n",
       "2                                    Myntra.com                Myntra.com               Myntra.com                                Amazon.in              Paytm.com                            Paytm.com                                          Paytm.com                                 Amazon.in                   Amazon.in, Paytm.com, Myntra.com                   \n",
       "3                      Myntra.com, Snapdeal.com                Myntra.com                Paytm.com                                Paytm.com              Paytm.com              Amazon.in, Flipkart.com                            Amazon.in, Flipkart.com        Amazon.in, Flipkart.com, Paytm.com                            Amazon.in, Flipkart.com                   \n",
       "4                                     Paytm.com                 Paytm.com                Paytm.com                             Snapdeal.com              Paytm.com                            Amazon.in                                       Snapdeal.com                                 Paytm.com                              Amazon.in, Myntra.com                   "
      ]
     },
     "execution_count": 6,
     "metadata": {},
     "output_type": "execute_result"
    }
   ],
   "source": [
    "#head of the dataset which shows first 5 rows of dataset\n",
    "\n",
    "data.head()"
   ]
  },
  {
   "cell_type": "code",
   "execution_count": 7,
   "metadata": {},
   "outputs": [
    {
     "data": {
      "text/html": [
       "<div>\n",
       "<style scoped>\n",
       "    .dataframe tbody tr th:only-of-type {\n",
       "        vertical-align: middle;\n",
       "    }\n",
       "\n",
       "    .dataframe tbody tr th {\n",
       "        vertical-align: top;\n",
       "    }\n",
       "\n",
       "    .dataframe thead th {\n",
       "        text-align: right;\n",
       "    }\n",
       "</style>\n",
       "<table border=\"1\" class=\"dataframe\">\n",
       "  <thead>\n",
       "    <tr style=\"text-align: right;\">\n",
       "      <th></th>\n",
       "      <th>Gender</th>\n",
       "      <th>How old are you</th>\n",
       "      <th>city</th>\n",
       "      <th>Pin Code</th>\n",
       "      <th>How Long You are Shopping Online</th>\n",
       "      <th>How many times in the past 1 year</th>\n",
       "      <th>How do you access the internet</th>\n",
       "      <th>device</th>\n",
       "      <th>screen size</th>\n",
       "      <th>operating system</th>\n",
       "      <th>browser</th>\n",
       "      <th>channel</th>\n",
       "      <th>After first visit</th>\n",
       "      <th>How much times</th>\n",
       "      <th>payment Option</th>\n",
       "      <th>How frequently do you abandon</th>\n",
       "      <th>Why did you abandon</th>\n",
       "      <th>content on the website</th>\n",
       "      <th>similar product</th>\n",
       "      <th>Complete information</th>\n",
       "      <th>relevant information</th>\n",
       "      <th>Ease of navigation</th>\n",
       "      <th>Loading and processing speed</th>\n",
       "      <th>User friendly</th>\n",
       "      <th>Convenient Payment methods</th>\n",
       "      <th>Trust that the online retail store</th>\n",
       "      <th>Empathy towards the customers</th>\n",
       "      <th>privacy of the customer</th>\n",
       "      <th>Responsiveness and availability</th>\n",
       "      <th>monetary benefit and discounts</th>\n",
       "      <th>Enjoyment is derived from shopping online</th>\n",
       "      <th>Shopping online is convenient and flexible</th>\n",
       "      <th>Return and replacement policy</th>\n",
       "      <th>Gaining access to loyalty</th>\n",
       "      <th>quality Information on the website</th>\n",
       "      <th>User derive satisfaction</th>\n",
       "      <th>Net Benefit</th>\n",
       "      <th>User satisfaction cannot exist without trust</th>\n",
       "      <th>Offering a wide variety</th>\n",
       "      <th>Provision of complete and relevant product information</th>\n",
       "      <th>Monetary savings</th>\n",
       "      <th>The Convenience of patronizing the online retailer</th>\n",
       "      <th>sense of adventure</th>\n",
       "      <th>enhances your social status</th>\n",
       "      <th>gratification shopping on your favorite e-tailer</th>\n",
       "      <th>Shopping on the website helps you fulfill certain roles</th>\n",
       "      <th>Getting value for money spent</th>\n",
       "      <th>you have shopped from</th>\n",
       "      <th>Easy to use website or application</th>\n",
       "      <th>Visual appealing web-page layout</th>\n",
       "      <th>Wild variety of product on offer</th>\n",
       "      <th>Complete description information of products</th>\n",
       "      <th>Fast loading website speed of website and application</th>\n",
       "      <th>Reliability of the website or application</th>\n",
       "      <th>Quickness to complete purchase</th>\n",
       "      <th>Availability of several payment options</th>\n",
       "      <th>Speedy order delivery</th>\n",
       "      <th>Privacy of customers’ information</th>\n",
       "      <th>Security of customer financial information</th>\n",
       "      <th>Perceived Trustworthiness</th>\n",
       "      <th>Presence of online assistance through multi-channel</th>\n",
       "      <th>Longer time to get logged in</th>\n",
       "      <th>Longer time in displaying graphics and photos</th>\n",
       "      <th>Late declaration of price</th>\n",
       "      <th>Longer page loading time</th>\n",
       "      <th>Limited mode of payment on most products</th>\n",
       "      <th>Longer delivery period</th>\n",
       "      <th>Change in website/Application design</th>\n",
       "      <th>Frequent disruption when moving from one page to another</th>\n",
       "      <th>Website is as efficient as before</th>\n",
       "      <th>Which of the Indian online retailer would you recommend to a friend</th>\n",
       "    </tr>\n",
       "  </thead>\n",
       "  <tbody>\n",
       "    <tr>\n",
       "      <th>264</th>\n",
       "      <td>Female</td>\n",
       "      <td>21-30 years</td>\n",
       "      <td>Solan</td>\n",
       "      <td>173212</td>\n",
       "      <td>1-2 years</td>\n",
       "      <td>Less than 10 times</td>\n",
       "      <td>Mobile Internet</td>\n",
       "      <td>Smartphone</td>\n",
       "      <td>5.5 inches</td>\n",
       "      <td>Android</td>\n",
       "      <td>Opera</td>\n",
       "      <td>Display Adverts</td>\n",
       "      <td>Social Media</td>\n",
       "      <td>more than 15 mins</td>\n",
       "      <td>Cash on delivery (CoD)</td>\n",
       "      <td>Never</td>\n",
       "      <td>Better alternative offer</td>\n",
       "      <td>Agree (4)</td>\n",
       "      <td>Agree (4)</td>\n",
       "      <td>Agree (4)</td>\n",
       "      <td>Agree (4)</td>\n",
       "      <td>Agree (4)</td>\n",
       "      <td>Agree (4)</td>\n",
       "      <td>Agree (4)</td>\n",
       "      <td>Agree (4)</td>\n",
       "      <td>Agree (4)</td>\n",
       "      <td>Agree (4)</td>\n",
       "      <td>Agree (4)</td>\n",
       "      <td>Agree (4)</td>\n",
       "      <td>indifferent (3)</td>\n",
       "      <td>indifferent (3)</td>\n",
       "      <td>indifferent (3)</td>\n",
       "      <td>Dis-agree (2)</td>\n",
       "      <td>indifferent (3)</td>\n",
       "      <td>indifferent (3)</td>\n",
       "      <td>Dis-agree (2)</td>\n",
       "      <td>indifferent (3)</td>\n",
       "      <td>Agree (4)</td>\n",
       "      <td>Agree (4)</td>\n",
       "      <td>indifferent (3)</td>\n",
       "      <td>Disagree (2)</td>\n",
       "      <td>indifferent (3)</td>\n",
       "      <td>Dis-agree (2)</td>\n",
       "      <td>Agree (4)</td>\n",
       "      <td>indifferent (3)</td>\n",
       "      <td>Agree (4)</td>\n",
       "      <td>indifferent (3)</td>\n",
       "      <td>Amazon.in</td>\n",
       "      <td>Amazon.in</td>\n",
       "      <td>Amazon.in</td>\n",
       "      <td>Amazon.in</td>\n",
       "      <td>Amazon.in</td>\n",
       "      <td>Amazon.in</td>\n",
       "      <td>Amazon.in</td>\n",
       "      <td>Amazon.com</td>\n",
       "      <td>Amazon.in</td>\n",
       "      <td>Amazon.in</td>\n",
       "      <td>Amazon.in</td>\n",
       "      <td>Amazon.in</td>\n",
       "      <td>Amazon.in</td>\n",
       "      <td>Amazon.in</td>\n",
       "      <td>Amazon.in</td>\n",
       "      <td>Amazon.in</td>\n",
       "      <td>Amazon.in</td>\n",
       "      <td>Amazon.in</td>\n",
       "      <td>Amazon.in</td>\n",
       "      <td>Amazon.in</td>\n",
       "      <td>Amazon.in</td>\n",
       "      <td>Amazon.in</td>\n",
       "      <td>Amazon.in</td>\n",
       "      <td>Amazon.in</td>\n",
       "    </tr>\n",
       "    <tr>\n",
       "      <th>265</th>\n",
       "      <td>Female</td>\n",
       "      <td>31-40 years</td>\n",
       "      <td>Ghaziabad</td>\n",
       "      <td>201008</td>\n",
       "      <td>1-2 years</td>\n",
       "      <td>31-40 times</td>\n",
       "      <td>Mobile Internet</td>\n",
       "      <td>Smartphone</td>\n",
       "      <td>Others</td>\n",
       "      <td>Android</td>\n",
       "      <td>Google chrome</td>\n",
       "      <td>Search Engine</td>\n",
       "      <td>Via application</td>\n",
       "      <td>Less than 1 min</td>\n",
       "      <td>Cash on delivery (CoD)</td>\n",
       "      <td>Sometimes</td>\n",
       "      <td>Change in price</td>\n",
       "      <td>Strongly agree (5)</td>\n",
       "      <td>Strongly agree (5)</td>\n",
       "      <td>Strongly agree (5)</td>\n",
       "      <td>Strongly agree (5)</td>\n",
       "      <td>Strongly agree (5)</td>\n",
       "      <td>Strongly agree (5)</td>\n",
       "      <td>Strongly agree (5)</td>\n",
       "      <td>Strongly agree (5)</td>\n",
       "      <td>Strongly agree (5)</td>\n",
       "      <td>Strongly agree (5)</td>\n",
       "      <td>Strongly agree (5)</td>\n",
       "      <td>Strongly agree (5)</td>\n",
       "      <td>Strongly agree (5)</td>\n",
       "      <td>Strongly agree (5)</td>\n",
       "      <td>Strongly agree (5)</td>\n",
       "      <td>Strongly agree (5)</td>\n",
       "      <td>Strongly agree (5)</td>\n",
       "      <td>Strongly agree (5)</td>\n",
       "      <td>Strongly agree (5)</td>\n",
       "      <td>Strongly agree (5)</td>\n",
       "      <td>Strongly agree (5)</td>\n",
       "      <td>Strongly agree (5)</td>\n",
       "      <td>Strongly agree (5)</td>\n",
       "      <td>Strongly agree (5)</td>\n",
       "      <td>Strongly agree (5)</td>\n",
       "      <td>Strongly agree (5)</td>\n",
       "      <td>Strongly agree (5)</td>\n",
       "      <td>Strongly agree (5)</td>\n",
       "      <td>Strongly agree (5)</td>\n",
       "      <td>Strongly agree (5)</td>\n",
       "      <td>Amazon.in, Flipkart.com</td>\n",
       "      <td>Flipkart.com</td>\n",
       "      <td>Amazon.in</td>\n",
       "      <td>Amazon.in</td>\n",
       "      <td>Flipkart.com</td>\n",
       "      <td>Flipkart.com</td>\n",
       "      <td>Flipkart.com</td>\n",
       "      <td>Flipkart.com</td>\n",
       "      <td>Flipkart.com</td>\n",
       "      <td>Flipkart.com</td>\n",
       "      <td>Flipkart.com</td>\n",
       "      <td>Flipkart.com</td>\n",
       "      <td>Flipkart.com</td>\n",
       "      <td>Flipkart.com</td>\n",
       "      <td>Flipkart.com</td>\n",
       "      <td>Flipkart.com</td>\n",
       "      <td>Flipkart.com</td>\n",
       "      <td>Flipkart.com</td>\n",
       "      <td>Flipkart.com</td>\n",
       "      <td>Flipkart.com</td>\n",
       "      <td>Flipkart.com</td>\n",
       "      <td>Flipkart.com</td>\n",
       "      <td>Flipkart.com</td>\n",
       "      <td>Flipkart.com</td>\n",
       "    </tr>\n",
       "    <tr>\n",
       "      <th>266</th>\n",
       "      <td>Female</td>\n",
       "      <td>41-50 yaers</td>\n",
       "      <td>Bangalore</td>\n",
       "      <td>560010</td>\n",
       "      <td>2-3 years</td>\n",
       "      <td>Less than 10 times</td>\n",
       "      <td>Mobile internet</td>\n",
       "      <td>Laptop</td>\n",
       "      <td>Others</td>\n",
       "      <td>Window/windows Mobile</td>\n",
       "      <td>Google chrome</td>\n",
       "      <td>Search Engine</td>\n",
       "      <td>Search Engine</td>\n",
       "      <td>more than 15 mins</td>\n",
       "      <td>Credit/Debit cards</td>\n",
       "      <td>Sometimes</td>\n",
       "      <td>Better alternative offer</td>\n",
       "      <td>Strongly agree (5)</td>\n",
       "      <td>Strongly agree (5)</td>\n",
       "      <td>Agree (4)</td>\n",
       "      <td>Agree (4)</td>\n",
       "      <td>Strongly agree (5)</td>\n",
       "      <td>Agree (4)</td>\n",
       "      <td>Agree (4)</td>\n",
       "      <td>Strongly agree (5)</td>\n",
       "      <td>Agree (4)</td>\n",
       "      <td>indifferent (3)</td>\n",
       "      <td>indifferent (3)</td>\n",
       "      <td>Agree (4)</td>\n",
       "      <td>Agree (4)</td>\n",
       "      <td>indifferent (3)</td>\n",
       "      <td>Agree (4)</td>\n",
       "      <td>Strongly agree (5)</td>\n",
       "      <td>indifferent (3)</td>\n",
       "      <td>Agree (4)</td>\n",
       "      <td>Agree (4)</td>\n",
       "      <td>Agree (4)</td>\n",
       "      <td>Agree (4)</td>\n",
       "      <td>indifferent (3)</td>\n",
       "      <td>Strongly agree (5)</td>\n",
       "      <td>Agree (4)</td>\n",
       "      <td>Agree (4)</td>\n",
       "      <td>Dis-agree (2)</td>\n",
       "      <td>indifferent (3)</td>\n",
       "      <td>Agree (4)</td>\n",
       "      <td>Agree (4)</td>\n",
       "      <td>Agree (4)</td>\n",
       "      <td>Amazon.in, Flipkart.com, Snapdeal.com</td>\n",
       "      <td>Amazon.in</td>\n",
       "      <td>Amazon.in</td>\n",
       "      <td>Amazon.in</td>\n",
       "      <td>Amazon.in</td>\n",
       "      <td>Amazon.in</td>\n",
       "      <td>Amazon.in</td>\n",
       "      <td>Amazon.com</td>\n",
       "      <td>Amazon.in, Flipkart.com</td>\n",
       "      <td>Amazon.in</td>\n",
       "      <td>Amazon.in</td>\n",
       "      <td>Amazon.in</td>\n",
       "      <td>Amazon.in</td>\n",
       "      <td>Amazon.in</td>\n",
       "      <td>Amazon.in</td>\n",
       "      <td>Snapdeal.com</td>\n",
       "      <td>Amazon.in</td>\n",
       "      <td>Snapdeal.com</td>\n",
       "      <td>Snapdeal.com</td>\n",
       "      <td>Snapdeal.com</td>\n",
       "      <td>Snapdeal.com</td>\n",
       "      <td>Snapdeal.com</td>\n",
       "      <td>Amazon.in</td>\n",
       "      <td>Amazon.in</td>\n",
       "    </tr>\n",
       "    <tr>\n",
       "      <th>267</th>\n",
       "      <td>Female</td>\n",
       "      <td>Less than 20 years</td>\n",
       "      <td>Solan</td>\n",
       "      <td>173229</td>\n",
       "      <td>2-3 years</td>\n",
       "      <td>Less than 10 times</td>\n",
       "      <td>Wi-Fi</td>\n",
       "      <td>Smartphone</td>\n",
       "      <td>5.5 inches</td>\n",
       "      <td>Android</td>\n",
       "      <td>Google chrome</td>\n",
       "      <td>Search Engine</td>\n",
       "      <td>Direct URL</td>\n",
       "      <td>1-5 mins</td>\n",
       "      <td>Cash on delivery (CoD)</td>\n",
       "      <td>Sometimes</td>\n",
       "      <td>No preferred mode of payment</td>\n",
       "      <td>Strongly agree (5)</td>\n",
       "      <td>Agree (4)</td>\n",
       "      <td>Strongly agree (5)</td>\n",
       "      <td>Agree (4)</td>\n",
       "      <td>Agree (4)</td>\n",
       "      <td>Agree (4)</td>\n",
       "      <td>Strongly agree (5)</td>\n",
       "      <td>Strongly agree (5)</td>\n",
       "      <td>Strongly agree (5)</td>\n",
       "      <td>Strongly agree (5)</td>\n",
       "      <td>Strongly agree (5)</td>\n",
       "      <td>Strongly agree (5)</td>\n",
       "      <td>Strongly agree (5)</td>\n",
       "      <td>Agree (4)</td>\n",
       "      <td>Strongly agree (5)</td>\n",
       "      <td>Agree (4)</td>\n",
       "      <td>Agree (4)</td>\n",
       "      <td>Strongly agree (5)</td>\n",
       "      <td>Strongly agree (5)</td>\n",
       "      <td>Strongly agree (5)</td>\n",
       "      <td>Strongly agree (5)</td>\n",
       "      <td>Strongly agree (5)</td>\n",
       "      <td>Agree (4)</td>\n",
       "      <td>Agree (4)</td>\n",
       "      <td>Agree (4)</td>\n",
       "      <td>Agree (4)</td>\n",
       "      <td>indifferent (3)</td>\n",
       "      <td>indifferent (3)</td>\n",
       "      <td>Agree (4)</td>\n",
       "      <td>indifferent (3)</td>\n",
       "      <td>Amazon.in, Flipkart.com, Myntra.com, Snapdeal.com</td>\n",
       "      <td>Amazon.in, Flipkart.com, Myntra.com, Snapdeal.com</td>\n",
       "      <td>Amazon.in, Flipkart.com, Myntra.com, Snapdeal.com</td>\n",
       "      <td>Amazon.in, Flipkart.com, Myntra.com, Snapdeal.com</td>\n",
       "      <td>Amazon.in, Flipkart.com, Myntra.com, Snapdeal.com</td>\n",
       "      <td>Amazon.in, Flipkart.com, Myntra.com, Snapdeal.com</td>\n",
       "      <td>Amazon.in, Flipkart.com, Myntra.com, Snapdeal.com</td>\n",
       "      <td>Flipkart.com, Myntra.com, Snapdeal</td>\n",
       "      <td>Flipkart.com, Myntra.com, Snapdeal.com</td>\n",
       "      <td>Flipkart.com, Myntra.com, Snapdeal.com</td>\n",
       "      <td>Amazon.in, Flipkart.com, Myntra.com, Snapdeal.com</td>\n",
       "      <td>Amazon.in, Flipkart.com, Myntra.com, Snapdeal.com</td>\n",
       "      <td>Amazon.in, Flipkart.com, Myntra.com, Snapdeal.com</td>\n",
       "      <td>Amazon.in, Flipkart.com, Myntra.com, Snapdeal</td>\n",
       "      <td>Amazon.in</td>\n",
       "      <td>Amazon.in, Myntra.com, Snapdeal.com</td>\n",
       "      <td>Amazon.in</td>\n",
       "      <td>Amazon.in, Snapdeal.com</td>\n",
       "      <td>Amazon.in</td>\n",
       "      <td>Amazon.in</td>\n",
       "      <td>Amazon.in</td>\n",
       "      <td>Myntra.com, Snapdeal.com</td>\n",
       "      <td>Myntra.com, Snapdeal.com</td>\n",
       "      <td>Amazon.in</td>\n",
       "    </tr>\n",
       "    <tr>\n",
       "      <th>268</th>\n",
       "      <td>Female</td>\n",
       "      <td>41-50 yaers</td>\n",
       "      <td>Ghaziabad</td>\n",
       "      <td>201009</td>\n",
       "      <td>2-3 years</td>\n",
       "      <td>31-40 times</td>\n",
       "      <td>Mobile Internet</td>\n",
       "      <td>Smartphone</td>\n",
       "      <td>5.5 inches</td>\n",
       "      <td>Android</td>\n",
       "      <td>Google chrome</td>\n",
       "      <td>Search Engine</td>\n",
       "      <td>Via application</td>\n",
       "      <td>11-15 mins</td>\n",
       "      <td>Cash on delivery (CoD)</td>\n",
       "      <td>Never</td>\n",
       "      <td>Promo code not applicable</td>\n",
       "      <td>Strongly agree (5)</td>\n",
       "      <td>Strongly agree (5)</td>\n",
       "      <td>Strongly agree (5)</td>\n",
       "      <td>Strongly agree (5)</td>\n",
       "      <td>Strongly agree (5)</td>\n",
       "      <td>Strongly agree (5)</td>\n",
       "      <td>Strongly agree (5)</td>\n",
       "      <td>Strongly agree (5)</td>\n",
       "      <td>Strongly agree (5)</td>\n",
       "      <td>Strongly agree (5)</td>\n",
       "      <td>Strongly agree (5)</td>\n",
       "      <td>Strongly agree (5)</td>\n",
       "      <td>Strongly agree (5)</td>\n",
       "      <td>Strongly agree (5)</td>\n",
       "      <td>Strongly agree (5)</td>\n",
       "      <td>Strongly agree (5)</td>\n",
       "      <td>Strongly agree (5)</td>\n",
       "      <td>Agree (4)</td>\n",
       "      <td>Strongly agree (5)</td>\n",
       "      <td>Strongly agree (5)</td>\n",
       "      <td>Strongly agree (5)</td>\n",
       "      <td>Strongly agree (5)</td>\n",
       "      <td>Strongly agree (5)</td>\n",
       "      <td>Strongly agree (5)</td>\n",
       "      <td>Strongly agree (5)</td>\n",
       "      <td>Strongly agree (5)</td>\n",
       "      <td>Strongly agree (5)</td>\n",
       "      <td>Strongly agree (5)</td>\n",
       "      <td>Strongly agree (5)</td>\n",
       "      <td>Strongly agree (5)</td>\n",
       "      <td>Amazon.in</td>\n",
       "      <td>Amazon.in</td>\n",
       "      <td>Amazon.in</td>\n",
       "      <td>Amazon.in</td>\n",
       "      <td>Amazon.in</td>\n",
       "      <td>Amazon.in</td>\n",
       "      <td>Amazon.in</td>\n",
       "      <td>Amazon.com</td>\n",
       "      <td>Amazon.in</td>\n",
       "      <td>Amazon.in</td>\n",
       "      <td>Amazon.in</td>\n",
       "      <td>Amazon.in</td>\n",
       "      <td>Amazon.in</td>\n",
       "      <td>Amazon.in</td>\n",
       "      <td>Amazon.in</td>\n",
       "      <td>Amazon.in</td>\n",
       "      <td>Amazon.in</td>\n",
       "      <td>Amazon.in</td>\n",
       "      <td>Amazon.in</td>\n",
       "      <td>Amazon.in</td>\n",
       "      <td>Amazon.in</td>\n",
       "      <td>Amazon.in</td>\n",
       "      <td>Amazon.in</td>\n",
       "      <td>Amazon.in</td>\n",
       "    </tr>\n",
       "  </tbody>\n",
       "</table>\n",
       "</div>"
      ],
      "text/plain": [
       "     Gender     How old are you        city  Pin Code How Long You are Shopping Online How many times in the past 1 year How do you access the internet      device screen size       operating system        browser          channel After first visit     How much times          payment Option How frequently do you abandon           Why did you abandon content on the website     similar product Complete information relevant information  Ease of navigation Loading and processing speed       User friendly Convenient Payment methods Trust that the online retail store Empathy towards the customers privacy of the customer Responsiveness and availability monetary benefit and discounts Enjoyment is derived from shopping online Shopping online is convenient and flexible Return and replacement policy Gaining access to loyalty quality Information on the website User derive satisfaction         Net Benefit User satisfaction cannot exist without trust Offering a wide variety  \\\n",
       "264  Female         21-30 years       Solan    173212                        1-2 years                Less than 10 times                Mobile Internet  Smartphone  5.5 inches                Android          Opera  Display Adverts      Social Media  more than 15 mins  Cash on delivery (CoD)                         Never      Better alternative offer              Agree (4)           Agree (4)            Agree (4)            Agree (4)           Agree (4)                    Agree (4)           Agree (4)                  Agree (4)                          Agree (4)                     Agree (4)               Agree (4)                       Agree (4)                indifferent (3)                           indifferent (3)                            indifferent (3)                 Dis-agree (2)           indifferent (3)                    indifferent (3)            Dis-agree (2)     indifferent (3)                                    Agree (4)               Agree (4)   \n",
       "265  Female         31-40 years   Ghaziabad    201008                        1-2 years                       31-40 times                Mobile Internet  Smartphone      Others                Android  Google chrome    Search Engine   Via application    Less than 1 min  Cash on delivery (CoD)                     Sometimes               Change in price     Strongly agree (5)  Strongly agree (5)   Strongly agree (5)   Strongly agree (5)  Strongly agree (5)           Strongly agree (5)  Strongly agree (5)         Strongly agree (5)                 Strongly agree (5)            Strongly agree (5)      Strongly agree (5)              Strongly agree (5)             Strongly agree (5)                        Strongly agree (5)                         Strongly agree (5)            Strongly agree (5)        Strongly agree (5)                 Strongly agree (5)       Strongly agree (5)  Strongly agree (5)                           Strongly agree (5)      Strongly agree (5)   \n",
       "266  Female         41-50 yaers  Bangalore     560010                        2-3 years                Less than 10 times                Mobile internet      Laptop      Others  Window/windows Mobile  Google chrome    Search Engine     Search Engine  more than 15 mins      Credit/Debit cards                     Sometimes      Better alternative offer     Strongly agree (5)  Strongly agree (5)            Agree (4)            Agree (4)  Strongly agree (5)                    Agree (4)           Agree (4)         Strongly agree (5)                          Agree (4)               indifferent (3)         indifferent (3)                       Agree (4)                      Agree (4)                           indifferent (3)                                  Agree (4)            Strongly agree (5)           indifferent (3)                          Agree (4)                Agree (4)           Agree (4)                                    Agree (4)         indifferent (3)   \n",
       "267  Female  Less than 20 years       Solan    173229                        2-3 years                Less than 10 times                          Wi-Fi  Smartphone  5.5 inches                Android  Google chrome    Search Engine        Direct URL           1-5 mins  Cash on delivery (CoD)                     Sometimes  No preferred mode of payment     Strongly agree (5)           Agree (4)   Strongly agree (5)            Agree (4)           Agree (4)                    Agree (4)  Strongly agree (5)         Strongly agree (5)                 Strongly agree (5)            Strongly agree (5)      Strongly agree (5)              Strongly agree (5)             Strongly agree (5)                                 Agree (4)                         Strongly agree (5)                     Agree (4)                 Agree (4)                 Strongly agree (5)       Strongly agree (5)  Strongly agree (5)                           Strongly agree (5)      Strongly agree (5)   \n",
       "268  Female         41-50 yaers   Ghaziabad    201009                        2-3 years                       31-40 times                Mobile Internet  Smartphone  5.5 inches                Android  Google chrome    Search Engine   Via application         11-15 mins  Cash on delivery (CoD)                         Never     Promo code not applicable     Strongly agree (5)  Strongly agree (5)   Strongly agree (5)   Strongly agree (5)  Strongly agree (5)           Strongly agree (5)  Strongly agree (5)         Strongly agree (5)                 Strongly agree (5)            Strongly agree (5)      Strongly agree (5)              Strongly agree (5)             Strongly agree (5)                        Strongly agree (5)                         Strongly agree (5)            Strongly agree (5)        Strongly agree (5)                          Agree (4)       Strongly agree (5)  Strongly agree (5)                           Strongly agree (5)      Strongly agree (5)   \n",
       "\n",
       "    Provision of complete and relevant product information    Monetary savings The Convenience of patronizing the online retailer  sense of adventure enhances your social status gratification shopping on your favorite e-tailer Shopping on the website helps you fulfill certain roles Getting value for money spent                              you have shopped from                 Easy to use website or application                   Visual appealing web-page layout                   Wild variety of product on offer       Complete description information of products Fast loading website speed of website and application          Reliability of the website or application      Quickness to complete purchase Availability of several payment options                  Speedy order delivery                   Privacy of customers’ information         Security of customer financial information                          Perceived Trustworthiness Presence of online assistance through multi-channel  \\\n",
       "264                                    indifferent (3)            Disagree (2)                                    indifferent (3)       Dis-agree (2)                   Agree (4)                                  indifferent (3)                                          Agree (4)                    indifferent (3)                                          Amazon.in                                          Amazon.in                                          Amazon.in                                          Amazon.in                                          Amazon.in                                          Amazon.in                                             Amazon.in                          Amazon.com                               Amazon.in                               Amazon.in                                          Amazon.in                                          Amazon.in                                          Amazon.in                                          Amazon.in    \n",
       "265                                 Strongly agree (5)      Strongly agree (5)                                 Strongly agree (5)  Strongly agree (5)          Strongly agree (5)                               Strongly agree (5)                                 Strongly agree (5)                 Strongly agree (5)                            Amazon.in, Flipkart.com                                       Flipkart.com                                          Amazon.in                                          Amazon.in                                       Flipkart.com                                       Flipkart.com                                          Flipkart.com                        Flipkart.com                            Flipkart.com                            Flipkart.com                                       Flipkart.com                                       Flipkart.com                                       Flipkart.com                                       Flipkart.com    \n",
       "266                                 Strongly agree (5)               Agree (4)                                          Agree (4)       Dis-agree (2)             indifferent (3)                                        Agree (4)                                          Agree (4)                          Agree (4)              Amazon.in, Flipkart.com, Snapdeal.com                                          Amazon.in                                          Amazon.in                                          Amazon.in                                          Amazon.in                                          Amazon.in                                             Amazon.in                          Amazon.com                 Amazon.in, Flipkart.com                               Amazon.in                                          Amazon.in                                          Amazon.in                                          Amazon.in                                          Amazon.in    \n",
       "267                                          Agree (4)               Agree (4)                                          Agree (4)           Agree (4)             indifferent (3)                                  indifferent (3)                                          Agree (4)                    indifferent (3)  Amazon.in, Flipkart.com, Myntra.com, Snapdeal.com  Amazon.in, Flipkart.com, Myntra.com, Snapdeal.com  Amazon.in, Flipkart.com, Myntra.com, Snapdeal.com  Amazon.in, Flipkart.com, Myntra.com, Snapdeal.com  Amazon.in, Flipkart.com, Myntra.com, Snapdeal.com  Amazon.in, Flipkart.com, Myntra.com, Snapdeal.com     Amazon.in, Flipkart.com, Myntra.com, Snapdeal.com  Flipkart.com, Myntra.com, Snapdeal  Flipkart.com, Myntra.com, Snapdeal.com  Flipkart.com, Myntra.com, Snapdeal.com  Amazon.in, Flipkart.com, Myntra.com, Snapdeal.com  Amazon.in, Flipkart.com, Myntra.com, Snapdeal.com  Amazon.in, Flipkart.com, Myntra.com, Snapdeal.com      Amazon.in, Flipkart.com, Myntra.com, Snapdeal    \n",
       "268                                 Strongly agree (5)      Strongly agree (5)                                 Strongly agree (5)  Strongly agree (5)          Strongly agree (5)                               Strongly agree (5)                                 Strongly agree (5)                 Strongly agree (5)                                          Amazon.in                                          Amazon.in                                          Amazon.in                                          Amazon.in                                          Amazon.in                                          Amazon.in                                             Amazon.in                          Amazon.com                               Amazon.in                               Amazon.in                                          Amazon.in                                          Amazon.in                                          Amazon.in                                          Amazon.in    \n",
       "\n",
       "    Longer time to get logged in Longer time in displaying graphics and photos Late declaration of price Longer page loading time Limited mode of payment on most products Longer delivery period Change in website/Application design Frequent disruption when moving from one page to another Website is as efficient as before Which of the Indian online retailer would you recommend to a friend  \n",
       "264                    Amazon.in                                     Amazon.in                 Amazon.in                Amazon.in                                Amazon.in              Amazon.in                            Amazon.in                                          Amazon.in                               Amazon.in                                          Amazon.in                   \n",
       "265                 Flipkart.com                                  Flipkart.com              Flipkart.com             Flipkart.com                             Flipkart.com           Flipkart.com                         Flipkart.com                                       Flipkart.com                            Flipkart.com                                       Flipkart.com                   \n",
       "266                    Amazon.in                                  Snapdeal.com                 Amazon.in             Snapdeal.com                             Snapdeal.com           Snapdeal.com                         Snapdeal.com                                       Snapdeal.com                               Amazon.in                                          Amazon.in                   \n",
       "267                    Amazon.in           Amazon.in, Myntra.com, Snapdeal.com                 Amazon.in  Amazon.in, Snapdeal.com                                Amazon.in              Amazon.in                            Amazon.in                           Myntra.com, Snapdeal.com                Myntra.com, Snapdeal.com                                          Amazon.in                   \n",
       "268                    Amazon.in                                     Amazon.in                 Amazon.in                Amazon.in                                Amazon.in              Amazon.in                            Amazon.in                                          Amazon.in                               Amazon.in                                          Amazon.in                   "
      ]
     },
     "execution_count": 7,
     "metadata": {},
     "output_type": "execute_result"
    }
   ],
   "source": [
    "#tail of the dataset which shows last 5 rows of dataset\n",
    "\n",
    "data.tail()"
   ]
  },
  {
   "cell_type": "code",
   "execution_count": 8,
   "metadata": {
    "scrolled": false
   },
   "outputs": [
    {
     "data": {
      "text/plain": [
       "Gender                                                                 object\n",
       "How old are you                                                        object\n",
       "city                                                                   object\n",
       "Pin Code                                                                int64\n",
       "How Long You are Shopping Online                                       object\n",
       "How many times in the past 1 year                                      object\n",
       "How do you access the internet                                         object\n",
       "device                                                                 object\n",
       "screen size                                                            object\n",
       "operating system                                                       object\n",
       "browser                                                                object\n",
       "channel                                                                object\n",
       "After first visit                                                      object\n",
       "How much times                                                         object\n",
       "payment Option                                                         object\n",
       "How frequently do you abandon                                          object\n",
       "Why did you abandon                                                    object\n",
       "content on the website                                                 object\n",
       "similar product                                                        object\n",
       "Complete information                                                   object\n",
       "relevant information                                                   object\n",
       "Ease of navigation                                                     object\n",
       "Loading and processing speed                                           object\n",
       "User friendly                                                          object\n",
       "Convenient Payment methods                                             object\n",
       "Trust that the online retail store                                     object\n",
       "Empathy towards the customers                                          object\n",
       "privacy of the customer                                                object\n",
       "Responsiveness and availability                                        object\n",
       "monetary benefit and discounts                                         object\n",
       "Enjoyment is derived from shopping online                              object\n",
       "Shopping online is convenient and flexible                             object\n",
       "Return and replacement policy                                          object\n",
       "Gaining access to loyalty                                              object\n",
       "quality Information on the website                                     object\n",
       "User derive satisfaction                                               object\n",
       "Net Benefit                                                            object\n",
       "User satisfaction cannot exist without trust                           object\n",
       "Offering a wide variety                                                object\n",
       "Provision of complete and relevant product information                 object\n",
       "Monetary savings                                                       object\n",
       "The Convenience of patronizing the online retailer                     object\n",
       "sense of adventure                                                     object\n",
       "enhances your social status                                            object\n",
       "gratification shopping on your favorite e-tailer                       object\n",
       "Shopping on the website helps you fulfill certain roles                object\n",
       "Getting value for money spent                                          object\n",
       "you have shopped from                                                  object\n",
       "Easy to use website or application                                     object\n",
       "Visual appealing web-page layout                                       object\n",
       "Wild variety of product on offer                                       object\n",
       "Complete description information of products                           object\n",
       "Fast loading website speed of website and application                  object\n",
       "Reliability of the website or application                              object\n",
       "Quickness to complete purchase                                         object\n",
       "Availability of several payment options                                object\n",
       "Speedy order delivery                                                  object\n",
       "Privacy of customers’ information                                      object\n",
       "Security of customer financial information                             object\n",
       "Perceived Trustworthiness                                              object\n",
       "Presence of online assistance through multi-channel                    object\n",
       "Longer time to get logged in                                           object\n",
       "Longer time in displaying graphics and photos                          object\n",
       "Late declaration of price                                              object\n",
       "Longer page loading time                                               object\n",
       "Limited mode of payment on most products                               object\n",
       "Longer delivery period                                                 object\n",
       "Change in website/Application design                                   object\n",
       "Frequent disruption when moving from one page to another               object\n",
       "Website is as efficient as before                                      object\n",
       "Which of the Indian online retailer would you recommend to a friend    object\n",
       "dtype: object"
      ]
     },
     "execution_count": 8,
     "metadata": {},
     "output_type": "execute_result"
    }
   ],
   "source": [
    "#columns and their data types \n",
    "\n",
    "data.dtypes"
   ]
  },
  {
   "cell_type": "code",
   "execution_count": 9,
   "metadata": {
    "scrolled": false
   },
   "outputs": [
    {
     "data": {
      "text/plain": [
       "Gender                                                                 0\n",
       "How old are you                                                        0\n",
       "city                                                                   0\n",
       "Pin Code                                                               0\n",
       "How Long You are Shopping Online                                       0\n",
       "How many times in the past 1 year                                      0\n",
       "How do you access the internet                                         0\n",
       "device                                                                 0\n",
       "screen size                                                            0\n",
       "operating system                                                       0\n",
       "browser                                                                0\n",
       "channel                                                                0\n",
       "After first visit                                                      0\n",
       "How much times                                                         0\n",
       "payment Option                                                         0\n",
       "How frequently do you abandon                                          0\n",
       "Why did you abandon                                                    0\n",
       "content on the website                                                 0\n",
       "similar product                                                        0\n",
       "Complete information                                                   0\n",
       "relevant information                                                   0\n",
       "Ease of navigation                                                     0\n",
       "Loading and processing speed                                           0\n",
       "User friendly                                                          0\n",
       "Convenient Payment methods                                             0\n",
       "Trust that the online retail store                                     0\n",
       "Empathy towards the customers                                          0\n",
       "privacy of the customer                                                0\n",
       "Responsiveness and availability                                        0\n",
       "monetary benefit and discounts                                         0\n",
       "Enjoyment is derived from shopping online                              0\n",
       "Shopping online is convenient and flexible                             0\n",
       "Return and replacement policy                                          0\n",
       "Gaining access to loyalty                                              0\n",
       "quality Information on the website                                     0\n",
       "User derive satisfaction                                               0\n",
       "Net Benefit                                                            0\n",
       "User satisfaction cannot exist without trust                           0\n",
       "Offering a wide variety                                                0\n",
       "Provision of complete and relevant product information                 0\n",
       "Monetary savings                                                       0\n",
       "The Convenience of patronizing the online retailer                     0\n",
       "sense of adventure                                                     0\n",
       "enhances your social status                                            0\n",
       "gratification shopping on your favorite e-tailer                       0\n",
       "Shopping on the website helps you fulfill certain roles                0\n",
       "Getting value for money spent                                          0\n",
       "you have shopped from                                                  0\n",
       "Easy to use website or application                                     0\n",
       "Visual appealing web-page layout                                       0\n",
       "Wild variety of product on offer                                       0\n",
       "Complete description information of products                           0\n",
       "Fast loading website speed of website and application                  0\n",
       "Reliability of the website or application                              0\n",
       "Quickness to complete purchase                                         0\n",
       "Availability of several payment options                                0\n",
       "Speedy order delivery                                                  0\n",
       "Privacy of customers’ information                                      0\n",
       "Security of customer financial information                             0\n",
       "Perceived Trustworthiness                                              0\n",
       "Presence of online assistance through multi-channel                    0\n",
       "Longer time to get logged in                                           0\n",
       "Longer time in displaying graphics and photos                          0\n",
       "Late declaration of price                                              0\n",
       "Longer page loading time                                               0\n",
       "Limited mode of payment on most products                               0\n",
       "Longer delivery period                                                 0\n",
       "Change in website/Application design                                   0\n",
       "Frequent disruption when moving from one page to another               0\n",
       "Website is as efficient as before                                      0\n",
       "Which of the Indian online retailer would you recommend to a friend    0\n",
       "dtype: int64"
      ]
     },
     "execution_count": 9,
     "metadata": {},
     "output_type": "execute_result"
    }
   ],
   "source": [
    "#finding null values  \n",
    "\n",
    "data.isnull().sum()"
   ]
  },
  {
   "cell_type": "markdown",
   "metadata": {},
   "source": [
    "This tells us there are no null values in the dataset"
   ]
  },
  {
   "cell_type": "code",
   "execution_count": 10,
   "metadata": {
    "scrolled": false
   },
   "outputs": [
    {
     "data": {
      "text/plain": [
       "Gender                                                                  2\n",
       "How old are you                                                         5\n",
       "city                                                                   11\n",
       "Pin Code                                                               39\n",
       "How Long You are Shopping Online                                        5\n",
       "How many times in the past 1 year                                       6\n",
       "How do you access the internet                                          4\n",
       "device                                                                  4\n",
       "screen size                                                             4\n",
       "operating system                                                        3\n",
       "browser                                                                 4\n",
       "channel                                                                 3\n",
       "After first visit                                                       5\n",
       "How much times                                                          5\n",
       "payment Option                                                          3\n",
       "How frequently do you abandon                                           4\n",
       "Why did you abandon                                                     5\n",
       "content on the website                                                  4\n",
       "similar product                                                         4\n",
       "Complete information                                                    5\n",
       "relevant information                                                    4\n",
       "Ease of navigation                                                      4\n",
       "Loading and processing speed                                            5\n",
       "User friendly                                                           5\n",
       "Convenient Payment methods                                              3\n",
       "Trust that the online retail store                                      4\n",
       "Empathy towards the customers                                           4\n",
       "privacy of the customer                                                 3\n",
       "Responsiveness and availability                                         4\n",
       "monetary benefit and discounts                                          5\n",
       "Enjoyment is derived from shopping online                               5\n",
       "Shopping online is convenient and flexible                              4\n",
       "Return and replacement policy                                           3\n",
       "Gaining access to loyalty                                               5\n",
       "quality Information on the website                                      3\n",
       "User derive satisfaction                                                3\n",
       "Net Benefit                                                             4\n",
       "User satisfaction cannot exist without trust                            5\n",
       "Offering a wide variety                                                 4\n",
       "Provision of complete and relevant product information                  4\n",
       "Monetary savings                                                        4\n",
       "The Convenience of patronizing the online retailer                      3\n",
       "sense of adventure                                                      5\n",
       "enhances your social status                                             5\n",
       "gratification shopping on your favorite e-tailer                        5\n",
       "Shopping on the website helps you fulfill certain roles                 5\n",
       "Getting value for money spent                                           3\n",
       "you have shopped from                                                   9\n",
       "Easy to use website or application                                     10\n",
       "Visual appealing web-page layout                                       10\n",
       "Wild variety of product on offer                                        9\n",
       "Complete description information of products                           11\n",
       "Fast loading website speed of website and application                  10\n",
       "Reliability of the website or application                              10\n",
       "Quickness to complete purchase                                          9\n",
       "Availability of several payment options                                11\n",
       "Speedy order delivery                                                   6\n",
       "Privacy of customers’ information                                      11\n",
       "Security of customer financial information                             11\n",
       "Perceived Trustworthiness                                               9\n",
       "Presence of online assistance through multi-channel                    10\n",
       "Longer time to get logged in                                           10\n",
       "Longer time in displaying graphics and photos                          10\n",
       "Late declaration of price                                               8\n",
       "Longer page loading time                                               11\n",
       "Limited mode of payment on most products                                8\n",
       "Longer delivery period                                                  6\n",
       "Change in website/Application design                                    7\n",
       "Frequent disruption when moving from one page to another                8\n",
       "Website is as efficient as before                                       8\n",
       "Which of the Indian online retailer would you recommend to a friend     8\n",
       "dtype: int64"
      ]
     },
     "execution_count": 10,
     "metadata": {},
     "output_type": "execute_result"
    }
   ],
   "source": [
    "#getting the unique values in a column\n",
    "\n",
    "data.nunique()"
   ]
  },
  {
   "cell_type": "code",
   "execution_count": 11,
   "metadata": {
    "scrolled": false
   },
   "outputs": [
    {
     "name": "stdout",
     "output_type": "stream",
     "text": [
      "<class 'pandas.core.frame.DataFrame'>\n",
      "RangeIndex: 269 entries, 0 to 268\n",
      "Data columns (total 71 columns):\n",
      " #   Column                                                               Non-Null Count  Dtype \n",
      "---  ------                                                               --------------  ----- \n",
      " 0   Gender                                                               269 non-null    object\n",
      " 1   How old are you                                                      269 non-null    object\n",
      " 2   city                                                                 269 non-null    object\n",
      " 3   Pin Code                                                             269 non-null    int64 \n",
      " 4   How Long You are Shopping Online                                     269 non-null    object\n",
      " 5   How many times in the past 1 year                                    269 non-null    object\n",
      " 6   How do you access the internet                                       269 non-null    object\n",
      " 7   device                                                               269 non-null    object\n",
      " 8   screen size                                                          269 non-null    object\n",
      " 9   operating system                                                     269 non-null    object\n",
      " 10  browser                                                              269 non-null    object\n",
      " 11  channel                                                              269 non-null    object\n",
      " 12  After first visit                                                    269 non-null    object\n",
      " 13  How much times                                                       269 non-null    object\n",
      " 14  payment Option                                                       269 non-null    object\n",
      " 15  How frequently do you abandon                                        269 non-null    object\n",
      " 16  Why did you abandon                                                  269 non-null    object\n",
      " 17  content on the website                                               269 non-null    object\n",
      " 18  similar product                                                      269 non-null    object\n",
      " 19  Complete information                                                 269 non-null    object\n",
      " 20  relevant information                                                 269 non-null    object\n",
      " 21  Ease of navigation                                                   269 non-null    object\n",
      " 22  Loading and processing speed                                         269 non-null    object\n",
      " 23  User friendly                                                        269 non-null    object\n",
      " 24  Convenient Payment methods                                           269 non-null    object\n",
      " 25  Trust that the online retail store                                   269 non-null    object\n",
      " 26  Empathy towards the customers                                        269 non-null    object\n",
      " 27  privacy of the customer                                              269 non-null    object\n",
      " 28  Responsiveness and availability                                      269 non-null    object\n",
      " 29  monetary benefit and discounts                                       269 non-null    object\n",
      " 30  Enjoyment is derived from shopping online                            269 non-null    object\n",
      " 31  Shopping online is convenient and flexible                           269 non-null    object\n",
      " 32  Return and replacement policy                                        269 non-null    object\n",
      " 33  Gaining access to loyalty                                            269 non-null    object\n",
      " 34  quality Information on the website                                   269 non-null    object\n",
      " 35  User derive satisfaction                                             269 non-null    object\n",
      " 36  Net Benefit                                                          269 non-null    object\n",
      " 37  User satisfaction cannot exist without trust                         269 non-null    object\n",
      " 38  Offering a wide variety                                              269 non-null    object\n",
      " 39  Provision of complete and relevant product information               269 non-null    object\n",
      " 40  Monetary savings                                                     269 non-null    object\n",
      " 41  The Convenience of patronizing the online retailer                   269 non-null    object\n",
      " 42  sense of adventure                                                   269 non-null    object\n",
      " 43  enhances your social status                                          269 non-null    object\n",
      " 44  gratification shopping on your favorite e-tailer                     269 non-null    object\n",
      " 45  Shopping on the website helps you fulfill certain roles              269 non-null    object\n",
      " 46  Getting value for money spent                                        269 non-null    object\n",
      " 47  you have shopped from                                                269 non-null    object\n",
      " 48  Easy to use website or application                                   269 non-null    object\n",
      " 49  Visual appealing web-page layout                                     269 non-null    object\n",
      " 50  Wild variety of product on offer                                     269 non-null    object\n",
      " 51  Complete description information of products                         269 non-null    object\n",
      " 52  Fast loading website speed of website and application                269 non-null    object\n",
      " 53  Reliability of the website or application                            269 non-null    object\n",
      " 54  Quickness to complete purchase                                       269 non-null    object\n",
      " 55  Availability of several payment options                              269 non-null    object\n",
      " 56  Speedy order delivery                                                269 non-null    object\n",
      " 57  Privacy of customers’ information                                    269 non-null    object\n",
      " 58  Security of customer financial information                           269 non-null    object\n",
      " 59  Perceived Trustworthiness                                            269 non-null    object\n",
      " 60  Presence of online assistance through multi-channel                  269 non-null    object\n",
      " 61  Longer time to get logged in                                         269 non-null    object\n",
      " 62  Longer time in displaying graphics and photos                        269 non-null    object\n",
      " 63  Late declaration of price                                            269 non-null    object\n",
      " 64  Longer page loading time                                             269 non-null    object\n",
      " 65  Limited mode of payment on most products                             269 non-null    object\n",
      " 66  Longer delivery period                                               269 non-null    object\n",
      " 67  Change in website/Application design                                 269 non-null    object\n",
      " 68  Frequent disruption when moving from one page to another             269 non-null    object\n",
      " 69  Website is as efficient as before                                    269 non-null    object\n",
      " 70  Which of the Indian online retailer would you recommend to a friend  269 non-null    object\n",
      "dtypes: int64(1), object(70)\n",
      "memory usage: 149.3+ KB\n"
     ]
    }
   ],
   "source": [
    "#getting information about each column which gives null value, count and data type\n",
    "\n",
    "data.info()"
   ]
  },
  {
   "cell_type": "code",
   "execution_count": 12,
   "metadata": {},
   "outputs": [],
   "source": [
    "#This converts all the columns to string data type\n",
    "\n",
    "data[['Gender', 'How old are you', 'city', 'Pin Code', 'How Long You are Shopping Online', 'How many times in the past 1 year', \n",
    "              'How do you access the internet', 'device', 'screen size', 'operating system', 'browser', \n",
    "              'channel', 'After first visit', 'How much times', 'payment Option', 'How frequently do you abandon', \n",
    "              'Why did you abandon', 'content on the website', 'similar product', 'Complete information', \n",
    "              'relevant information', 'Ease of navigation', 'Loading and processing speed', 'User friendly', \n",
    "              'Convenient Payment methods', 'Trust that the online retail store', 'Empathy towards the customers', \n",
    "              'privacy of the customer', 'Responsiveness and availability', 'monetary benefit and discounts', \n",
    "              'Enjoyment is derived from shopping online', 'Shopping online is convenient and flexible', \n",
    "              'Return and replacement policy', 'Gaining access to loyalty', 'quality Information on the website', \n",
    "              'User derive satisfaction', 'Net Benefit', 'User satisfaction cannot exist without trust',\n",
    "              'Offering a wide variety', 'Provision of complete and relevant product information', \n",
    "              'Monetary savings', 'The Convenience of patronizing the online retailer', 'sense of adventure', \n",
    "              'enhances your social status', 'gratification shopping on your favorite e-tailer', \n",
    "              'Shopping on the website helps you fulfill certain roles', 'Getting value for money spent',\n",
    "              'you have shopped from', 'Easy to use website or application', 'Visual appealing web-page layout',\n",
    "              'Wild variety of product on offer', 'Complete description information of products', \n",
    "              'Fast loading website speed of website and application', 'Reliability of the website or application', \n",
    "              'Quickness to complete purchase', 'Availability of several payment options', 'Speedy order delivery ', \n",
    "              'Privacy of customers’ information', 'Security of customer financial information', 'Perceived Trustworthiness', \n",
    "              'Presence of online assistance through multi-channel', 'Longer time to get logged in', \n",
    "              'Longer time in displaying graphics and photos', 'Late declaration of price', 'Longer page loading time',\n",
    "              'Limited mode of payment on most products', 'Longer delivery period', 'Change in website/Application design', \n",
    "              'Frequent disruption when moving from one page to another', 'Website is as efficient as before', \n",
    "              'Which of the Indian online retailer would you recommend to a friend']] = data[['Gender', 'How old are you', \n",
    "              'city', 'Pin Code', 'How Long You are Shopping Online', 'How many times in the past 1 year', \n",
    "              'How do you access the internet', 'device', 'screen size', 'operating system', 'browser', \n",
    "              'channel', 'After first visit', 'How much times', 'payment Option', 'How frequently do you abandon', \n",
    "              'Why did you abandon', 'content on the website', 'similar product', 'Complete information', \n",
    "              'relevant information', 'Ease of navigation', 'Loading and processing speed', 'User friendly', \n",
    "              'Convenient Payment methods', 'Trust that the online retail store', 'Empathy towards the customers', \n",
    "              'privacy of the customer', 'Responsiveness and availability', 'monetary benefit and discounts', \n",
    "              'Enjoyment is derived from shopping online', 'Shopping online is convenient and flexible', \n",
    "              'Return and replacement policy', 'Gaining access to loyalty', 'quality Information on the website', \n",
    "              'User derive satisfaction', 'Net Benefit', 'User satisfaction cannot exist without trust',\n",
    "              'Offering a wide variety', 'Provision of complete and relevant product information', \n",
    "              'Monetary savings', 'The Convenience of patronizing the online retailer', 'sense of adventure', \n",
    "              'enhances your social status', 'gratification shopping on your favorite e-tailer', \n",
    "              'Shopping on the website helps you fulfill certain roles', 'Getting value for money spent',\n",
    "              'you have shopped from', 'Easy to use website or application', 'Visual appealing web-page layout',\n",
    "              'Wild variety of product on offer', 'Complete description information of products', \n",
    "              'Fast loading website speed of website and application', 'Reliability of the website or application', \n",
    "              'Quickness to complete purchase', 'Availability of several payment options', 'Speedy order delivery ', \n",
    "              'Privacy of customers’ information', 'Security of customer financial information', 'Perceived Trustworthiness', \n",
    "              'Presence of online assistance through multi-channel', 'Longer time to get logged in', \n",
    "              'Longer time in displaying graphics and photos', 'Late declaration of price', 'Longer page loading time',\n",
    "              'Limited mode of payment on most products', 'Longer delivery period', 'Change in website/Application design', \n",
    "              'Frequent disruption when moving from one page to another', 'Website is as efficient as before', \n",
    "              'Which of the Indian online retailer would you recommend to a friend']].astype(str)\n"
   ]
  },
  {
   "cell_type": "code",
   "execution_count": 13,
   "metadata": {},
   "outputs": [
    {
     "data": {
      "text/plain": [
       "Gender                                                                 object\n",
       "How old are you                                                        object\n",
       "city                                                                   object\n",
       "Pin Code                                                               object\n",
       "How Long You are Shopping Online                                       object\n",
       "How many times in the past 1 year                                      object\n",
       "How do you access the internet                                         object\n",
       "device                                                                 object\n",
       "screen size                                                            object\n",
       "operating system                                                       object\n",
       "browser                                                                object\n",
       "channel                                                                object\n",
       "After first visit                                                      object\n",
       "How much times                                                         object\n",
       "payment Option                                                         object\n",
       "How frequently do you abandon                                          object\n",
       "Why did you abandon                                                    object\n",
       "content on the website                                                 object\n",
       "similar product                                                        object\n",
       "Complete information                                                   object\n",
       "relevant information                                                   object\n",
       "Ease of navigation                                                     object\n",
       "Loading and processing speed                                           object\n",
       "User friendly                                                          object\n",
       "Convenient Payment methods                                             object\n",
       "Trust that the online retail store                                     object\n",
       "Empathy towards the customers                                          object\n",
       "privacy of the customer                                                object\n",
       "Responsiveness and availability                                        object\n",
       "monetary benefit and discounts                                         object\n",
       "Enjoyment is derived from shopping online                              object\n",
       "Shopping online is convenient and flexible                             object\n",
       "Return and replacement policy                                          object\n",
       "Gaining access to loyalty                                              object\n",
       "quality Information on the website                                     object\n",
       "User derive satisfaction                                               object\n",
       "Net Benefit                                                            object\n",
       "User satisfaction cannot exist without trust                           object\n",
       "Offering a wide variety                                                object\n",
       "Provision of complete and relevant product information                 object\n",
       "Monetary savings                                                       object\n",
       "The Convenience of patronizing the online retailer                     object\n",
       "sense of adventure                                                     object\n",
       "enhances your social status                                            object\n",
       "gratification shopping on your favorite e-tailer                       object\n",
       "Shopping on the website helps you fulfill certain roles                object\n",
       "Getting value for money spent                                          object\n",
       "you have shopped from                                                  object\n",
       "Easy to use website or application                                     object\n",
       "Visual appealing web-page layout                                       object\n",
       "Wild variety of product on offer                                       object\n",
       "Complete description information of products                           object\n",
       "Fast loading website speed of website and application                  object\n",
       "Reliability of the website or application                              object\n",
       "Quickness to complete purchase                                         object\n",
       "Availability of several payment options                                object\n",
       "Speedy order delivery                                                  object\n",
       "Privacy of customers’ information                                      object\n",
       "Security of customer financial information                             object\n",
       "Perceived Trustworthiness                                              object\n",
       "Presence of online assistance through multi-channel                    object\n",
       "Longer time to get logged in                                           object\n",
       "Longer time in displaying graphics and photos                          object\n",
       "Late declaration of price                                              object\n",
       "Longer page loading time                                               object\n",
       "Limited mode of payment on most products                               object\n",
       "Longer delivery period                                                 object\n",
       "Change in website/Application design                                   object\n",
       "Frequent disruption when moving from one page to another               object\n",
       "Website is as efficient as before                                      object\n",
       "Which of the Indian online retailer would you recommend to a friend    object\n",
       "dtype: object"
      ]
     },
     "execution_count": 13,
     "metadata": {},
     "output_type": "execute_result"
    }
   ],
   "source": [
    "data.dtypes"
   ]
  },
  {
   "cell_type": "markdown",
   "metadata": {},
   "source": [
    "# Exploratory Data Analysis"
   ]
  },
  {
   "cell_type": "markdown",
   "metadata": {},
   "source": [
    "# Customer Side Information"
   ]
  },
  {
   "cell_type": "code",
   "execution_count": 14,
   "metadata": {},
   "outputs": [
    {
     "name": "stdout",
     "output_type": "stream",
     "text": [
      "Female    181\n",
      "Male       88\n",
      "Name: Gender, dtype: int64\n"
     ]
    },
    {
     "data": {
      "text/plain": [
       "<matplotlib.axes._subplots.AxesSubplot at 0x19cec0eed08>"
      ]
     },
     "execution_count": 14,
     "metadata": {},
     "output_type": "execute_result"
    },
    {
     "data": {
      "image/png": "[encoded data removed]",
      "text/plain": [
       "<Figure size 1152x288 with 1 Axes>"
      ]
     },
     "metadata": {
      "needs_background": "light"
     },
     "output_type": "display_data"
    }
   ],
   "source": [
    "plt.figure(figsize=(16,4))\n",
    "plt.xticks(rotation=45)\n",
    "print(data['Gender'].value_counts())\n",
    "#sb.countplot(data['Gender'])\n",
    "data['Gender'].value_counts().sort_index().plot.bar()"
   ]
  },
  {
   "cell_type": "markdown",
   "metadata": {},
   "source": [
    "Female lead the tally in the oline shopping with 181 "
   ]
  },
  {
   "cell_type": "code",
   "execution_count": 15,
   "metadata": {},
   "outputs": [
    {
     "name": "stdout",
     "output_type": "stream",
     "text": [
      "31-40 years           81\n",
      "21-30 years           79\n",
      "41-50 yaers           70\n",
      "Less than 20 years    20\n",
      "51 years and above    19\n",
      "Name: How old are you, dtype: int64\n"
     ]
    },
    {
     "data": {
      "text/plain": [
       "<matplotlib.axes._subplots.AxesSubplot at 0x19cebf54a08>"
      ]
     },
     "execution_count": 15,
     "metadata": {},
     "output_type": "execute_result"
    },
    {
     "data": {
      "image/png": "[encoded data removed]",
      "text/plain": [
       "<Figure size 1152x288 with 1 Axes>"
      ]
     },
     "metadata": {
      "needs_background": "light"
     },
     "output_type": "display_data"
    }
   ],
   "source": [
    "plt.figure(figsize=(16,4))\n",
    "plt.xticks(rotation=45)\n",
    "print(data['How old are you'].value_counts())\n",
    "sb.countplot(data['How old are you'])"
   ]
  },
  {
   "cell_type": "markdown",
   "metadata": {},
   "source": [
    "Most of the customers are aged between 31 to 40 years do online shopping, next comes the customers aged between 21 to 30 yers old and so on as shown in graph above"
   ]
  },
  {
   "cell_type": "code",
   "execution_count": 16,
   "metadata": {},
   "outputs": [
    {
     "name": "stdout",
     "output_type": "stream",
     "text": [
      "Delhi            58\n",
      "Greater Noida    43\n",
      "Noida            40\n",
      "Bangalore        37\n",
      "Karnal           27\n",
      "Ghaziabad        18\n",
      "Solan            18\n",
      "Gurgaon          12\n",
      "Merrut            9\n",
      "Moradabad         5\n",
      "Bulandshahr       2\n",
      "Name: city, dtype: int64\n"
     ]
    },
    {
     "data": {
      "text/plain": [
       "<matplotlib.axes._subplots.AxesSubplot at 0x19cebf51dc8>"
      ]
     },
     "execution_count": 16,
     "metadata": {},
     "output_type": "execute_result"
    },
    {
     "data": {
      "image/png": "[encoded data removed]",
      "text/plain": [
       "<Figure size 1152x288 with 1 Axes>"
      ]
     },
     "metadata": {
      "needs_background": "light"
     },
     "output_type": "display_data"
    }
   ],
   "source": [
    "plt.figure(figsize=(16,4))\n",
    "plt.xticks(rotation=45)\n",
    "\n",
    "print(data['city'].value_counts())\n",
    "sb.countplot(data['city'])\n"
   ]
  },
  {
   "cell_type": "markdown",
   "metadata": {},
   "source": [
    "Customers from delhi have the highest online shopping actions than comes the greater noida and least online shopping is in bulandshahr"
   ]
  },
  {
   "cell_type": "code",
   "execution_count": 17,
   "metadata": {},
   "outputs": [
    {
     "name": "stdout",
     "output_type": "stream",
     "text": [
      "Above 4 years       98\n",
      "2-3 years           65\n",
      "3-4 years           47\n",
      "Less than 1 year    43\n",
      "1-2 years           16\n",
      "Name: How Long You are Shopping Online, dtype: int64\n"
     ]
    },
    {
     "data": {
      "text/plain": [
       "<matplotlib.axes._subplots.AxesSubplot at 0x19cec02ad08>"
      ]
     },
     "execution_count": 17,
     "metadata": {},
     "output_type": "execute_result"
    },
    {
     "data": {
      "image/png": "[encoded data removed]",
      "text/plain": [
       "<Figure size 1152x288 with 1 Axes>"
      ]
     },
     "metadata": {
      "needs_background": "light"
     },
     "output_type": "display_data"
    }
   ],
   "source": [
    "plt.figure(figsize=(16,4))\n",
    "plt.xticks(rotation=45)\n",
    "print(data['How Long You are Shopping Online'].value_counts())\n",
    "data['How Long You are Shopping Online'].value_counts().plot.line()"
   ]
  },
  {
   "cell_type": "code",
   "execution_count": 18,
   "metadata": {},
   "outputs": [
    {
     "name": "stdout",
     "output_type": "stream",
     "text": [
      "Mobile internet    142\n",
      "Wi-Fi               76\n",
      "Mobile Internet     47\n",
      "Dial-up              4\n",
      "Name: How do you access the internet, dtype: int64\n"
     ]
    },
    {
     "data": {
      "text/plain": [
       "<matplotlib.axes._subplots.AxesSubplot at 0x19cebe0d988>"
      ]
     },
     "execution_count": 18,
     "metadata": {},
     "output_type": "execute_result"
    },
    {
     "data": {
      "image/png": "[encoded data removed]",
      "text/plain": [
       "<Figure size 1152x288 with 1 Axes>"
      ]
     },
     "metadata": {
      "needs_background": "light"
     },
     "output_type": "display_data"
    }
   ],
   "source": [
    "plt.figure(figsize=(16,4))\n",
    "plt.xticks(rotation=45)\n",
    "print(data['How do you access the internet'].value_counts())\n",
    "data['How do you access the internet'].value_counts().plot.line()"
   ]
  },
  {
   "cell_type": "code",
   "execution_count": 19,
   "metadata": {},
   "outputs": [
    {
     "name": "stdout",
     "output_type": "stream",
     "text": [
      "Smartphone    141\n",
      "Laptop         86\n",
      "Desktop        30\n",
      "Tablet         12\n",
      "Name: device, dtype: int64\n"
     ]
    },
    {
     "data": {
      "text/plain": [
       "<matplotlib.axes._subplots.AxesSubplot at 0x19cec0af188>"
      ]
     },
     "execution_count": 19,
     "metadata": {},
     "output_type": "execute_result"
    },
    {
     "data": {
      "image/png": "[encoded data removed]",
      "text/plain": [
       "<Figure size 1152x288 with 1 Axes>"
      ]
     },
     "metadata": {
      "needs_background": "light"
     },
     "output_type": "display_data"
    }
   ],
   "source": [
    "plt.figure(figsize=(16,4))\n",
    "plt.xticks(rotation=45)\n",
    "print(data['device'].value_counts())\n",
    "sb.countplot(data['device'])"
   ]
  },
  {
   "cell_type": "code",
   "execution_count": 20,
   "metadata": {},
   "outputs": [
    {
     "name": "stdout",
     "output_type": "stream",
     "text": [
      "Google chrome      216\n",
      "Safari              40\n",
      "Opera                8\n",
      "Mozilla Firefox      5\n",
      "Name: browser, dtype: int64\n"
     ]
    },
    {
     "data": {
      "text/plain": [
       "<matplotlib.axes._subplots.AxesSubplot at 0x19cec8ccbc8>"
      ]
     },
     "execution_count": 20,
     "metadata": {},
     "output_type": "execute_result"
    },
    {
     "data": {
      "image/png": "[encoded data removed]",
      "text/plain": [
       "<Figure size 1152x288 with 1 Axes>"
      ]
     },
     "metadata": {
      "needs_background": "light"
     },
     "output_type": "display_data"
    }
   ],
   "source": [
    "plt.figure(figsize=(16,4))\n",
    "plt.xticks(rotation=45)\n",
    "print(data['browser'].value_counts())\n",
    "sb.countplot(data['browser'])"
   ]
  },
  {
   "cell_type": "code",
   "execution_count": 21,
   "metadata": {},
   "outputs": [
    {
     "name": "stdout",
     "output_type": "stream",
     "text": [
      "Credit/Debit cards                    148\n",
      "Cash on delivery (CoD)                 76\n",
      "E-wallets (Paytm, Freecharge etc.)     45\n",
      "Name: payment Option, dtype: int64\n"
     ]
    },
    {
     "data": {
      "text/plain": [
       "<matplotlib.axes._subplots.AxesSubplot at 0x19cec92b848>"
      ]
     },
     "execution_count": 21,
     "metadata": {},
     "output_type": "execute_result"
    },
    {
     "data": {
      "image/png": "[encoded data removed]",
      "text/plain": [
       "<Figure size 1152x288 with 1 Axes>"
      ]
     },
     "metadata": {
      "needs_background": "light"
     },
     "output_type": "display_data"
    }
   ],
   "source": [
    "plt.figure(figsize=(16,4))\n",
    "plt.xticks(rotation=45)\n",
    "print(data['payment Option'].value_counts())\n",
    "sb.countplot(data['payment Option'])"
   ]
  },
  {
   "cell_type": "code",
   "execution_count": 22,
   "metadata": {},
   "outputs": [
    {
     "name": "stdout",
     "output_type": "stream",
     "text": [
      "Better alternative offer        133\n",
      "Promo code not applicable        54\n",
      "Change in price                  37\n",
      "Lack of trust                    31\n",
      "No preferred mode of payment     14\n",
      "Name: Why did you abandon, dtype: int64\n"
     ]
    },
    {
     "data": {
      "text/plain": [
       "<matplotlib.axes._subplots.AxesSubplot at 0x19cec92b8c8>"
      ]
     },
     "execution_count": 22,
     "metadata": {},
     "output_type": "execute_result"
    },
    {
     "data": {
      "image/png": "[encoded data removed]",
      "text/plain": [
       "<Figure size 1152x288 with 1 Axes>"
      ]
     },
     "metadata": {
      "needs_background": "light"
     },
     "output_type": "display_data"
    }
   ],
   "source": [
    "plt.figure(figsize=(16,4))\n",
    "plt.xticks(rotation=45)\n",
    "print(data['Why did you abandon'].value_counts())\n",
    "data['Why did you abandon'].value_counts().plot.line()"
   ]
  },
  {
   "cell_type": "markdown",
   "metadata": {},
   "source": [
    "# Feed-Back from Customer"
   ]
  },
  {
   "cell_type": "code",
   "execution_count": 23,
   "metadata": {},
   "outputs": [
    {
     "name": "stdout",
     "output_type": "stream",
     "text": [
      "Strongly agree (5)       189\n",
      "Agree (4)                 45\n",
      "Strongly disagree (1)     18\n",
      "Dis-agree (2)             12\n",
      "Indifferent (3)            5\n",
      "Name: User friendly, dtype: int64\n"
     ]
    },
    {
     "data": {
      "text/plain": [
       "<matplotlib.axes._subplots.AxesSubplot at 0x19cecef10c8>"
      ]
     },
     "execution_count": 23,
     "metadata": {},
     "output_type": "execute_result"
    },
    {
     "data": {
      "image/png": "[encoded data removed]",
      "text/plain": [
       "<Figure size 1152x288 with 1 Axes>"
      ]
     },
     "metadata": {
      "needs_background": "light"
     },
     "output_type": "display_data"
    }
   ],
   "source": [
    "plt.figure(figsize=(16,4))\n",
    "plt.xticks(rotation=45)\n",
    "print(data['User friendly'].value_counts())\n",
    "sb.countplot(data['User friendly'])"
   ]
  },
  {
   "cell_type": "code",
   "execution_count": 24,
   "metadata": {},
   "outputs": [
    {
     "name": "stdout",
     "output_type": "stream",
     "text": [
      "Strongly agree (5)    159\n",
      "Agree (4)              80\n",
      "Dis-agree (2)          30\n",
      "Name: Convenient Payment methods, dtype: int64\n"
     ]
    },
    {
     "data": {
      "text/plain": [
       "<matplotlib.axes._subplots.AxesSubplot at 0x19cecf56c08>"
      ]
     },
     "execution_count": 24,
     "metadata": {},
     "output_type": "execute_result"
    },
    {
     "data": {
      "image/png": "[encoded data removed]",
      "text/plain": [
       "<Figure size 1152x288 with 1 Axes>"
      ]
     },
     "metadata": {
      "needs_background": "light"
     },
     "output_type": "display_data"
    }
   ],
   "source": [
    "plt.figure(figsize=(16,4))\n",
    "plt.xticks(rotation=45)\n",
    "print(data['Convenient Payment methods'].value_counts())\n",
    "sb.countplot(data['Convenient Payment methods'])"
   ]
  },
  {
   "cell_type": "code",
   "execution_count": 25,
   "metadata": {},
   "outputs": [
    {
     "name": "stdout",
     "output_type": "stream",
     "text": [
      "Strongly agree (5)    185\n",
      "Agree (4)              58\n",
      "indifferent (3)        26\n",
      "Name: privacy of the customer, dtype: int64\n"
     ]
    },
    {
     "data": {
      "text/plain": [
       "<matplotlib.axes._subplots.AxesSubplot at 0x19cecfac4c8>"
      ]
     },
     "execution_count": 25,
     "metadata": {},
     "output_type": "execute_result"
    },
    {
     "data": {
      "image/png": "[encoded data removed]",
      "text/plain": [
       "<Figure size 1152x288 with 1 Axes>"
      ]
     },
     "metadata": {
      "needs_background": "light"
     },
     "output_type": "display_data"
    }
   ],
   "source": [
    "plt.figure(figsize=(16,4))\n",
    "plt.xticks(rotation=45)\n",
    "print(data['privacy of the customer'].value_counts())\n",
    "sb.countplot(data['privacy of the customer'])"
   ]
  },
  {
   "cell_type": "code",
   "execution_count": 26,
   "metadata": {},
   "outputs": [
    {
     "name": "stdout",
     "output_type": "stream",
     "text": [
      "Strongly agree (5)       105\n",
      "Agree (4)                 85\n",
      "indifferent (3)           50\n",
      "Strongly disagree (1)     18\n",
      "Dis-agree (2)             11\n",
      "Name: monetary benefit and discounts, dtype: int64\n"
     ]
    },
    {
     "data": {
      "text/plain": [
       "<matplotlib.axes._subplots.AxesSubplot at 0x19ced1c8508>"
      ]
     },
     "execution_count": 26,
     "metadata": {},
     "output_type": "execute_result"
    },
    {
     "data": {
      "image/png": "[encoded data removed]",
      "text/plain": [
       "<Figure size 1152x288 with 1 Axes>"
      ]
     },
     "metadata": {
      "needs_background": "light"
     },
     "output_type": "display_data"
    }
   ],
   "source": [
    "plt.figure(figsize=(16,4))\n",
    "plt.xticks(rotation=45)\n",
    "print(data['monetary benefit and discounts'].value_counts())\n",
    "sb.countplot(data['monetary benefit and discounts'])"
   ]
  },
  {
   "cell_type": "code",
   "execution_count": 27,
   "metadata": {},
   "outputs": [
    {
     "name": "stdout",
     "output_type": "stream",
     "text": [
      "Strongly agree (5)    198\n",
      "Agree (4)              51\n",
      "Dis-agree (2)          20\n",
      "Name: Return and replacement policy, dtype: int64\n"
     ]
    },
    {
     "data": {
      "text/plain": [
       "<matplotlib.axes._subplots.AxesSubplot at 0x19ced22d508>"
      ]
     },
     "execution_count": 27,
     "metadata": {},
     "output_type": "execute_result"
    },
    {
     "data": {
      "image/png": "[encoded data removed]",
      "text/plain": [
       "<Figure size 1152x288 with 1 Axes>"
      ]
     },
     "metadata": {
      "needs_background": "light"
     },
     "output_type": "display_data"
    }
   ],
   "source": [
    "plt.figure(figsize=(16,4))\n",
    "plt.xticks(rotation=45)\n",
    "print(data['Return and replacement policy'].value_counts())\n",
    "sb.countplot(data['Return and replacement policy'])"
   ]
  },
  {
   "cell_type": "code",
   "execution_count": 28,
   "metadata": {},
   "outputs": [
    {
     "name": "stdout",
     "output_type": "stream",
     "text": [
      "Strongly agree (5)    133\n",
      "Agree (4)              80\n",
      "indifferent (3)        56\n",
      "Name: quality Information on the website, dtype: int64\n"
     ]
    },
    {
     "data": {
      "text/plain": [
       "<matplotlib.axes._subplots.AxesSubplot at 0x19ced27fdc8>"
      ]
     },
     "execution_count": 28,
     "metadata": {},
     "output_type": "execute_result"
    },
    {
     "data": {
      "image/png": "[encoded data removed]",
      "text/plain": [
       "<Figure size 1152x288 with 1 Axes>"
      ]
     },
     "metadata": {
      "needs_background": "light"
     },
     "output_type": "display_data"
    }
   ],
   "source": [
    "plt.figure(figsize=(16,4))\n",
    "plt.xticks(rotation=45)\n",
    "print(data['quality Information on the website'].value_counts())\n",
    "sb.countplot(data['quality Information on the website'])"
   ]
  },
  {
   "cell_type": "code",
   "execution_count": 29,
   "metadata": {},
   "outputs": [
    {
     "name": "stdout",
     "output_type": "stream",
     "text": [
      "Strongly agree (5)    164\n",
      "Agree (4)              54\n",
      "indifferent (3)        40\n",
      "Dis-agree (2)          11\n",
      "Name: Net Benefit, dtype: int64\n"
     ]
    },
    {
     "data": {
      "text/plain": [
       "<matplotlib.axes._subplots.AxesSubplot at 0x19ced583fc8>"
      ]
     },
     "execution_count": 29,
     "metadata": {},
     "output_type": "execute_result"
    },
    {
     "data": {
      "image/png": "[encoded data removed]",
      "text/plain": [
       "<Figure size 1152x288 with 1 Axes>"
      ]
     },
     "metadata": {
      "needs_background": "light"
     },
     "output_type": "display_data"
    }
   ],
   "source": [
    "plt.figure(figsize=(16,4))\n",
    "plt.xticks(rotation=45)\n",
    "print(data['Net Benefit'].value_counts())\n",
    "sb.countplot(data['Net Benefit'])"
   ]
  },
  {
   "cell_type": "code",
   "execution_count": 30,
   "metadata": {},
   "outputs": [
    {
     "name": "stdout",
     "output_type": "stream",
     "text": [
      "Agree (4)                101\n",
      "indifferent (3)           59\n",
      "Strongly agree (5)        54\n",
      "Dis-agree (2)             50\n",
      "Strongly disagree (1)      5\n",
      "Name: sense of adventure, dtype: int64\n"
     ]
    },
    {
     "data": {
      "text/plain": [
       "<matplotlib.axes._subplots.AxesSubplot at 0x19ced5edc88>"
      ]
     },
     "execution_count": 30,
     "metadata": {},
     "output_type": "execute_result"
    },
    {
     "data": {
      "image/png": "[encoded data removed]",
      "text/plain": [
       "<Figure size 1152x288 with 1 Axes>"
      ]
     },
     "metadata": {
      "needs_background": "light"
     },
     "output_type": "display_data"
    }
   ],
   "source": [
    "plt.figure(figsize=(16,4))\n",
    "plt.xticks(rotation=45)\n",
    "print(data['sense of adventure'].value_counts())\n",
    "sb.countplot(data['sense of adventure'])"
   ]
  },
  {
   "cell_type": "code",
   "execution_count": 31,
   "metadata": {},
   "outputs": [
    {
     "name": "stdout",
     "output_type": "stream",
     "text": [
      "Agree (4)             149\n",
      "Strongly agree (5)     82\n",
      "indifferent (3)        38\n",
      "Name: Getting value for money spent, dtype: int64\n"
     ]
    },
    {
     "data": {
      "text/plain": [
       "<matplotlib.axes._subplots.AxesSubplot at 0x19ced662248>"
      ]
     },
     "execution_count": 31,
     "metadata": {},
     "output_type": "execute_result"
    },
    {
     "data": {
      "image/png": "[encoded data removed]",
      "text/plain": [
       "<Figure size 1152x288 with 1 Axes>"
      ]
     },
     "metadata": {
      "needs_background": "light"
     },
     "output_type": "display_data"
    }
   ],
   "source": [
    "plt.figure(figsize=(16,4))\n",
    "plt.xticks(rotation=45)\n",
    "print(data['Getting value for money spent'].value_counts())\n",
    "sb.countplot(data['Getting value for money spent'])"
   ]
  },
  {
   "cell_type": "markdown",
   "metadata": {},
   "source": [
    "# Customer use Various sites for various use cases"
   ]
  },
  {
   "cell_type": "code",
   "execution_count": 32,
   "metadata": {},
   "outputs": [
    {
     "name": "stdout",
     "output_type": "stream",
     "text": [
      "Amazon.in, Flipkart.com, Paytm.com, Myntra.com, Snapdeal.com    64\n",
      "Amazon.in, Flipkart.com, Myntra.com, Snapdeal.com               44\n",
      "Amazon.in, Flipkart.com                                         44\n",
      "Amazon.in                                                       29\n",
      "Amazon.in, Flipkart.com, Paytm.com, Snapdeal.com                22\n",
      "Amazon.in, Paytm.com, Myntra.com                                20\n",
      "Amazon.in, Flipkart.com, Myntra.com                             19\n",
      "Paytm.com                                                       12\n",
      "Flipkart.com                                                     8\n",
      "Amazon.in, Paytm.com                                             7\n",
      "Name: Easy to use website or application, dtype: int64\n"
     ]
    },
    {
     "data": {
      "image/png": "[encoded data removed]",
      "text/plain": [
       "<Figure size 1152x288 with 1 Axes>"
      ]
     },
     "metadata": {
      "needs_background": "light"
     },
     "output_type": "display_data"
    }
   ],
   "source": [
    "plt.figure(figsize=(16,4))\n",
    "plt.xticks(rotation=50)\n",
    "print(data['Easy to use website or application'].value_counts())\n",
    "data['Easy to use website or application'].value_counts().plot(kind=\"bar\")\n",
    "plt.show()"
   ]
  },
  {
   "cell_type": "markdown",
   "metadata": {},
   "source": [
    "Amazon.in, Flipkart.com, Paytm.com, Myntra.com, Snapdeal.com    64\n",
    "\n",
    "Amazon.in, Flipkart.com, Myntra.com, Snapdeal.com               44\n",
    "\n",
    "Amazon.in, Flipkart.com                                         44\n",
    "\n",
    "Amazon.in                                                       22  \n",
    "\n",
    "As shown above majority of the users chose \n",
    "Amazon.in, Flipkart.com, Paytm.com, Myntra.com, Snapdeal.com as Easy to use website or application\n",
    "\n",
    "And Amazon has chosen by 90% of users if you go through the graph you will get a clear insight of it"
   ]
  },
  {
   "cell_type": "code",
   "execution_count": 33,
   "metadata": {},
   "outputs": [
    {
     "name": "stdout",
     "output_type": "stream",
     "text": [
      "Amazon.in, Flipkart.com                              130\n",
      "Amazon.in                                             43\n",
      "Amazon.in, Myntra.com                                 20\n",
      "Flipkart.com, Myntra.com                              15\n",
      "Myntra.com                                            15\n",
      "Amazon.in, Flipkart.com, Myntra.com, Snapdeal.com     14\n",
      "Amazon.in, Flipkart.com, Paytm.com                    13\n",
      "Flipkart.com                                          12\n",
      "Paytm.com                                              7\n",
      "Name: Wild variety of product on offer, dtype: int64\n"
     ]
    },
    {
     "data": {
      "text/plain": [
       "<matplotlib.axes._subplots.AxesSubplot at 0x19cedb31fc8>"
      ]
     },
     "execution_count": 33,
     "metadata": {},
     "output_type": "execute_result"
    },
    {
     "data": {
      "image/png": "[encoded data removed]",
      "text/plain": [
       "<Figure size 1152x288 with 1 Axes>"
      ]
     },
     "metadata": {
      "needs_background": "light"
     },
     "output_type": "display_data"
    }
   ],
   "source": [
    "plt.figure(figsize=(16,4))\n",
    "plt.xticks(rotation=50)\n",
    "print(data['Wild variety of product on offer'].value_counts())\n",
    "data['Wild variety of product on offer'].value_counts().plot(kind=\"bar\")"
   ]
  },
  {
   "cell_type": "markdown",
   "metadata": {},
   "source": [
    "Amazon.in, Flipkart.com                              130\n",
    "\n",
    "Amazon.in                                             43\n",
    "\n",
    "For Wild variety of product on offer most of customer choose Amazon.in, Flipkart.com.\n",
    "\n"
   ]
  },
  {
   "cell_type": "code",
   "execution_count": 34,
   "metadata": {},
   "outputs": [
    {
     "name": "stdout",
     "output_type": "stream",
     "text": [
      "Amazon.in                                            61\n",
      "Amazon.in, Flipkart.com                              50\n",
      "Amazon.in, Flipkart.com, Paytm.com                   36\n",
      "Amazon.in, Paytm.com, Myntra.com                     35\n",
      "Amazon.in, Flipkart.com, Snapdeal.com                18\n",
      "Myntra.com                                           15\n",
      "Flipkart.com                                         15\n",
      "Amazon.in, Flipkart.com, Myntra.com, Snapdeal.com    14\n",
      "Amazon.in, Flipkart.com, Paytm.com, Snapdeal.com     13\n",
      "Paytm.com                                            12\n",
      "Name: Reliability of the website or application, dtype: int64\n"
     ]
    },
    {
     "data": {
      "text/plain": [
       "<matplotlib.axes._subplots.AxesSubplot at 0x19cedbb8048>"
      ]
     },
     "execution_count": 34,
     "metadata": {},
     "output_type": "execute_result"
    },
    {
     "data": {
      "image/png": "[encoded data removed]",
      "text/plain": [
       "<Figure size 1152x288 with 1 Axes>"
      ]
     },
     "metadata": {
      "needs_background": "light"
     },
     "output_type": "display_data"
    }
   ],
   "source": [
    "plt.figure(figsize=(16,4))\n",
    "plt.xticks(rotation=50)\n",
    "print(data['Reliability of the website or application'].value_counts())\n",
    "data['Reliability of the website or application'].value_counts().plot(kind=\"bar\")"
   ]
  },
  {
   "cell_type": "markdown",
   "metadata": {},
   "source": [
    "For Reliability of the website or application \n",
    "\n",
    "61 out of 269 customers choose amazon and \n",
    "\n",
    "50 out of 269 customers choose amazon and flipkart "
   ]
  },
  {
   "cell_type": "code",
   "execution_count": 35,
   "metadata": {},
   "outputs": [
    {
     "name": "stdout",
     "output_type": "stream",
     "text": [
      "Amazon.in                                                       71\n",
      "Amazon.in, Flipkart.com                                         54\n",
      "Amazon.in, Flipkart.com, Myntra.com                             25\n",
      "Amazon.in, Flipkart.com, Paytm.com, Myntra.com, Snapdeal.com    24\n",
      "Paytm.com                                                       18\n",
      "Myntra.com                                                      15\n",
      "Flipkart.com                                                    15\n",
      "Amazon.in, Paytm.com                                            15\n",
      "Amazon.in, Flipkart.com, Myntra.com, Snapdeal.com               14\n",
      "Amazon.in, Flipkart.com, Paytm.com                              11\n",
      "Amazon.in, Flipkart.com, Snapdeal.com                            7\n",
      "Name: Privacy of customers’ information, dtype: int64\n"
     ]
    },
    {
     "data": {
      "text/plain": [
       "<matplotlib.axes._subplots.AxesSubplot at 0x19cedfffdc8>"
      ]
     },
     "execution_count": 35,
     "metadata": {},
     "output_type": "execute_result"
    },
    {
     "data": {
      "image/png": "[encoded data removed]",
      "text/plain": [
       "<Figure size 1152x288 with 1 Axes>"
      ]
     },
     "metadata": {
      "needs_background": "light"
     },
     "output_type": "display_data"
    }
   ],
   "source": [
    "plt.figure(figsize=(16,4))\n",
    "plt.xticks(rotation=50)\n",
    "print(data['Privacy of customers’ information'].value_counts())\n",
    "sb.countplot(data['Privacy of customers’ information'])"
   ]
  },
  {
   "cell_type": "code",
   "execution_count": 36,
   "metadata": {},
   "outputs": [
    {
     "name": "stdout",
     "output_type": "stream",
     "text": [
      "Amazon.in                                                       51\n",
      "Amazon.in, Flipkart.com, Paytm.com, Myntra.com, Snapdeal.com    42\n",
      "Flipkart.com                                                    33\n",
      "Amazon.in, Flipkart.com, Snapdeal.com                           25\n",
      "Amazon.in, Flipkart.com                                         24\n",
      "Amazon.in, Paytm.com, Myntra.com                                20\n",
      "Amazon.in, Snapdeal.com                                         19\n",
      "Paytm.com                                                       15\n",
      "Myntra.com                                                      15\n",
      "Amazon.in, Flipkart.com, Myntra.com, Snapdeal.com               14\n",
      "Amazon.in, Flipkart.com, Paytm.com                              11\n",
      "Name: Security of customer financial information, dtype: int64\n"
     ]
    },
    {
     "data": {
      "text/plain": [
       "<matplotlib.axes._subplots.AxesSubplot at 0x19cee0a1048>"
      ]
     },
     "execution_count": 36,
     "metadata": {},
     "output_type": "execute_result"
    },
    {
     "data": {
      "image/png": "[encoded data removed]",
      "text/plain": [
       "<Figure size 1152x288 with 1 Axes>"
      ]
     },
     "metadata": {
      "needs_background": "light"
     },
     "output_type": "display_data"
    }
   ],
   "source": [
    "plt.figure(figsize=(16,4))\n",
    "plt.xticks(rotation=50)\n",
    "print(data['Security of customer financial information'].value_counts())\n",
    "sb.countplot(data['Security of customer financial information'])"
   ]
  },
  {
   "cell_type": "code",
   "execution_count": 37,
   "metadata": {},
   "outputs": [
    {
     "name": "stdout",
     "output_type": "stream",
     "text": [
      "Amazon.in                                                       76\n",
      "Amazon.in, Flipkart.com, Snapdeal.com                           36\n",
      "Amazon.in, Myntra.com                                           35\n",
      "Amazon.in, Flipkart.com                                         31\n",
      "Flipkart.com                                                    27\n",
      "Amazon.in, Flipkart.com, Myntra.com, Snapdeal.com               25\n",
      "Myntra.com                                                      15\n",
      "Amazon.in, Flipkart.com, Paytm.com, Myntra.com, Snapdeal.com    13\n",
      "Amazon.in, Flipkart.com, Paytm.com                              11\n",
      "Name: Perceived Trustworthiness, dtype: int64\n"
     ]
    },
    {
     "data": {
      "text/plain": [
       "<matplotlib.axes._subplots.AxesSubplot at 0x19cee668c48>"
      ]
     },
     "execution_count": 37,
     "metadata": {},
     "output_type": "execute_result"
    },
    {
     "data": {
      "image/png": "[encoded data removed]",
      "text/plain": [
       "<Figure size 1152x288 with 1 Axes>"
      ]
     },
     "metadata": {
      "needs_background": "light"
     },
     "output_type": "display_data"
    }
   ],
   "source": [
    "plt.figure(figsize=(16,4))\n",
    "plt.xticks(rotation=50)\n",
    "print(data['Perceived Trustworthiness'].value_counts())\n",
    "data['Perceived Trustworthiness'].value_counts().plot(kind=\"line\")"
   ]
  },
  {
   "cell_type": "code",
   "execution_count": 38,
   "metadata": {},
   "outputs": [
    {
     "name": "stdout",
     "output_type": "stream",
     "text": [
      "Paytm.com                  72\n",
      "Snapdeal.com               64\n",
      "Flipkart.com               44\n",
      "Amazon.in                  37\n",
      "Myntra.com                 26\n",
      "Paytm.com, Snapdeal.com    26\n",
      "Name: Longer delivery period, dtype: int64\n"
     ]
    },
    {
     "data": {
      "text/plain": [
       "<matplotlib.axes._subplots.AxesSubplot at 0x19cee6c9d48>"
      ]
     },
     "execution_count": 38,
     "metadata": {},
     "output_type": "execute_result"
    },
    {
     "data": {
      "image/png": "[encoded data removed]",
      "text/plain": [
       "<Figure size 1152x288 with 1 Axes>"
      ]
     },
     "metadata": {
      "needs_background": "light"
     },
     "output_type": "display_data"
    }
   ],
   "source": [
    "plt.figure(figsize=(16,4))\n",
    "plt.xticks(rotation=50)\n",
    "print(data['Longer delivery period'].value_counts())\n",
    "sb.countplot(data['Longer delivery period'])"
   ]
  },
  {
   "cell_type": "code",
   "execution_count": 39,
   "metadata": {},
   "outputs": [
    {
     "name": "stdout",
     "output_type": "stream",
     "text": [
      "Amazon.in                             94\n",
      "Flipkart.com                          47\n",
      "Amazon.in, Flipkart.com               45\n",
      "Amazon.in, Flipkart.com, Paytm.com    25\n",
      "Amazon.in, Paytm.com                  18\n",
      "Paytm.com                             15\n",
      "Myntra.com, Snapdeal.com              14\n",
      "Snapdeal.com                          11\n",
      "Name: Website is as efficient as before, dtype: int64\n"
     ]
    },
    {
     "data": {
      "text/plain": [
       "<matplotlib.axes._subplots.AxesSubplot at 0x19cee6d4808>"
      ]
     },
     "execution_count": 39,
     "metadata": {},
     "output_type": "execute_result"
    },
    {
     "data": {
      "image/png": "[encoded data removed]",
      "text/plain": [
       "<Figure size 1152x288 with 1 Axes>"
      ]
     },
     "metadata": {
      "needs_background": "light"
     },
     "output_type": "display_data"
    }
   ],
   "source": [
    "plt.figure(figsize=(16,4))\n",
    "plt.xticks(rotation=50)\n",
    "print(data['Website is as efficient as before'].value_counts())\n",
    "sb.countplot(data['Website is as efficient as before'])"
   ]
  },
  {
   "cell_type": "code",
   "execution_count": 40,
   "metadata": {},
   "outputs": [
    {
     "name": "stdout",
     "output_type": "stream",
     "text": [
      "Amazon.in                                            79\n",
      "Amazon.in, Flipkart.com                              62\n",
      "Flipkart.com                                         39\n",
      "Amazon.in, Myntra.com                                30\n",
      "Amazon.in, Paytm.com, Myntra.com                     20\n",
      "Amazon.in, Flipkart.com, Myntra.com                  15\n",
      "Amazon.in, Paytm.com                                 13\n",
      "Flipkart.com, Paytm.com, Myntra.com, snapdeal.com    11\n",
      "Name: Which of the Indian online retailer would you recommend to a friend, dtype: int64\n"
     ]
    },
    {
     "data": {
      "text/plain": [
       "<matplotlib.axes._subplots.AxesSubplot at 0x19cee9ad5c8>"
      ]
     },
     "execution_count": 40,
     "metadata": {},
     "output_type": "execute_result"
    },
    {
     "data": {
      "image/png": "[encoded data removed]",
      "text/plain": [
       "<Figure size 1152x288 with 1 Axes>"
      ]
     },
     "metadata": {
      "needs_background": "light"
     },
     "output_type": "display_data"
    }
   ],
   "source": [
    "plt.figure(figsize=(16,4))\n",
    "plt.xticks(rotation=50)\n",
    "print(data['Which of the Indian online retailer would you recommend to a friend'].value_counts())\n",
    "sb.countplot(data['Which of the Indian online retailer would you recommend to a friend'])"
   ]
  },
  {
   "cell_type": "markdown",
   "metadata": {},
   "source": [
    "Amazon.in                                            79\n",
    "\n",
    "Amazon.in, Flipkart.com                              62\n",
    "\n",
    "Which of the Indian online retailer would you recommend to a friend 79 out of 269 choose amazon which tops the list and \n",
    "2nd most is 62 out of 269 choose amazon and flipkart"
   ]
  },
  {
   "cell_type": "markdown",
   "metadata": {},
   "source": [
    "# Data Preprocessing"
   ]
  },
  {
   "cell_type": "code",
   "execution_count": 41,
   "metadata": {},
   "outputs": [
    {
     "data": {
      "text/plain": [
       "Index(['Gender', 'How old are you', 'city', 'Pin Code', 'How Long You are Shopping Online', 'How many times in the past 1 year', 'How do you access the internet', 'device', 'screen size', 'operating system', 'browser', 'channel', 'After first visit', 'How much times', 'payment Option', 'How frequently do you abandon', 'Why did you abandon', 'content on the website', 'similar product', 'Complete information', 'relevant information', 'Ease of navigation', 'Loading and processing speed', 'User friendly', 'Convenient Payment methods', 'Trust that the online retail store', 'Empathy towards the customers', 'privacy of the customer', 'Responsiveness and availability', 'monetary benefit and discounts', 'Enjoyment is derived from shopping online', 'Shopping online is convenient and flexible', 'Return and replacement policy', 'Gaining access to loyalty', 'quality Information on the website', 'User derive satisfaction', 'Net Benefit', 'User satisfaction cannot exist without trust',\n",
       "       'Offering a wide variety', 'Provision of complete and relevant product information', 'Monetary savings', 'The Convenience of patronizing the online retailer', 'sense of adventure', 'enhances your social status', 'gratification shopping on your favorite e-tailer', 'Shopping on the website helps you fulfill certain roles', 'Getting value for money spent', 'you have shopped from', 'Easy to use website or application', 'Visual appealing web-page layout', 'Wild variety of product on offer', 'Complete description information of products', 'Fast loading website speed of website and application', 'Reliability of the website or application', 'Quickness to complete purchase', 'Availability of several payment options', 'Speedy order delivery ', 'Privacy of customers’ information', 'Security of customer financial information', 'Perceived Trustworthiness', 'Presence of online assistance through multi-channel', 'Longer time to get logged in', 'Longer time in displaying graphics and photos',\n",
       "       'Late declaration of price', 'Longer page loading time', 'Limited mode of payment on most products', 'Longer delivery period', 'Change in website/Application design', 'Frequent disruption when moving from one page to another', 'Website is as efficient as before', 'Which of the Indian online retailer would you recommend to a friend'],\n",
       "      dtype='object')"
      ]
     },
     "execution_count": 41,
     "metadata": {},
     "output_type": "execute_result"
    }
   ],
   "source": [
    "data.columns"
   ]
  },
  {
   "cell_type": "code",
   "execution_count": 42,
   "metadata": {},
   "outputs": [],
   "source": [
    "#dropping column\n",
    "\n",
    "data = data.drop(['Pin Code'], axis=1)"
   ]
  },
  {
   "cell_type": "markdown",
   "metadata": {},
   "source": [
    "Spliting the columns which has extra data in the columns,\n",
    "\n",
    "By removing the data in brackets and considering only the data ouside the brackets."
   ]
  },
  {
   "cell_type": "code",
   "execution_count": 43,
   "metadata": {},
   "outputs": [],
   "source": [
    "#Spliting data by removing brackets\n",
    "\n",
    "data['payment Option']=data['payment Option'].str.split('(').str[0]\n",
    "data['content on the website']=data['content on the website'].str.split('(').str[0]\n",
    "data['similar product']=data['similar product'].str.split('(').str[0]\n",
    "data['Complete information']=data['Complete information'].str.split('(').str[0]\n",
    "data['relevant information']=data['relevant information'].str.split('(').str[0]\n",
    "data['Ease of navigation']=data['Ease of navigation'].str.split('(').str[0]\n",
    "data['Loading and processing speed']=data['Loading and processing speed'].str.split('(').str[0]\n",
    "data['User friendly']=data['User friendly'].str.split('(').str[0]\n",
    "data['Convenient Payment methods']=data['Convenient Payment methods'].str.split('(').str[0]\n",
    "data['Trust that the online retail store']=data['Trust that the online retail store'].str.split('(').str[0]\n",
    "data['Empathy towards the customers']=data['Empathy towards the customers'].str.split('(').str[0]\n",
    "data['privacy of the customer']=data['privacy of the customer'].str.split('(').str[0]\n",
    "data['Responsiveness and availability']=data['Responsiveness and availability'].str.split('(').str[0]\n",
    "data['monetary benefit and discounts']=data['monetary benefit and discounts'].str.split('(').str[0]\n",
    "data['Enjoyment is derived from shopping online']=data['Enjoyment is derived from shopping online'].str.split('(').str[0]\n",
    "data['Shopping online is convenient and flexible']=data['Shopping online is convenient and flexible'].str.split('(').str[0]\n",
    "data['Return and replacement policy']=data['Return and replacement policy'].str.split('(').str[0]\n",
    "data['Gaining access to loyalty']=data['Gaining access to loyalty'].str.split('(').str[0]\n",
    "data['quality Information on the website']=data['quality Information on the website'].str.split('(').str[0]\n",
    "data['User derive satisfaction']=data['User derive satisfaction'].str.split('(').str[0]\n",
    "data['Net Benefit']=data['Net Benefit'].str.split('(').str[0]\n",
    "data['User satisfaction cannot exist without trust']=data['User satisfaction cannot exist without trust'].str.split('(').str[0]\n",
    "data['Offering a wide variety']=data['Offering a wide variety'].str.split('(').str[0]\n",
    "data['Provision of complete and relevant product information']=data['Provision of complete and relevant product information'].str.split('(').str[0]\n",
    "data['Monetary savings']=data['Monetary savings'].str.split('(').str[0]\n",
    "data['The Convenience of patronizing the online retailer']=data['The Convenience of patronizing the online retailer'].str.split('(').str[0]\n",
    "data['sense of adventure']=data['sense of adventure'].str.split('(').str[0]\n",
    "data['enhances your social status']=data['enhances your social status'].str.split('(').str[0]\n",
    "data['gratification shopping on your favorite e-tailer']=data['gratification shopping on your favorite e-tailer'].str.split('(').str[0]\n",
    "data['Shopping on the website helps you fulfill certain roles']=data['Shopping on the website helps you fulfill certain roles'].str.split('(').str[0]\n",
    "data['Getting value for money spent']=data['Getting value for money spent'].str.split('(').str[0]"
   ]
  },
  {
   "cell_type": "markdown",
   "metadata": {},
   "source": [
    "Since there are no null values in dataset,\n",
    "\n",
    "Will convert all the columns using label encoder\n",
    "\n",
    "Here data is mainly divided into 3 parts \n",
    "    1. Customer info\n",
    "    2. Customer Feedback\n",
    "    3. Customer choice for different usecases"
   ]
  },
  {
   "cell_type": "code",
   "execution_count": 44,
   "metadata": {
    "scrolled": false
   },
   "outputs": [],
   "source": [
    "# Customer Side Information\n",
    "\n",
    "col=['Gender', 'How old are you', 'city', 'How Long You are Shopping Online', \n",
    "     'How many times in the past 1 year', 'How do you access the internet', 'device', \n",
    "     'screen size', 'operating system', 'browser', 'channel', 'After first visit', 'How much times', \n",
    "     'payment Option', 'How frequently do you abandon', 'Why did you abandon']\n",
    "\n",
    "#Preprocessing the data with label encoder\n",
    "\n",
    "le=LabelEncoder()\n",
    "data[col]=data[col].apply(lambda x:le.fit_transform(x))"
   ]
  },
  {
   "cell_type": "code",
   "execution_count": 45,
   "metadata": {},
   "outputs": [],
   "source": [
    "# Customer Feedback\n",
    "\n",
    "col=['content on the website', 'similar product', 'Complete information', 'relevant information', \n",
    "     'Ease of navigation', 'Loading and processing speed', 'User friendly', 'Convenient Payment methods', \n",
    "     'Trust that the online retail store', 'Empathy towards the customers', 'privacy of the customer', \n",
    "     'Responsiveness and availability', 'monetary benefit and discounts', 'Enjoyment is derived from shopping online', \n",
    "     'Shopping online is convenient and flexible', 'Return and replacement policy', 'Gaining access to loyalty', \n",
    "     'quality Information on the website', 'User derive satisfaction', 'Net Benefit', \n",
    "     'User satisfaction cannot exist without trust', 'Offering a wide variety', \n",
    "     'Provision of complete and relevant product information', 'Monetary savings', \n",
    "     'The Convenience of patronizing the online retailer', 'sense of adventure',\n",
    "     'enhances your social status', 'gratification shopping on your favorite e-tailer', \n",
    "     'Shopping on the website helps you fulfill certain roles', 'Getting value for money spent']\n",
    "\n",
    "#Preprocessing the data with label encoder\n",
    "\n",
    "le=LabelEncoder()\n",
    "data[col]=data[col].apply(lambda x:le.fit_transform(x))"
   ]
  },
  {
   "cell_type": "code",
   "execution_count": 46,
   "metadata": {},
   "outputs": [],
   "source": [
    "# Customer choice different online sites for shopping for different usecases\n",
    "\n",
    "col=['you have shopped from', 'Easy to use website or application', 'Visual appealing web-page layout',\n",
    "     'Wild variety of product on offer', 'Complete description information of products', \n",
    "     'Fast loading website speed of website and application', 'Reliability of the website or application',\n",
    "     'Quickness to complete purchase', 'Availability of several payment options', 'Speedy order delivery ',\n",
    "     'Privacy of customers’ information', 'Security of customer financial information', 'Perceived Trustworthiness', \n",
    "     'Presence of online assistance through multi-channel', 'Longer time to get logged in',\n",
    "     'Longer time in displaying graphics and photos','Late declaration of price', 'Longer page loading time', \n",
    "     'Limited mode of payment on most products', 'Longer delivery period', 'Change in website/Application design',\n",
    "     'Frequent disruption when moving from one page to another', 'Website is as efficient as before',\n",
    "     'Which of the Indian online retailer would you recommend to a friend']\n",
    "\n",
    "#Preprocessing the data with label encoder\n",
    "\n",
    "le=LabelEncoder()\n",
    "data[col]=data[col].apply(lambda x:le.fit_transform(x))"
   ]
  },
  {
   "cell_type": "code",
   "execution_count": 47,
   "metadata": {
    "scrolled": true
   },
   "outputs": [
    {
     "data": {
      "text/html": [
       "<div>\n",
       "<style scoped>\n",
       "    .dataframe tbody tr th:only-of-type {\n",
       "        vertical-align: middle;\n",
       "    }\n",
       "\n",
       "    .dataframe tbody tr th {\n",
       "        vertical-align: top;\n",
       "    }\n",
       "\n",
       "    .dataframe thead th {\n",
       "        text-align: right;\n",
       "    }\n",
       "</style>\n",
       "<table border=\"1\" class=\"dataframe\">\n",
       "  <thead>\n",
       "    <tr style=\"text-align: right;\">\n",
       "      <th></th>\n",
       "      <th>Gender</th>\n",
       "      <th>How old are you</th>\n",
       "      <th>city</th>\n",
       "      <th>How Long You are Shopping Online</th>\n",
       "      <th>How many times in the past 1 year</th>\n",
       "      <th>How do you access the internet</th>\n",
       "      <th>device</th>\n",
       "      <th>screen size</th>\n",
       "      <th>operating system</th>\n",
       "      <th>browser</th>\n",
       "      <th>channel</th>\n",
       "      <th>After first visit</th>\n",
       "      <th>How much times</th>\n",
       "      <th>payment Option</th>\n",
       "      <th>How frequently do you abandon</th>\n",
       "      <th>Why did you abandon</th>\n",
       "      <th>content on the website</th>\n",
       "      <th>similar product</th>\n",
       "      <th>Complete information</th>\n",
       "      <th>relevant information</th>\n",
       "      <th>Ease of navigation</th>\n",
       "      <th>Loading and processing speed</th>\n",
       "      <th>User friendly</th>\n",
       "      <th>Convenient Payment methods</th>\n",
       "      <th>Trust that the online retail store</th>\n",
       "      <th>Empathy towards the customers</th>\n",
       "      <th>privacy of the customer</th>\n",
       "      <th>Responsiveness and availability</th>\n",
       "      <th>monetary benefit and discounts</th>\n",
       "      <th>Enjoyment is derived from shopping online</th>\n",
       "      <th>Shopping online is convenient and flexible</th>\n",
       "      <th>Return and replacement policy</th>\n",
       "      <th>Gaining access to loyalty</th>\n",
       "      <th>quality Information on the website</th>\n",
       "      <th>User derive satisfaction</th>\n",
       "      <th>Net Benefit</th>\n",
       "      <th>User satisfaction cannot exist without trust</th>\n",
       "      <th>Offering a wide variety</th>\n",
       "      <th>Provision of complete and relevant product information</th>\n",
       "      <th>Monetary savings</th>\n",
       "      <th>The Convenience of patronizing the online retailer</th>\n",
       "      <th>sense of adventure</th>\n",
       "      <th>enhances your social status</th>\n",
       "      <th>gratification shopping on your favorite e-tailer</th>\n",
       "      <th>Shopping on the website helps you fulfill certain roles</th>\n",
       "      <th>Getting value for money spent</th>\n",
       "      <th>you have shopped from</th>\n",
       "      <th>Easy to use website or application</th>\n",
       "      <th>Visual appealing web-page layout</th>\n",
       "      <th>Wild variety of product on offer</th>\n",
       "      <th>Complete description information of products</th>\n",
       "      <th>Fast loading website speed of website and application</th>\n",
       "      <th>Reliability of the website or application</th>\n",
       "      <th>Quickness to complete purchase</th>\n",
       "      <th>Availability of several payment options</th>\n",
       "      <th>Speedy order delivery</th>\n",
       "      <th>Privacy of customers’ information</th>\n",
       "      <th>Security of customer financial information</th>\n",
       "      <th>Perceived Trustworthiness</th>\n",
       "      <th>Presence of online assistance through multi-channel</th>\n",
       "      <th>Longer time to get logged in</th>\n",
       "      <th>Longer time in displaying graphics and photos</th>\n",
       "      <th>Late declaration of price</th>\n",
       "      <th>Longer page loading time</th>\n",
       "      <th>Limited mode of payment on most products</th>\n",
       "      <th>Longer delivery period</th>\n",
       "      <th>Change in website/Application design</th>\n",
       "      <th>Frequent disruption when moving from one page to another</th>\n",
       "      <th>Website is as efficient as before</th>\n",
       "      <th>Which of the Indian online retailer would you recommend to a friend</th>\n",
       "    </tr>\n",
       "  </thead>\n",
       "  <tbody>\n",
       "    <tr>\n",
       "      <th>0</th>\n",
       "      <td>1</td>\n",
       "      <td>1</td>\n",
       "      <td>2</td>\n",
       "      <td>3</td>\n",
       "      <td>2</td>\n",
       "      <td>0</td>\n",
       "      <td>0</td>\n",
       "      <td>3</td>\n",
       "      <td>2</td>\n",
       "      <td>0</td>\n",
       "      <td>2</td>\n",
       "      <td>2</td>\n",
       "      <td>2</td>\n",
       "      <td>2</td>\n",
       "      <td>2</td>\n",
       "      <td>2</td>\n",
       "      <td>0</td>\n",
       "      <td>2</td>\n",
       "      <td>2</td>\n",
       "      <td>0</td>\n",
       "      <td>0</td>\n",
       "      <td>4</td>\n",
       "      <td>1</td>\n",
       "      <td>1</td>\n",
       "      <td>1</td>\n",
       "      <td>1</td>\n",
       "      <td>0</td>\n",
       "      <td>0</td>\n",
       "      <td>4</td>\n",
       "      <td>3</td>\n",
       "      <td>1</td>\n",
       "      <td>1</td>\n",
       "      <td>0</td>\n",
       "      <td>2</td>\n",
       "      <td>2</td>\n",
       "      <td>0</td>\n",
       "      <td>2</td>\n",
       "      <td>3</td>\n",
       "      <td>3</td>\n",
       "      <td>1</td>\n",
       "      <td>2</td>\n",
       "      <td>0</td>\n",
       "      <td>0</td>\n",
       "      <td>2</td>\n",
       "      <td>0</td>\n",
       "      <td>1</td>\n",
       "      <td>7</td>\n",
       "      <td>9</td>\n",
       "      <td>7</td>\n",
       "      <td>5</td>\n",
       "      <td>10</td>\n",
       "      <td>9</td>\n",
       "      <td>9</td>\n",
       "      <td>8</td>\n",
       "      <td>9</td>\n",
       "      <td>0</td>\n",
       "      <td>0</td>\n",
       "      <td>0</td>\n",
       "      <td>7</td>\n",
       "      <td>9</td>\n",
       "      <td>0</td>\n",
       "      <td>0</td>\n",
       "      <td>3</td>\n",
       "      <td>5</td>\n",
       "      <td>0</td>\n",
       "      <td>3</td>\n",
       "      <td>2</td>\n",
       "      <td>0</td>\n",
       "      <td>0</td>\n",
       "      <td>6</td>\n",
       "    </tr>\n",
       "    <tr>\n",
       "      <th>1</th>\n",
       "      <td>0</td>\n",
       "      <td>0</td>\n",
       "      <td>2</td>\n",
       "      <td>3</td>\n",
       "      <td>3</td>\n",
       "      <td>3</td>\n",
       "      <td>2</td>\n",
       "      <td>0</td>\n",
       "      <td>1</td>\n",
       "      <td>0</td>\n",
       "      <td>2</td>\n",
       "      <td>4</td>\n",
       "      <td>4</td>\n",
       "      <td>1</td>\n",
       "      <td>3</td>\n",
       "      <td>4</td>\n",
       "      <td>2</td>\n",
       "      <td>3</td>\n",
       "      <td>3</td>\n",
       "      <td>2</td>\n",
       "      <td>2</td>\n",
       "      <td>3</td>\n",
       "      <td>3</td>\n",
       "      <td>2</td>\n",
       "      <td>2</td>\n",
       "      <td>1</td>\n",
       "      <td>1</td>\n",
       "      <td>1</td>\n",
       "      <td>2</td>\n",
       "      <td>2</td>\n",
       "      <td>2</td>\n",
       "      <td>2</td>\n",
       "      <td>2</td>\n",
       "      <td>1</td>\n",
       "      <td>2</td>\n",
       "      <td>2</td>\n",
       "      <td>2</td>\n",
       "      <td>2</td>\n",
       "      <td>2</td>\n",
       "      <td>2</td>\n",
       "      <td>2</td>\n",
       "      <td>4</td>\n",
       "      <td>4</td>\n",
       "      <td>2</td>\n",
       "      <td>2</td>\n",
       "      <td>1</td>\n",
       "      <td>2</td>\n",
       "      <td>3</td>\n",
       "      <td>5</td>\n",
       "      <td>6</td>\n",
       "      <td>2</td>\n",
       "      <td>2</td>\n",
       "      <td>8</td>\n",
       "      <td>2</td>\n",
       "      <td>2</td>\n",
       "      <td>1</td>\n",
       "      <td>9</td>\n",
       "      <td>9</td>\n",
       "      <td>8</td>\n",
       "      <td>2</td>\n",
       "      <td>1</td>\n",
       "      <td>6</td>\n",
       "      <td>7</td>\n",
       "      <td>10</td>\n",
       "      <td>7</td>\n",
       "      <td>5</td>\n",
       "      <td>0</td>\n",
       "      <td>4</td>\n",
       "      <td>1</td>\n",
       "      <td>3</td>\n",
       "    </tr>\n",
       "    <tr>\n",
       "      <th>2</th>\n",
       "      <td>0</td>\n",
       "      <td>0</td>\n",
       "      <td>4</td>\n",
       "      <td>2</td>\n",
       "      <td>3</td>\n",
       "      <td>1</td>\n",
       "      <td>2</td>\n",
       "      <td>2</td>\n",
       "      <td>0</td>\n",
       "      <td>0</td>\n",
       "      <td>2</td>\n",
       "      <td>4</td>\n",
       "      <td>1</td>\n",
       "      <td>2</td>\n",
       "      <td>2</td>\n",
       "      <td>4</td>\n",
       "      <td>2</td>\n",
       "      <td>0</td>\n",
       "      <td>0</td>\n",
       "      <td>0</td>\n",
       "      <td>0</td>\n",
       "      <td>0</td>\n",
       "      <td>3</td>\n",
       "      <td>2</td>\n",
       "      <td>2</td>\n",
       "      <td>1</td>\n",
       "      <td>1</td>\n",
       "      <td>1</td>\n",
       "      <td>2</td>\n",
       "      <td>2</td>\n",
       "      <td>2</td>\n",
       "      <td>2</td>\n",
       "      <td>2</td>\n",
       "      <td>1</td>\n",
       "      <td>2</td>\n",
       "      <td>2</td>\n",
       "      <td>0</td>\n",
       "      <td>2</td>\n",
       "      <td>2</td>\n",
       "      <td>2</td>\n",
       "      <td>0</td>\n",
       "      <td>0</td>\n",
       "      <td>0</td>\n",
       "      <td>4</td>\n",
       "      <td>4</td>\n",
       "      <td>0</td>\n",
       "      <td>8</td>\n",
       "      <td>7</td>\n",
       "      <td>6</td>\n",
       "      <td>4</td>\n",
       "      <td>7</td>\n",
       "      <td>7</td>\n",
       "      <td>6</td>\n",
       "      <td>5</td>\n",
       "      <td>10</td>\n",
       "      <td>0</td>\n",
       "      <td>0</td>\n",
       "      <td>6</td>\n",
       "      <td>6</td>\n",
       "      <td>8</td>\n",
       "      <td>7</td>\n",
       "      <td>6</td>\n",
       "      <td>4</td>\n",
       "      <td>7</td>\n",
       "      <td>0</td>\n",
       "      <td>3</td>\n",
       "      <td>5</td>\n",
       "      <td>6</td>\n",
       "      <td>0</td>\n",
       "      <td>5</td>\n",
       "    </tr>\n",
       "    <tr>\n",
       "      <th>3</th>\n",
       "      <td>1</td>\n",
       "      <td>0</td>\n",
       "      <td>6</td>\n",
       "      <td>2</td>\n",
       "      <td>5</td>\n",
       "      <td>1</td>\n",
       "      <td>2</td>\n",
       "      <td>2</td>\n",
       "      <td>1</td>\n",
       "      <td>3</td>\n",
       "      <td>2</td>\n",
       "      <td>2</td>\n",
       "      <td>2</td>\n",
       "      <td>1</td>\n",
       "      <td>1</td>\n",
       "      <td>0</td>\n",
       "      <td>0</td>\n",
       "      <td>0</td>\n",
       "      <td>2</td>\n",
       "      <td>0</td>\n",
       "      <td>2</td>\n",
       "      <td>0</td>\n",
       "      <td>3</td>\n",
       "      <td>2</td>\n",
       "      <td>0</td>\n",
       "      <td>1</td>\n",
       "      <td>1</td>\n",
       "      <td>0</td>\n",
       "      <td>0</td>\n",
       "      <td>4</td>\n",
       "      <td>3</td>\n",
       "      <td>0</td>\n",
       "      <td>4</td>\n",
       "      <td>2</td>\n",
       "      <td>0</td>\n",
       "      <td>3</td>\n",
       "      <td>0</td>\n",
       "      <td>0</td>\n",
       "      <td>0</td>\n",
       "      <td>2</td>\n",
       "      <td>0</td>\n",
       "      <td>0</td>\n",
       "      <td>2</td>\n",
       "      <td>0</td>\n",
       "      <td>4</td>\n",
       "      <td>0</td>\n",
       "      <td>4</td>\n",
       "      <td>4</td>\n",
       "      <td>3</td>\n",
       "      <td>1</td>\n",
       "      <td>1</td>\n",
       "      <td>6</td>\n",
       "      <td>3</td>\n",
       "      <td>3</td>\n",
       "      <td>2</td>\n",
       "      <td>3</td>\n",
       "      <td>2</td>\n",
       "      <td>5</td>\n",
       "      <td>5</td>\n",
       "      <td>3</td>\n",
       "      <td>9</td>\n",
       "      <td>7</td>\n",
       "      <td>4</td>\n",
       "      <td>8</td>\n",
       "      <td>5</td>\n",
       "      <td>3</td>\n",
       "      <td>1</td>\n",
       "      <td>1</td>\n",
       "      <td>2</td>\n",
       "      <td>1</td>\n",
       "    </tr>\n",
       "    <tr>\n",
       "      <th>4</th>\n",
       "      <td>0</td>\n",
       "      <td>0</td>\n",
       "      <td>0</td>\n",
       "      <td>1</td>\n",
       "      <td>0</td>\n",
       "      <td>3</td>\n",
       "      <td>2</td>\n",
       "      <td>0</td>\n",
       "      <td>1</td>\n",
       "      <td>3</td>\n",
       "      <td>0</td>\n",
       "      <td>4</td>\n",
       "      <td>4</td>\n",
       "      <td>1</td>\n",
       "      <td>0</td>\n",
       "      <td>0</td>\n",
       "      <td>2</td>\n",
       "      <td>2</td>\n",
       "      <td>2</td>\n",
       "      <td>0</td>\n",
       "      <td>0</td>\n",
       "      <td>3</td>\n",
       "      <td>3</td>\n",
       "      <td>2</td>\n",
       "      <td>0</td>\n",
       "      <td>1</td>\n",
       "      <td>0</td>\n",
       "      <td>1</td>\n",
       "      <td>2</td>\n",
       "      <td>2</td>\n",
       "      <td>2</td>\n",
       "      <td>2</td>\n",
       "      <td>1</td>\n",
       "      <td>0</td>\n",
       "      <td>2</td>\n",
       "      <td>2</td>\n",
       "      <td>2</td>\n",
       "      <td>0</td>\n",
       "      <td>0</td>\n",
       "      <td>2</td>\n",
       "      <td>0</td>\n",
       "      <td>4</td>\n",
       "      <td>3</td>\n",
       "      <td>2</td>\n",
       "      <td>3</td>\n",
       "      <td>1</td>\n",
       "      <td>4</td>\n",
       "      <td>4</td>\n",
       "      <td>9</td>\n",
       "      <td>7</td>\n",
       "      <td>5</td>\n",
       "      <td>0</td>\n",
       "      <td>6</td>\n",
       "      <td>4</td>\n",
       "      <td>4</td>\n",
       "      <td>0</td>\n",
       "      <td>7</td>\n",
       "      <td>10</td>\n",
       "      <td>6</td>\n",
       "      <td>5</td>\n",
       "      <td>5</td>\n",
       "      <td>8</td>\n",
       "      <td>5</td>\n",
       "      <td>8</td>\n",
       "      <td>7</td>\n",
       "      <td>3</td>\n",
       "      <td>0</td>\n",
       "      <td>7</td>\n",
       "      <td>6</td>\n",
       "      <td>3</td>\n",
       "    </tr>\n",
       "  </tbody>\n",
       "</table>\n",
       "</div>"
      ],
      "text/plain": [
       "   Gender  How old are you  city  How Long You are Shopping Online  How many times in the past 1 year  How do you access the internet  device  screen size  operating system  browser  channel  After first visit  How much times  payment Option  How frequently do you abandon  Why did you abandon  content on the website  similar product  Complete information  relevant information  Ease of navigation  Loading and processing speed  User friendly  Convenient Payment methods  Trust that the online retail store  Empathy towards the customers  privacy of the customer  Responsiveness and availability  monetary benefit and discounts  Enjoyment is derived from shopping online  Shopping online is convenient and flexible  Return and replacement policy  Gaining access to loyalty  quality Information on the website  User derive satisfaction  Net Benefit  User satisfaction cannot exist without trust  Offering a wide variety  Provision of complete and relevant product information  Monetary savings  \\\n",
       "0       1                1     2                                 3                                  2                               0       0            3                 2        0        2                  2               2               2                              2                    2                       0                2                     2                     0                   0                             4              1                           1                                   1                              1                        0                                0                               4                                          3                                           1                              1                          0                                   2                         2            0                                             2                        3                                                  3                      1   \n",
       "1       0                0     2                                 3                                  3                               3       2            0                 1        0        2                  4               4               1                              3                    4                       2                3                     3                     2                   2                             3              3                           2                                   2                              1                        1                                1                               2                                          2                                           2                              2                          2                                   1                         2            2                                             2                        2                                                  2                      2   \n",
       "2       0                0     4                                 2                                  3                               1       2            2                 0        0        2                  4               1               2                              2                    4                       2                0                     0                     0                   0                             0              3                           2                                   2                              1                        1                                1                               2                                          2                                           2                              2                          2                                   1                         2            2                                             0                        2                                                  2                      2   \n",
       "3       1                0     6                                 2                                  5                               1       2            2                 1        3        2                  2               2               1                              1                    0                       0                0                     2                     0                   2                             0              3                           2                                   0                              1                        1                                0                               0                                          4                                           3                              0                          4                                   2                         0            3                                             0                        0                                                  0                      2   \n",
       "4       0                0     0                                 1                                  0                               3       2            0                 1        3        0                  4               4               1                              0                    0                       2                2                     2                     0                   0                             3              3                           2                                   0                              1                        0                                1                               2                                          2                                           2                              2                          1                                   0                         2            2                                             2                        0                                                  0                      2   \n",
       "\n",
       "   The Convenience of patronizing the online retailer  sense of adventure  enhances your social status  gratification shopping on your favorite e-tailer  Shopping on the website helps you fulfill certain roles  Getting value for money spent  you have shopped from  Easy to use website or application  Visual appealing web-page layout  Wild variety of product on offer  Complete description information of products  Fast loading website speed of website and application  Reliability of the website or application  Quickness to complete purchase  Availability of several payment options  Speedy order delivery   Privacy of customers’ information  Security of customer financial information  Perceived Trustworthiness  Presence of online assistance through multi-channel  Longer time to get logged in  Longer time in displaying graphics and photos  Late declaration of price  Longer page loading time  Limited mode of payment on most products  Longer delivery period  \\\n",
       "0                                                  2                    0                            0                                                 2                                                  0                                    1                      7                                   9                                 7                                 5                                            10                                                  9                                              9                               8                                        9                       0                                  0                                           0                          7                                                  9                               0                                              0                          3                         5                                         0                       3   \n",
       "1                                                  2                    4                            4                                                 2                                                  2                                    1                      2                                   3                                 5                                 6                                             2                                                  2                                              8                               2                                        2                       1                                  9                                           9                          8                                                  2                               1                                              6                          7                        10                                         7                       5   \n",
       "2                                                  0                    0                            0                                                 4                                                  4                                    0                      8                                   7                                 6                                 4                                             7                                                  7                                              6                               5                                       10                       0                                  0                                           6                          6                                                  8                               7                                              6                          4                         7                                         0                       3   \n",
       "3                                                  0                    0                            2                                                 0                                                  4                                    0                      4                                   4                                 3                                 1                                             1                                                  6                                              3                               3                                        2                       3                                  2                                           5                          5                                                  3                               9                                              7                          4                         8                                         5                       3   \n",
       "4                                                  0                    4                            3                                                 2                                                  3                                    1                      4                                   4                                 9                                 7                                             5                                                  0                                              6                               4                                        4                       0                                  7                                          10                          6                                                  5                               5                                              8                          5                         8                                         7                       3   \n",
       "\n",
       "   Change in website/Application design  Frequent disruption when moving from one page to another  Website is as efficient as before  Which of the Indian online retailer would you recommend to a friend  \n",
       "0                                     2                                                  0                                         0                                                  6                    \n",
       "1                                     0                                                  4                                         1                                                  3                    \n",
       "2                                     5                                                  6                                         0                                                  5                    \n",
       "3                                     1                                                  1                                         2                                                  1                    \n",
       "4                                     0                                                  7                                         6                                                  3                    "
      ]
     },
     "execution_count": 47,
     "metadata": {},
     "output_type": "execute_result"
    }
   ],
   "source": [
    "data.head()"
   ]
  },
  {
   "cell_type": "markdown",
   "metadata": {},
   "source": [
    "# Data is ready for moduling..."
   ]
  },
  {
   "cell_type": "code",
   "execution_count": null,
   "metadata": {},
   "outputs": [],
   "source": []
  }
 ],
 "metadata": {
  "kernelspec": {
   "display_name": "Python 3",
   "language": "python",
   "name": "python3"
  },
  "language_info": {
   "codemirror_mode": {
    "name": "ipython",
    "version": 3
   },
   "file_extension": ".py",
   "mimetype": "text/x-python",
   "name": "python",
   "nbconvert_exporter": "python",
   "pygments_lexer": "ipython3",
   "version": "3.7.6"
  }
 },
 "nbformat": 4,
 "nbformat_minor": 4
}
